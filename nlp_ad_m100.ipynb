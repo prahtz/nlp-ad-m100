{
 "cells": [
  {
   "cell_type": "code",
   "execution_count": 1,
   "metadata": {},
   "outputs": [],
   "source": [
    "%load_ext autoreload\n",
    "%autoreload 2"
   ]
  },
  {
   "cell_type": "code",
   "execution_count": 2,
   "metadata": {},
   "outputs": [],
   "source": [
    "import os\n",
    "\n",
    "os.environ[\"TOKENIZERS_PARALLELISM\"] = \"false\""
   ]
  },
  {
   "cell_type": "markdown",
   "metadata": {},
   "source": [
    "# Introduction\n",
    "Anomaly detection and anticipation is crucial in nowadays and future supercomputers. Previous works demonstrated that applying ML to data collected from computing nodes can lead to good results. However, these approaches do not exploit any information contained in the **names** of the monitored metrics; this side info is implicit in the features of the dataset and it is naturally exploited by humans. The idea of the project is to combine standard ML for time-series and NLP techniques to extract side-information into a single approach, and compare it with the current baseline for anomaly detection. The experiments will be done using data collected from Marconi100 supercomputer, hosted at CINECA.\n"
   ]
  },
  {
   "cell_type": "markdown",
   "metadata": {},
   "source": [
    "## M100 time aggregated dataset\n",
    "We used the time aggregated data collected from the nodes of the rack 0 of the M100 dataset. \n",
    "- Each node has a separate dataset.\n",
    "- A dataset consists of aggregated metrics collected using the IPMI plugin, originally sampled every 20 seconds.\n",
    "- Each metric/feature is aggregated in a time window of 15 minutes, described by the average, standard deviation, minimum and maximum."
   ]
  },
  {
   "cell_type": "markdown",
   "metadata": {},
   "source": [
    "## Metrics/ Features\n",
    "|Metric|Description|Unit (ExaMon)|Unit (doc)|Value type|Sampling period|\n",
    "|------|-----------|-------------|----------|----------|---------------|\n",
    "|ambient|Temperature at the node inlet|degreesC|°C|float|20s (per node)|\n",
    "|dimmX_temp|Temperature of DIMM module n. X. X=0..15|degreesC|°C|int|20s (per node)|\n",
    "|fanX_Y|Speed of the Fan Y in module X. X=0..3, Y=0,1|revolutions|RPM|int|20s (per node)|\n",
    "|fan_disk_power|Power consumption of the disk fan|Watts|W|int|20s (per node)|\n",
    "|gpuX_core_temp|Temperature of the core for the GPU id X. X=0,1,3,4|degreesC|°C|int|20s (per node)|\n",
    "|gpuX_mem_temp|Temperature of the memory for the GPU id X. X=0,1,3,4|degreesC|°C|int|20s (per node)|\n",
    "|gv100cardX|X=0..3|unspecified||int|20s (per node)|\n",
    "|pX_coreY_temp|Temperature of core n. Y in the CPU socket n. X. X=0..1, Y=0..23|degreesC|°C|int|20s (per node)|\n",
    "|pX_io_power|Power consumption for the I/O subsystem for the CPU socket n. X. X=0..1|Watts|W|int|20s (per node)|\n",
    "|pX_mem_power|Power consumption for the memory subsystem for the CPU socket n. X. X=0..1|Watts|W|int|20s (per node)|\n",
    "|pX_power|Power consumption for the CPU socket n. X. X=0..1|Watts|W|int|20s (per node)|\n",
    "|pX_vdd_temp|Temperature of the voltage regulator for the CPU socket n. X. X=0..1|degreesC|°C|int|20s (per node)|\n",
    "|pcie|Temperature at the PCIExpress slots|degreesC|°C|float|20s (per node)|\n",
    "|psX_input_power|Power consumption at the input of power supply n. X. X=0..1|Watts|W|int|20s (per node)|\n",
    "|psX_input_voltag|Voltage at the input of power supply n. X. X=0..1|Volts|V|int|20s (per node)|\n",
    "|psX_output_curre|Current at the output of power supply n. X. X=0..1|Amps|A|int|20s (per node)|\n",
    "|psX_output_volta|Voltage at the output of power supply n. X. X=0..1|Volts|V|float|20s (per node)|\n",
    "|total_power|Total node power consumption|Watts|W|int|20s (per node)|\n"
   ]
  },
  {
   "cell_type": "code",
   "execution_count": 1,
   "metadata": {},
   "outputs": [],
   "source": [
    "from torch.utils.data import Dataset\n",
    "from pathlib import Path\n",
    "import pandas as pd\n",
    "import numpy as np\n",
    "from src.utils.general import create_time_aggregated_descriptions_dict\n",
    "from sklearn.preprocessing import MinMaxScaler\n",
    "\n",
    "\n",
    "class TimeAggregatedNode(Dataset):\n",
    "    def __init__(self, root_path: str, descriptions_path: str, window_size: int = 20, split: str = \"train\"):\n",
    "        self.root_path = Path(root_path)\n",
    "        self.descriptions_path = Path(descriptions_path)\n",
    "        self.window_size = window_size\n",
    "        self.split = split\n",
    "\n",
    "        data = pd.read_parquet(root_path)\n",
    "        descriptions = pd.read_csv(self.descriptions_path, names=[\"name\", \"description\"])\n",
    "        self.descriptions, self.group_dict = create_time_aggregated_descriptions_dict(data, dict(descriptions.values))\n",
    "\n",
    "        # Dropping missing values and data normalization in [0, 1]\n",
    "        data = data.dropna()\n",
    "        data = data.reset_index(drop=True)\n",
    "\n",
    "        train_split_idx = int(len(data) * 0.8)\n",
    "        scaler = MinMaxScaler((0, 1))\n",
    "        scaler.fit(data.iloc[:train_split_idx].drop([\"timestamp\", \"value\"], axis=1).values)\n",
    "\n",
    "        if self.split == \"train\":\n",
    "            data = data.iloc[:train_split_idx].reset_index(drop=True)\n",
    "        elif self.split == \"test\":\n",
    "            data = data.iloc[train_split_idx:].reset_index(drop=True)\n",
    "\n",
    "        self.data, self.timeseries_list = self.preprocess_data(data, scaler)\n",
    "\n",
    "        windows_cumsum = np.array([timeseries.shape[0] - window_size - 1 for timeseries in self.timeseries_list] + [0])\n",
    "        windows_cumsum = np.cumsum(windows_cumsum)\n",
    "        windows_cumsum[-1] = 0\n",
    "        self.windows_cumsum = windows_cumsum\n",
    "\n",
    "    def preprocess_data(self, data: pd.DataFrame, scaler: MinMaxScaler):\n",
    "        data.loc[:, ~data.columns.isin([\"timestamp\", \"value\"])] = scaler.transform(data.drop([\"timestamp\", \"value\"], axis=1).values)\n",
    "        if self.split == \"train\":\n",
    "            data = data.loc[~(data[\"value\"] > 0)].reset_index(drop=True)\n",
    "        # Partition the timeseries in subseries without time gaps bigger than 15 minutes\n",
    "        diffs = dict(data[\"timestamp\"].diff().apply(lambda x: x / np.timedelta64(1, \"m\")).fillna(0).astype(\"int64\"))\n",
    "        large_diffs = {i: diffs[i] for i in diffs.keys() if diffs[i] > 15}\n",
    "        lk = [0] + list(large_diffs.keys()) + [data.shape[0] + 1]\n",
    "        timeseries_list = [data.iloc[lk[n] : lk[n + 1]].drop(\"timestamp\", axis=1) for n in range(len(lk) - 1)]\n",
    "        timeseries_list = [i for i in timeseries_list if i.shape[0] > self.window_size]\n",
    "\n",
    "        return data, timeseries_list\n",
    "\n",
    "    def __len__(self):\n",
    "        return self.windows_cumsum[-2]\n",
    "\n",
    "    def __getitem__(self, idx):\n",
    "        assert idx >= 0\n",
    "        for i in range(len(self.timeseries_list)):\n",
    "            if idx < self.windows_cumsum[i]:\n",
    "                timeseries = self.timeseries_list[i]\n",
    "                window_start_idx = idx - self.windows_cumsum[i - 1]\n",
    "                window = timeseries.iloc[window_start_idx : window_start_idx + self.window_size].to_numpy(np.float32)\n",
    "                x, y, l = window[:, :-1], window[-1, :-1], window[-1, -1]\n",
    "                return x, y, l\n",
    "        raise RuntimeError(\"Index out of range\")\n",
    "\n",
    "\n",
    "root_path = \"data/time-aggregated/17.parquet\"\n",
    "dataset = TimeAggregatedNode(root_path, \"descriptions.csv\", 20)"
   ]
  },
  {
   "cell_type": "code",
   "execution_count": 51,
   "metadata": {},
   "outputs": [
    {
     "data": {
      "text/html": [
       "<div>\n",
       "<style scoped>\n",
       "    .dataframe tbody tr th:only-of-type {\n",
       "        vertical-align: middle;\n",
       "    }\n",
       "\n",
       "    .dataframe tbody tr th {\n",
       "        vertical-align: top;\n",
       "    }\n",
       "\n",
       "    .dataframe thead th {\n",
       "        text-align: right;\n",
       "    }\n",
       "</style>\n",
       "<table border=\"1\" class=\"dataframe\">\n",
       "  <thead>\n",
       "    <tr style=\"text-align: right;\">\n",
       "      <th></th>\n",
       "      <th>timestamp</th>\n",
       "      <th>ambient_avg</th>\n",
       "      <th>ambient_std</th>\n",
       "      <th>ambient_min</th>\n",
       "      <th>ambient_max</th>\n",
       "      <th>dimm0_temp_avg</th>\n",
       "      <th>dimm0_temp_std</th>\n",
       "      <th>dimm0_temp_min</th>\n",
       "      <th>dimm0_temp_max</th>\n",
       "      <th>dimm10_temp_avg</th>\n",
       "      <th>...</th>\n",
       "      <th>ps1_output_curre_max</th>\n",
       "      <th>ps1_output_volta_avg</th>\n",
       "      <th>ps1_output_volta_std</th>\n",
       "      <th>ps1_output_volta_min</th>\n",
       "      <th>ps1_output_volta_max</th>\n",
       "      <th>total_power_avg</th>\n",
       "      <th>total_power_std</th>\n",
       "      <th>total_power_min</th>\n",
       "      <th>total_power_max</th>\n",
       "      <th>value</th>\n",
       "    </tr>\n",
       "  </thead>\n",
       "  <tbody>\n",
       "    <tr>\n",
       "      <th>0</th>\n",
       "      <td>2020-03-09 12:00:00+00:00</td>\n",
       "      <td>23.400002</td>\n",
       "      <td>0.000000</td>\n",
       "      <td>23.4</td>\n",
       "      <td>23.4</td>\n",
       "      <td>30.0</td>\n",
       "      <td>0.0</td>\n",
       "      <td>30.0</td>\n",
       "      <td>30.0</td>\n",
       "      <td>31.0</td>\n",
       "      <td>...</td>\n",
       "      <td>21.0</td>\n",
       "      <td>12.379999</td>\n",
       "      <td>0.040000</td>\n",
       "      <td>12.3</td>\n",
       "      <td>12.4</td>\n",
       "      <td>399.428571</td>\n",
       "      <td>3.331973</td>\n",
       "      <td>380.0</td>\n",
       "      <td>400.0</td>\n",
       "      <td>&lt;NA&gt;</td>\n",
       "    </tr>\n",
       "    <tr>\n",
       "      <th>1</th>\n",
       "      <td>2020-03-09 12:15:00+00:00</td>\n",
       "      <td>23.418751</td>\n",
       "      <td>0.058296</td>\n",
       "      <td>23.4</td>\n",
       "      <td>23.6</td>\n",
       "      <td>30.0</td>\n",
       "      <td>0.0</td>\n",
       "      <td>30.0</td>\n",
       "      <td>30.0</td>\n",
       "      <td>31.0</td>\n",
       "      <td>...</td>\n",
       "      <td>21.0</td>\n",
       "      <td>12.378124</td>\n",
       "      <td>0.041340</td>\n",
       "      <td>12.3</td>\n",
       "      <td>12.4</td>\n",
       "      <td>399.375000</td>\n",
       "      <td>3.479853</td>\n",
       "      <td>380.0</td>\n",
       "      <td>400.0</td>\n",
       "      <td>&lt;NA&gt;</td>\n",
       "    </tr>\n",
       "    <tr>\n",
       "      <th>2</th>\n",
       "      <td>2020-03-09 12:30:00+00:00</td>\n",
       "      <td>23.405558</td>\n",
       "      <td>0.032867</td>\n",
       "      <td>23.4</td>\n",
       "      <td>23.6</td>\n",
       "      <td>30.0</td>\n",
       "      <td>0.0</td>\n",
       "      <td>30.0</td>\n",
       "      <td>30.0</td>\n",
       "      <td>31.0</td>\n",
       "      <td>...</td>\n",
       "      <td>21.0</td>\n",
       "      <td>12.377777</td>\n",
       "      <td>0.041574</td>\n",
       "      <td>12.3</td>\n",
       "      <td>12.4</td>\n",
       "      <td>400.000000</td>\n",
       "      <td>0.000000</td>\n",
       "      <td>400.0</td>\n",
       "      <td>400.0</td>\n",
       "      <td>&lt;NA&gt;</td>\n",
       "    </tr>\n",
       "    <tr>\n",
       "      <th>3</th>\n",
       "      <td>2020-03-09 12:45:00+00:00</td>\n",
       "      <td>23.447368</td>\n",
       "      <td>0.085029</td>\n",
       "      <td>23.4</td>\n",
       "      <td>23.6</td>\n",
       "      <td>30.0</td>\n",
       "      <td>0.0</td>\n",
       "      <td>30.0</td>\n",
       "      <td>30.0</td>\n",
       "      <td>31.0</td>\n",
       "      <td>...</td>\n",
       "      <td>21.0</td>\n",
       "      <td>12.378946</td>\n",
       "      <td>0.040768</td>\n",
       "      <td>12.3</td>\n",
       "      <td>12.4</td>\n",
       "      <td>400.000000</td>\n",
       "      <td>0.000000</td>\n",
       "      <td>400.0</td>\n",
       "      <td>400.0</td>\n",
       "      <td>&lt;NA&gt;</td>\n",
       "    </tr>\n",
       "    <tr>\n",
       "      <th>4</th>\n",
       "      <td>2020-03-09 13:00:00+00:00</td>\n",
       "      <td>23.417779</td>\n",
       "      <td>0.056917</td>\n",
       "      <td>23.4</td>\n",
       "      <td>23.6</td>\n",
       "      <td>30.0</td>\n",
       "      <td>0.0</td>\n",
       "      <td>30.0</td>\n",
       "      <td>30.0</td>\n",
       "      <td>31.0</td>\n",
       "      <td>...</td>\n",
       "      <td>21.0</td>\n",
       "      <td>12.384446</td>\n",
       "      <td>0.036243</td>\n",
       "      <td>12.3</td>\n",
       "      <td>12.4</td>\n",
       "      <td>399.111111</td>\n",
       "      <td>4.121608</td>\n",
       "      <td>380.0</td>\n",
       "      <td>400.0</td>\n",
       "      <td>&lt;NA&gt;</td>\n",
       "    </tr>\n",
       "  </tbody>\n",
       "</table>\n",
       "<p>5 rows × 354 columns</p>\n",
       "</div>"
      ],
      "text/plain": [
       "                  timestamp  ambient_avg  ambient_std  ambient_min  \\\n",
       "0 2020-03-09 12:00:00+00:00    23.400002     0.000000         23.4   \n",
       "1 2020-03-09 12:15:00+00:00    23.418751     0.058296         23.4   \n",
       "2 2020-03-09 12:30:00+00:00    23.405558     0.032867         23.4   \n",
       "3 2020-03-09 12:45:00+00:00    23.447368     0.085029         23.4   \n",
       "4 2020-03-09 13:00:00+00:00    23.417779     0.056917         23.4   \n",
       "\n",
       "   ambient_max  dimm0_temp_avg  dimm0_temp_std  dimm0_temp_min  \\\n",
       "0         23.4            30.0             0.0            30.0   \n",
       "1         23.6            30.0             0.0            30.0   \n",
       "2         23.6            30.0             0.0            30.0   \n",
       "3         23.6            30.0             0.0            30.0   \n",
       "4         23.6            30.0             0.0            30.0   \n",
       "\n",
       "   dimm0_temp_max  dimm10_temp_avg  ...  ps1_output_curre_max  \\\n",
       "0            30.0             31.0  ...                  21.0   \n",
       "1            30.0             31.0  ...                  21.0   \n",
       "2            30.0             31.0  ...                  21.0   \n",
       "3            30.0             31.0  ...                  21.0   \n",
       "4            30.0             31.0  ...                  21.0   \n",
       "\n",
       "   ps1_output_volta_avg  ps1_output_volta_std  ps1_output_volta_min  \\\n",
       "0             12.379999              0.040000                  12.3   \n",
       "1             12.378124              0.041340                  12.3   \n",
       "2             12.377777              0.041574                  12.3   \n",
       "3             12.378946              0.040768                  12.3   \n",
       "4             12.384446              0.036243                  12.3   \n",
       "\n",
       "   ps1_output_volta_max  total_power_avg  total_power_std  total_power_min  \\\n",
       "0                  12.4       399.428571         3.331973            380.0   \n",
       "1                  12.4       399.375000         3.479853            380.0   \n",
       "2                  12.4       400.000000         0.000000            400.0   \n",
       "3                  12.4       400.000000         0.000000            400.0   \n",
       "4                  12.4       399.111111         4.121608            380.0   \n",
       "\n",
       "   total_power_max  value  \n",
       "0            400.0   <NA>  \n",
       "1            400.0   <NA>  \n",
       "2            400.0   <NA>  \n",
       "3            400.0   <NA>  \n",
       "4            400.0   <NA>  \n",
       "\n",
       "[5 rows x 354 columns]"
      ]
     },
     "execution_count": 51,
     "metadata": {},
     "output_type": "execute_result"
    }
   ],
   "source": [
    "data = pd.read_parquet(root_path)\n",
    "data.head()"
   ]
  },
  {
   "cell_type": "code",
   "execution_count": 52,
   "metadata": {},
   "outputs": [
    {
     "data": {
      "text/html": [
       "<div>\n",
       "<style scoped>\n",
       "    .dataframe tbody tr th:only-of-type {\n",
       "        vertical-align: middle;\n",
       "    }\n",
       "\n",
       "    .dataframe tbody tr th {\n",
       "        vertical-align: top;\n",
       "    }\n",
       "\n",
       "    .dataframe thead th {\n",
       "        text-align: right;\n",
       "    }\n",
       "</style>\n",
       "<table border=\"1\" class=\"dataframe\">\n",
       "  <thead>\n",
       "    <tr style=\"text-align: right;\">\n",
       "      <th></th>\n",
       "      <th>timestamp</th>\n",
       "      <th>ambient_avg</th>\n",
       "      <th>ambient_std</th>\n",
       "      <th>ambient_min</th>\n",
       "      <th>ambient_max</th>\n",
       "      <th>dimm0_temp_avg</th>\n",
       "      <th>dimm0_temp_std</th>\n",
       "      <th>dimm0_temp_min</th>\n",
       "      <th>dimm0_temp_max</th>\n",
       "      <th>dimm10_temp_avg</th>\n",
       "      <th>...</th>\n",
       "      <th>ps1_output_curre_max</th>\n",
       "      <th>ps1_output_volta_avg</th>\n",
       "      <th>ps1_output_volta_std</th>\n",
       "      <th>ps1_output_volta_min</th>\n",
       "      <th>ps1_output_volta_max</th>\n",
       "      <th>total_power_avg</th>\n",
       "      <th>total_power_std</th>\n",
       "      <th>total_power_min</th>\n",
       "      <th>total_power_max</th>\n",
       "      <th>value</th>\n",
       "    </tr>\n",
       "  </thead>\n",
       "  <tbody>\n",
       "    <tr>\n",
       "      <th>0</th>\n",
       "      <td>2020-05-11 14:45:00+00:00</td>\n",
       "      <td>21.907693</td>\n",
       "      <td>0.099704</td>\n",
       "      <td>21.799999</td>\n",
       "      <td>22.000000</td>\n",
       "      <td>29.0</td>\n",
       "      <td>0.0</td>\n",
       "      <td>29.0</td>\n",
       "      <td>29.0</td>\n",
       "      <td>29.000</td>\n",
       "      <td>...</td>\n",
       "      <td>21.0</td>\n",
       "      <td>12.387178</td>\n",
       "      <td>0.033432</td>\n",
       "      <td>12.3</td>\n",
       "      <td>12.4</td>\n",
       "      <td>396.410256</td>\n",
       "      <td>7.675195</td>\n",
       "      <td>380.0</td>\n",
       "      <td>400.0</td>\n",
       "      <td>0</td>\n",
       "    </tr>\n",
       "    <tr>\n",
       "      <th>1</th>\n",
       "      <td>2020-05-11 17:45:00+00:00</td>\n",
       "      <td>21.953848</td>\n",
       "      <td>0.084265</td>\n",
       "      <td>21.799999</td>\n",
       "      <td>22.000000</td>\n",
       "      <td>29.0</td>\n",
       "      <td>0.0</td>\n",
       "      <td>29.0</td>\n",
       "      <td>29.0</td>\n",
       "      <td>29.000</td>\n",
       "      <td>...</td>\n",
       "      <td>21.0</td>\n",
       "      <td>12.376924</td>\n",
       "      <td>0.042132</td>\n",
       "      <td>12.3</td>\n",
       "      <td>12.4</td>\n",
       "      <td>395.384615</td>\n",
       "      <td>8.426501</td>\n",
       "      <td>380.0</td>\n",
       "      <td>400.0</td>\n",
       "      <td>0</td>\n",
       "    </tr>\n",
       "    <tr>\n",
       "      <th>2</th>\n",
       "      <td>2020-05-11 18:00:00+00:00</td>\n",
       "      <td>22.000000</td>\n",
       "      <td>0.000000</td>\n",
       "      <td>22.000000</td>\n",
       "      <td>22.000000</td>\n",
       "      <td>29.0</td>\n",
       "      <td>0.0</td>\n",
       "      <td>29.0</td>\n",
       "      <td>29.0</td>\n",
       "      <td>29.000</td>\n",
       "      <td>...</td>\n",
       "      <td>21.0</td>\n",
       "      <td>12.380488</td>\n",
       "      <td>0.039629</td>\n",
       "      <td>12.3</td>\n",
       "      <td>12.4</td>\n",
       "      <td>397.560976</td>\n",
       "      <td>6.544589</td>\n",
       "      <td>380.0</td>\n",
       "      <td>400.0</td>\n",
       "      <td>0</td>\n",
       "    </tr>\n",
       "    <tr>\n",
       "      <th>3</th>\n",
       "      <td>2020-05-11 18:15:00+00:00</td>\n",
       "      <td>22.126828</td>\n",
       "      <td>0.096334</td>\n",
       "      <td>22.000000</td>\n",
       "      <td>22.200001</td>\n",
       "      <td>29.0</td>\n",
       "      <td>0.0</td>\n",
       "      <td>29.0</td>\n",
       "      <td>29.0</td>\n",
       "      <td>29.000</td>\n",
       "      <td>...</td>\n",
       "      <td>21.0</td>\n",
       "      <td>12.368292</td>\n",
       "      <td>0.046533</td>\n",
       "      <td>12.3</td>\n",
       "      <td>12.4</td>\n",
       "      <td>399.024390</td>\n",
       "      <td>4.308176</td>\n",
       "      <td>380.0</td>\n",
       "      <td>400.0</td>\n",
       "      <td>0</td>\n",
       "    </tr>\n",
       "    <tr>\n",
       "      <th>4</th>\n",
       "      <td>2020-05-11 18:30:00+00:00</td>\n",
       "      <td>22.215001</td>\n",
       "      <td>0.052678</td>\n",
       "      <td>22.200001</td>\n",
       "      <td>22.400000</td>\n",
       "      <td>29.0</td>\n",
       "      <td>0.0</td>\n",
       "      <td>29.0</td>\n",
       "      <td>29.0</td>\n",
       "      <td>29.875</td>\n",
       "      <td>...</td>\n",
       "      <td>22.0</td>\n",
       "      <td>12.375000</td>\n",
       "      <td>0.043301</td>\n",
       "      <td>12.3</td>\n",
       "      <td>12.4</td>\n",
       "      <td>397.000000</td>\n",
       "      <td>7.141428</td>\n",
       "      <td>380.0</td>\n",
       "      <td>400.0</td>\n",
       "      <td>0</td>\n",
       "    </tr>\n",
       "  </tbody>\n",
       "</table>\n",
       "<p>5 rows × 354 columns</p>\n",
       "</div>"
      ],
      "text/plain": [
       "                  timestamp  ambient_avg  ambient_std  ambient_min  \\\n",
       "0 2020-05-11 14:45:00+00:00    21.907693     0.099704    21.799999   \n",
       "1 2020-05-11 17:45:00+00:00    21.953848     0.084265    21.799999   \n",
       "2 2020-05-11 18:00:00+00:00    22.000000     0.000000    22.000000   \n",
       "3 2020-05-11 18:15:00+00:00    22.126828     0.096334    22.000000   \n",
       "4 2020-05-11 18:30:00+00:00    22.215001     0.052678    22.200001   \n",
       "\n",
       "   ambient_max  dimm0_temp_avg  dimm0_temp_std  dimm0_temp_min  \\\n",
       "0    22.000000            29.0             0.0            29.0   \n",
       "1    22.000000            29.0             0.0            29.0   \n",
       "2    22.000000            29.0             0.0            29.0   \n",
       "3    22.200001            29.0             0.0            29.0   \n",
       "4    22.400000            29.0             0.0            29.0   \n",
       "\n",
       "   dimm0_temp_max  dimm10_temp_avg  ...  ps1_output_curre_max  \\\n",
       "0            29.0           29.000  ...                  21.0   \n",
       "1            29.0           29.000  ...                  21.0   \n",
       "2            29.0           29.000  ...                  21.0   \n",
       "3            29.0           29.000  ...                  21.0   \n",
       "4            29.0           29.875  ...                  22.0   \n",
       "\n",
       "   ps1_output_volta_avg  ps1_output_volta_std  ps1_output_volta_min  \\\n",
       "0             12.387178              0.033432                  12.3   \n",
       "1             12.376924              0.042132                  12.3   \n",
       "2             12.380488              0.039629                  12.3   \n",
       "3             12.368292              0.046533                  12.3   \n",
       "4             12.375000              0.043301                  12.3   \n",
       "\n",
       "   ps1_output_volta_max  total_power_avg  total_power_std  total_power_min  \\\n",
       "0                  12.4       396.410256         7.675195            380.0   \n",
       "1                  12.4       395.384615         8.426501            380.0   \n",
       "2                  12.4       397.560976         6.544589            380.0   \n",
       "3                  12.4       399.024390         4.308176            380.0   \n",
       "4                  12.4       397.000000         7.141428            380.0   \n",
       "\n",
       "   total_power_max  value  \n",
       "0            400.0      0  \n",
       "1            400.0      0  \n",
       "2            400.0      0  \n",
       "3            400.0      0  \n",
       "4            400.0      0  \n",
       "\n",
       "[5 rows x 354 columns]"
      ]
     },
     "execution_count": 52,
     "metadata": {},
     "output_type": "execute_result"
    }
   ],
   "source": [
    "data_na = data.dropna()\n",
    "data_na = data_na.reset_index(drop=True)\n",
    "data_na.head()"
   ]
  },
  {
   "cell_type": "code",
   "execution_count": 99,
   "metadata": {},
   "outputs": [
    {
     "data": {
      "image/png": "[encoded data removed]",
      "text/plain": [
       "<Figure size 1000x700 with 1 Axes>"
      ]
     },
     "metadata": {},
     "output_type": "display_data"
    }
   ],
   "source": [
    "import matplotlib.pyplot as plt\n",
    "\n",
    "tot_timestamp = pd.date_range(start=data.timestamp[0], end=data.timestamp[len(data) - 1], freq=pd.offsets.Minute(15))\n",
    "data_fill = data_na.set_index(data_na.timestamp).reindex(pd.DatetimeIndex(tot_timestamp), fill_value=np.nan)\n",
    "plt.figure(figsize=(10, 7))\n",
    "plt.plot(tot_timestamp, data_fill.ambient_avg.to_numpy(np.float32, na_value=np.nan))\n",
    "plt.show()"
   ]
  },
  {
   "cell_type": "code",
   "execution_count": 100,
   "metadata": {},
   "outputs": [
    {
     "data": {
      "text/html": [
       "<div>\n",
       "<style scoped>\n",
       "    .dataframe tbody tr th:only-of-type {\n",
       "        vertical-align: middle;\n",
       "    }\n",
       "\n",
       "    .dataframe tbody tr th {\n",
       "        vertical-align: top;\n",
       "    }\n",
       "\n",
       "    .dataframe thead th {\n",
       "        text-align: right;\n",
       "    }\n",
       "</style>\n",
       "<table border=\"1\" class=\"dataframe\">\n",
       "  <thead>\n",
       "    <tr style=\"text-align: right;\">\n",
       "      <th></th>\n",
       "      <th>timestamp</th>\n",
       "      <th>ambient_avg</th>\n",
       "      <th>ambient_std</th>\n",
       "      <th>ambient_min</th>\n",
       "      <th>ambient_max</th>\n",
       "      <th>dimm0_temp_avg</th>\n",
       "      <th>dimm0_temp_std</th>\n",
       "      <th>dimm0_temp_min</th>\n",
       "      <th>dimm0_temp_max</th>\n",
       "      <th>dimm10_temp_avg</th>\n",
       "      <th>...</th>\n",
       "      <th>ps1_output_curre_max</th>\n",
       "      <th>ps1_output_volta_avg</th>\n",
       "      <th>ps1_output_volta_std</th>\n",
       "      <th>ps1_output_volta_min</th>\n",
       "      <th>ps1_output_volta_max</th>\n",
       "      <th>total_power_avg</th>\n",
       "      <th>total_power_std</th>\n",
       "      <th>total_power_min</th>\n",
       "      <th>total_power_max</th>\n",
       "      <th>value</th>\n",
       "    </tr>\n",
       "  </thead>\n",
       "  <tbody>\n",
       "    <tr>\n",
       "      <th>0</th>\n",
       "      <td>2020-05-11 14:45:00+00:00</td>\n",
       "      <td>0.092806</td>\n",
       "      <td>0.029481</td>\n",
       "      <td>0.123967</td>\n",
       "      <td>0.070922</td>\n",
       "      <td>0.139752</td>\n",
       "      <td>0.0</td>\n",
       "      <td>0.15</td>\n",
       "      <td>0.125</td>\n",
       "      <td>0.072776</td>\n",
       "      <td>...</td>\n",
       "      <td>0.318182</td>\n",
       "      <td>0.998966</td>\n",
       "      <td>0.005456</td>\n",
       "      <td>0.991936</td>\n",
       "      <td>1.0</td>\n",
       "      <td>0.055270</td>\n",
       "      <td>0.017558</td>\n",
       "      <td>0.142857</td>\n",
       "      <td>0.034483</td>\n",
       "      <td>0</td>\n",
       "    </tr>\n",
       "    <tr>\n",
       "      <th>1</th>\n",
       "      <td>2020-05-11 17:45:00+00:00</td>\n",
       "      <td>0.094603</td>\n",
       "      <td>0.024916</td>\n",
       "      <td>0.123967</td>\n",
       "      <td>0.070922</td>\n",
       "      <td>0.139752</td>\n",
       "      <td>0.0</td>\n",
       "      <td>0.15</td>\n",
       "      <td>0.125</td>\n",
       "      <td>0.072776</td>\n",
       "      <td>...</td>\n",
       "      <td>0.318182</td>\n",
       "      <td>0.998139</td>\n",
       "      <td>0.006876</td>\n",
       "      <td>0.991936</td>\n",
       "      <td>1.0</td>\n",
       "      <td>0.053733</td>\n",
       "      <td>0.019276</td>\n",
       "      <td>0.142857</td>\n",
       "      <td>0.034483</td>\n",
       "      <td>0</td>\n",
       "    </tr>\n",
       "    <tr>\n",
       "      <th>2</th>\n",
       "      <td>2020-05-11 18:00:00+00:00</td>\n",
       "      <td>0.096400</td>\n",
       "      <td>0.000000</td>\n",
       "      <td>0.132231</td>\n",
       "      <td>0.070922</td>\n",
       "      <td>0.139752</td>\n",
       "      <td>0.0</td>\n",
       "      <td>0.15</td>\n",
       "      <td>0.125</td>\n",
       "      <td>0.072776</td>\n",
       "      <td>...</td>\n",
       "      <td>0.318182</td>\n",
       "      <td>0.998426</td>\n",
       "      <td>0.006467</td>\n",
       "      <td>0.991936</td>\n",
       "      <td>1.0</td>\n",
       "      <td>0.056993</td>\n",
       "      <td>0.014971</td>\n",
       "      <td>0.142857</td>\n",
       "      <td>0.034483</td>\n",
       "      <td>0</td>\n",
       "    </tr>\n",
       "    <tr>\n",
       "      <th>3</th>\n",
       "      <td>2020-05-11 18:15:00+00:00</td>\n",
       "      <td>0.101339</td>\n",
       "      <td>0.028485</td>\n",
       "      <td>0.132231</td>\n",
       "      <td>0.078014</td>\n",
       "      <td>0.139752</td>\n",
       "      <td>0.0</td>\n",
       "      <td>0.15</td>\n",
       "      <td>0.125</td>\n",
       "      <td>0.072776</td>\n",
       "      <td>...</td>\n",
       "      <td>0.318182</td>\n",
       "      <td>0.997443</td>\n",
       "      <td>0.007594</td>\n",
       "      <td>0.991936</td>\n",
       "      <td>1.0</td>\n",
       "      <td>0.059186</td>\n",
       "      <td>0.009855</td>\n",
       "      <td>0.142857</td>\n",
       "      <td>0.034483</td>\n",
       "      <td>0</td>\n",
       "    </tr>\n",
       "    <tr>\n",
       "      <th>4</th>\n",
       "      <td>2020-05-11 18:30:00+00:00</td>\n",
       "      <td>0.104773</td>\n",
       "      <td>0.015576</td>\n",
       "      <td>0.140496</td>\n",
       "      <td>0.085106</td>\n",
       "      <td>0.139752</td>\n",
       "      <td>0.0</td>\n",
       "      <td>0.15</td>\n",
       "      <td>0.125</td>\n",
       "      <td>0.115229</td>\n",
       "      <td>...</td>\n",
       "      <td>0.333333</td>\n",
       "      <td>0.997984</td>\n",
       "      <td>0.007066</td>\n",
       "      <td>0.991936</td>\n",
       "      <td>1.0</td>\n",
       "      <td>0.056153</td>\n",
       "      <td>0.016337</td>\n",
       "      <td>0.142857</td>\n",
       "      <td>0.034483</td>\n",
       "      <td>0</td>\n",
       "    </tr>\n",
       "  </tbody>\n",
       "</table>\n",
       "<p>5 rows × 354 columns</p>\n",
       "</div>"
      ],
      "text/plain": [
       "                  timestamp  ambient_avg  ambient_std  ambient_min  \\\n",
       "0 2020-05-11 14:45:00+00:00     0.092806     0.029481     0.123967   \n",
       "1 2020-05-11 17:45:00+00:00     0.094603     0.024916     0.123967   \n",
       "2 2020-05-11 18:00:00+00:00     0.096400     0.000000     0.132231   \n",
       "3 2020-05-11 18:15:00+00:00     0.101339     0.028485     0.132231   \n",
       "4 2020-05-11 18:30:00+00:00     0.104773     0.015576     0.140496   \n",
       "\n",
       "   ambient_max  dimm0_temp_avg  dimm0_temp_std  dimm0_temp_min  \\\n",
       "0     0.070922        0.139752             0.0            0.15   \n",
       "1     0.070922        0.139752             0.0            0.15   \n",
       "2     0.070922        0.139752             0.0            0.15   \n",
       "3     0.078014        0.139752             0.0            0.15   \n",
       "4     0.085106        0.139752             0.0            0.15   \n",
       "\n",
       "   dimm0_temp_max  dimm10_temp_avg  ...  ps1_output_curre_max  \\\n",
       "0           0.125         0.072776  ...              0.318182   \n",
       "1           0.125         0.072776  ...              0.318182   \n",
       "2           0.125         0.072776  ...              0.318182   \n",
       "3           0.125         0.072776  ...              0.318182   \n",
       "4           0.125         0.115229  ...              0.333333   \n",
       "\n",
       "   ps1_output_volta_avg  ps1_output_volta_std  ps1_output_volta_min  \\\n",
       "0              0.998966              0.005456              0.991936   \n",
       "1              0.998139              0.006876              0.991936   \n",
       "2              0.998426              0.006467              0.991936   \n",
       "3              0.997443              0.007594              0.991936   \n",
       "4              0.997984              0.007066              0.991936   \n",
       "\n",
       "   ps1_output_volta_max  total_power_avg  total_power_std  total_power_min  \\\n",
       "0                   1.0         0.055270         0.017558         0.142857   \n",
       "1                   1.0         0.053733         0.019276         0.142857   \n",
       "2                   1.0         0.056993         0.014971         0.142857   \n",
       "3                   1.0         0.059186         0.009855         0.142857   \n",
       "4                   1.0         0.056153         0.016337         0.142857   \n",
       "\n",
       "   total_power_max  value  \n",
       "0         0.034483      0  \n",
       "1         0.034483      0  \n",
       "2         0.034483      0  \n",
       "3         0.034483      0  \n",
       "4         0.034483      0  \n",
       "\n",
       "[5 rows x 354 columns]"
      ]
     },
     "execution_count": 100,
     "metadata": {},
     "output_type": "execute_result"
    }
   ],
   "source": [
    "train_split_idx = int(len(data_na) * 0.8)\n",
    "scaler = MinMaxScaler((0, 1))\n",
    "scaler.fit(data_na.iloc[:train_split_idx].drop([\"timestamp\", \"value\"], axis=1).values)\n",
    "data_na.loc[:, ~data_na.columns.isin([\"timestamp\", \"value\"])] = scaler.transform(data_na.drop([\"timestamp\", \"value\"], axis=1).values)\n",
    "data_na.head()"
   ]
  },
  {
   "cell_type": "code",
   "execution_count": 102,
   "metadata": {},
   "outputs": [],
   "source": [
    "window_size = 10\n",
    "diffs = dict(data_na[\"timestamp\"].diff().apply(lambda x: x / np.timedelta64(1, \"m\")).fillna(0).astype(\"int64\"))\n",
    "large_diffs = {i: diffs[i] for i in diffs.keys() if diffs[i] > 15}\n",
    "lk = [0] + list(large_diffs.keys()) + [data_na.shape[0] + 1]\n",
    "timeseries_list = [data_na.iloc[lk[n] : lk[n + 1]].drop(\"timestamp\", axis=1) for n in range(len(lk) - 1)]\n",
    "timeseries_list = [i for i in timeseries_list if i.shape[0] > window_size]\n",
    "\n",
    "windows_cumsum = np.array([timeseries.shape[0] - window_size - 1 for timeseries in timeseries_list] + [0])\n",
    "windows_cumsum = np.cumsum(windows_cumsum)\n",
    "windows_cumsum[-1] = 0"
   ]
  },
  {
   "cell_type": "code",
   "execution_count": 110,
   "metadata": {},
   "outputs": [
    {
     "data": {
      "text/html": [
       "<div>\n",
       "<style scoped>\n",
       "    .dataframe tbody tr th:only-of-type {\n",
       "        vertical-align: middle;\n",
       "    }\n",
       "\n",
       "    .dataframe tbody tr th {\n",
       "        vertical-align: top;\n",
       "    }\n",
       "\n",
       "    .dataframe thead th {\n",
       "        text-align: right;\n",
       "    }\n",
       "</style>\n",
       "<table border=\"1\" class=\"dataframe\">\n",
       "  <thead>\n",
       "    <tr style=\"text-align: right;\">\n",
       "      <th></th>\n",
       "      <th>ambient_avg</th>\n",
       "      <th>ambient_std</th>\n",
       "      <th>ambient_min</th>\n",
       "      <th>ambient_max</th>\n",
       "      <th>dimm0_temp_avg</th>\n",
       "      <th>dimm0_temp_std</th>\n",
       "      <th>dimm0_temp_min</th>\n",
       "      <th>dimm0_temp_max</th>\n",
       "      <th>dimm10_temp_avg</th>\n",
       "      <th>dimm10_temp_std</th>\n",
       "      <th>...</th>\n",
       "      <th>ps1_output_curre_max</th>\n",
       "      <th>ps1_output_volta_avg</th>\n",
       "      <th>ps1_output_volta_std</th>\n",
       "      <th>ps1_output_volta_min</th>\n",
       "      <th>ps1_output_volta_max</th>\n",
       "      <th>total_power_avg</th>\n",
       "      <th>total_power_std</th>\n",
       "      <th>total_power_min</th>\n",
       "      <th>total_power_max</th>\n",
       "      <th>value</th>\n",
       "    </tr>\n",
       "  </thead>\n",
       "  <tbody>\n",
       "    <tr>\n",
       "      <th>6</th>\n",
       "      <td>0.107673</td>\n",
       "      <td>0.029404</td>\n",
       "      <td>0.140496</td>\n",
       "      <td>0.085106</td>\n",
       "      <td>0.139752</td>\n",
       "      <td>0.0</td>\n",
       "      <td>0.15</td>\n",
       "      <td>0.125</td>\n",
       "      <td>0.121294</td>\n",
       "      <td>0.000000</td>\n",
       "      <td>...</td>\n",
       "      <td>0.333333</td>\n",
       "      <td>0.998302</td>\n",
       "      <td>0.006653</td>\n",
       "      <td>0.991936</td>\n",
       "      <td>1.0</td>\n",
       "      <td>0.058282</td>\n",
       "      <td>0.012337</td>\n",
       "      <td>0.142857</td>\n",
       "      <td>0.034483</td>\n",
       "      <td>0</td>\n",
       "    </tr>\n",
       "    <tr>\n",
       "      <th>7</th>\n",
       "      <td>0.105301</td>\n",
       "      <td>0.020694</td>\n",
       "      <td>0.140496</td>\n",
       "      <td>0.085106</td>\n",
       "      <td>0.139752</td>\n",
       "      <td>0.0</td>\n",
       "      <td>0.15</td>\n",
       "      <td>0.125</td>\n",
       "      <td>0.118983</td>\n",
       "      <td>0.084134</td>\n",
       "      <td>...</td>\n",
       "      <td>0.318182</td>\n",
       "      <td>0.997120</td>\n",
       "      <td>0.007819</td>\n",
       "      <td>0.991936</td>\n",
       "      <td>1.0</td>\n",
       "      <td>0.059934</td>\n",
       "      <td>0.012179</td>\n",
       "      <td>0.142857</td>\n",
       "      <td>0.051724</td>\n",
       "      <td>0</td>\n",
       "    </tr>\n",
       "    <tr>\n",
       "      <th>8</th>\n",
       "      <td>0.111392</td>\n",
       "      <td>0.015576</td>\n",
       "      <td>0.140496</td>\n",
       "      <td>0.085106</td>\n",
       "      <td>0.139752</td>\n",
       "      <td>0.0</td>\n",
       "      <td>0.15</td>\n",
       "      <td>0.125</td>\n",
       "      <td>0.121294</td>\n",
       "      <td>0.000000</td>\n",
       "      <td>...</td>\n",
       "      <td>0.318182</td>\n",
       "      <td>0.997984</td>\n",
       "      <td>0.007066</td>\n",
       "      <td>0.991936</td>\n",
       "      <td>1.0</td>\n",
       "      <td>0.057651</td>\n",
       "      <td>0.013726</td>\n",
       "      <td>0.142857</td>\n",
       "      <td>0.034483</td>\n",
       "      <td>0</td>\n",
       "    </tr>\n",
       "    <tr>\n",
       "      <th>9</th>\n",
       "      <td>0.111049</td>\n",
       "      <td>0.019151</td>\n",
       "      <td>0.140496</td>\n",
       "      <td>0.085106</td>\n",
       "      <td>0.139752</td>\n",
       "      <td>0.0</td>\n",
       "      <td>0.15</td>\n",
       "      <td>0.125</td>\n",
       "      <td>0.121294</td>\n",
       "      <td>0.000000</td>\n",
       "      <td>...</td>\n",
       "      <td>0.318182</td>\n",
       "      <td>0.997120</td>\n",
       "      <td>0.007819</td>\n",
       "      <td>0.991936</td>\n",
       "      <td>1.0</td>\n",
       "      <td>0.057080</td>\n",
       "      <td>0.014816</td>\n",
       "      <td>0.142857</td>\n",
       "      <td>0.034483</td>\n",
       "      <td>0</td>\n",
       "    </tr>\n",
       "    <tr>\n",
       "      <th>10</th>\n",
       "      <td>0.111252</td>\n",
       "      <td>0.017177</td>\n",
       "      <td>0.140496</td>\n",
       "      <td>0.085106</td>\n",
       "      <td>0.139752</td>\n",
       "      <td>0.0</td>\n",
       "      <td>0.15</td>\n",
       "      <td>0.125</td>\n",
       "      <td>0.121294</td>\n",
       "      <td>0.000000</td>\n",
       "      <td>...</td>\n",
       "      <td>0.318182</td>\n",
       "      <td>0.997937</td>\n",
       "      <td>0.007120</td>\n",
       "      <td>0.991936</td>\n",
       "      <td>1.0</td>\n",
       "      <td>0.057860</td>\n",
       "      <td>0.013289</td>\n",
       "      <td>0.142857</td>\n",
       "      <td>0.034483</td>\n",
       "      <td>0</td>\n",
       "    </tr>\n",
       "    <tr>\n",
       "      <th>11</th>\n",
       "      <td>0.111787</td>\n",
       "      <td>0.009122</td>\n",
       "      <td>0.140496</td>\n",
       "      <td>0.085106</td>\n",
       "      <td>0.139752</td>\n",
       "      <td>0.0</td>\n",
       "      <td>0.15</td>\n",
       "      <td>0.125</td>\n",
       "      <td>0.121294</td>\n",
       "      <td>0.000000</td>\n",
       "      <td>...</td>\n",
       "      <td>0.318182</td>\n",
       "      <td>0.998230</td>\n",
       "      <td>0.006755</td>\n",
       "      <td>0.991936</td>\n",
       "      <td>1.0</td>\n",
       "      <td>0.059186</td>\n",
       "      <td>0.009855</td>\n",
       "      <td>0.142857</td>\n",
       "      <td>0.034483</td>\n",
       "      <td>0</td>\n",
       "    </tr>\n",
       "    <tr>\n",
       "      <th>12</th>\n",
       "      <td>0.108557</td>\n",
       "      <td>0.029348</td>\n",
       "      <td>0.140496</td>\n",
       "      <td>0.085106</td>\n",
       "      <td>0.139752</td>\n",
       "      <td>0.0</td>\n",
       "      <td>0.15</td>\n",
       "      <td>0.125</td>\n",
       "      <td>0.121294</td>\n",
       "      <td>0.000000</td>\n",
       "      <td>...</td>\n",
       "      <td>0.318182</td>\n",
       "      <td>0.998033</td>\n",
       "      <td>0.007008</td>\n",
       "      <td>0.991936</td>\n",
       "      <td>1.0</td>\n",
       "      <td>0.056993</td>\n",
       "      <td>0.014971</td>\n",
       "      <td>0.142857</td>\n",
       "      <td>0.034483</td>\n",
       "      <td>0</td>\n",
       "    </tr>\n",
       "    <tr>\n",
       "      <th>13</th>\n",
       "      <td>0.111772</td>\n",
       "      <td>0.009466</td>\n",
       "      <td>0.140496</td>\n",
       "      <td>0.085106</td>\n",
       "      <td>0.139752</td>\n",
       "      <td>0.0</td>\n",
       "      <td>0.15</td>\n",
       "      <td>0.125</td>\n",
       "      <td>0.121294</td>\n",
       "      <td>0.000000</td>\n",
       "      <td>...</td>\n",
       "      <td>0.318182</td>\n",
       "      <td>0.997878</td>\n",
       "      <td>0.007186</td>\n",
       "      <td>0.991936</td>\n",
       "      <td>1.0</td>\n",
       "      <td>0.059859</td>\n",
       "      <td>0.007324</td>\n",
       "      <td>0.142857</td>\n",
       "      <td>0.034483</td>\n",
       "      <td>0</td>\n",
       "    </tr>\n",
       "    <tr>\n",
       "      <th>14</th>\n",
       "      <td>0.111977</td>\n",
       "      <td>0.000000</td>\n",
       "      <td>0.148760</td>\n",
       "      <td>0.085106</td>\n",
       "      <td>0.139752</td>\n",
       "      <td>0.0</td>\n",
       "      <td>0.15</td>\n",
       "      <td>0.125</td>\n",
       "      <td>0.121294</td>\n",
       "      <td>0.000000</td>\n",
       "      <td>...</td>\n",
       "      <td>0.318182</td>\n",
       "      <td>0.998848</td>\n",
       "      <td>0.005710</td>\n",
       "      <td>0.991936</td>\n",
       "      <td>1.0</td>\n",
       "      <td>0.058507</td>\n",
       "      <td>0.015444</td>\n",
       "      <td>0.142857</td>\n",
       "      <td>0.051724</td>\n",
       "      <td>0</td>\n",
       "    </tr>\n",
       "    <tr>\n",
       "      <th>15</th>\n",
       "      <td>0.111977</td>\n",
       "      <td>0.000000</td>\n",
       "      <td>0.148760</td>\n",
       "      <td>0.085106</td>\n",
       "      <td>0.139752</td>\n",
       "      <td>0.0</td>\n",
       "      <td>0.15</td>\n",
       "      <td>0.125</td>\n",
       "      <td>0.121294</td>\n",
       "      <td>0.000000</td>\n",
       "      <td>...</td>\n",
       "      <td>0.318182</td>\n",
       "      <td>0.998272</td>\n",
       "      <td>0.006696</td>\n",
       "      <td>0.991936</td>\n",
       "      <td>1.0</td>\n",
       "      <td>0.059934</td>\n",
       "      <td>0.018646</td>\n",
       "      <td>0.142857</td>\n",
       "      <td>0.068966</td>\n",
       "      <td>0</td>\n",
       "    </tr>\n",
       "  </tbody>\n",
       "</table>\n",
       "<p>10 rows × 353 columns</p>\n",
       "</div>"
      ],
      "text/plain": [
       "    ambient_avg  ambient_std  ambient_min  ambient_max  dimm0_temp_avg  \\\n",
       "6      0.107673     0.029404     0.140496     0.085106        0.139752   \n",
       "7      0.105301     0.020694     0.140496     0.085106        0.139752   \n",
       "8      0.111392     0.015576     0.140496     0.085106        0.139752   \n",
       "9      0.111049     0.019151     0.140496     0.085106        0.139752   \n",
       "10     0.111252     0.017177     0.140496     0.085106        0.139752   \n",
       "11     0.111787     0.009122     0.140496     0.085106        0.139752   \n",
       "12     0.108557     0.029348     0.140496     0.085106        0.139752   \n",
       "13     0.111772     0.009466     0.140496     0.085106        0.139752   \n",
       "14     0.111977     0.000000     0.148760     0.085106        0.139752   \n",
       "15     0.111977     0.000000     0.148760     0.085106        0.139752   \n",
       "\n",
       "    dimm0_temp_std  dimm0_temp_min  dimm0_temp_max  dimm10_temp_avg  \\\n",
       "6              0.0            0.15           0.125         0.121294   \n",
       "7              0.0            0.15           0.125         0.118983   \n",
       "8              0.0            0.15           0.125         0.121294   \n",
       "9              0.0            0.15           0.125         0.121294   \n",
       "10             0.0            0.15           0.125         0.121294   \n",
       "11             0.0            0.15           0.125         0.121294   \n",
       "12             0.0            0.15           0.125         0.121294   \n",
       "13             0.0            0.15           0.125         0.121294   \n",
       "14             0.0            0.15           0.125         0.121294   \n",
       "15             0.0            0.15           0.125         0.121294   \n",
       "\n",
       "    dimm10_temp_std  ...  ps1_output_curre_max  ps1_output_volta_avg  \\\n",
       "6          0.000000  ...              0.333333              0.998302   \n",
       "7          0.084134  ...              0.318182              0.997120   \n",
       "8          0.000000  ...              0.318182              0.997984   \n",
       "9          0.000000  ...              0.318182              0.997120   \n",
       "10         0.000000  ...              0.318182              0.997937   \n",
       "11         0.000000  ...              0.318182              0.998230   \n",
       "12         0.000000  ...              0.318182              0.998033   \n",
       "13         0.000000  ...              0.318182              0.997878   \n",
       "14         0.000000  ...              0.318182              0.998848   \n",
       "15         0.000000  ...              0.318182              0.998272   \n",
       "\n",
       "    ps1_output_volta_std  ps1_output_volta_min  ps1_output_volta_max  \\\n",
       "6               0.006653              0.991936                   1.0   \n",
       "7               0.007819              0.991936                   1.0   \n",
       "8               0.007066              0.991936                   1.0   \n",
       "9               0.007819              0.991936                   1.0   \n",
       "10              0.007120              0.991936                   1.0   \n",
       "11              0.006755              0.991936                   1.0   \n",
       "12              0.007008              0.991936                   1.0   \n",
       "13              0.007186              0.991936                   1.0   \n",
       "14              0.005710              0.991936                   1.0   \n",
       "15              0.006696              0.991936                   1.0   \n",
       "\n",
       "    total_power_avg  total_power_std  total_power_min  total_power_max  value  \n",
       "6          0.058282         0.012337         0.142857         0.034483      0  \n",
       "7          0.059934         0.012179         0.142857         0.051724      0  \n",
       "8          0.057651         0.013726         0.142857         0.034483      0  \n",
       "9          0.057080         0.014816         0.142857         0.034483      0  \n",
       "10         0.057860         0.013289         0.142857         0.034483      0  \n",
       "11         0.059186         0.009855         0.142857         0.034483      0  \n",
       "12         0.056993         0.014971         0.142857         0.034483      0  \n",
       "13         0.059859         0.007324         0.142857         0.034483      0  \n",
       "14         0.058507         0.015444         0.142857         0.051724      0  \n",
       "15         0.059934         0.018646         0.142857         0.068966      0  \n",
       "\n",
       "[10 rows x 353 columns]"
      ]
     },
     "execution_count": 110,
     "metadata": {},
     "output_type": "execute_result"
    }
   ],
   "source": [
    "window_start_idx = 5\n",
    "window = timeseries_list[0].iloc[window_start_idx : window_start_idx + window_size]\n",
    "window"
   ]
  },
  {
   "cell_type": "markdown",
   "metadata": {},
   "source": [
    "## RUAD PyTorch/Lightning implementation"
   ]
  },
  {
   "cell_type": "code",
   "execution_count": 4,
   "metadata": {},
   "outputs": [
    {
     "name": "stderr",
     "output_type": "stream",
     "text": [
      "/home/prahtz/workspace/nlp-ad-m100/env/lib/python3.8/site-packages/tqdm/auto.py:21: TqdmWarning: IProgress not found. Please update jupyter and ipywidgets. See https://ipywidgets.readthedocs.io/en/stable/user_install.html\n",
      "  from .autonotebook import tqdm as notebook_tqdm\n"
     ]
    }
   ],
   "source": [
    "### RUAD baseline\n",
    "from lightning.pytorch.utilities.types import OptimizerLRScheduler\n",
    "import torch\n",
    "import torch.nn as nn\n",
    "import torch.nn.functional as F\n",
    "import lightning as L\n",
    "from torch.optim import Adam, RMSprop\n",
    "from torchmetrics import CatMetric\n",
    "from torchmetrics.functional import auroc\n",
    "\n",
    "\n",
    "class RUADModule(L.LightningModule):\n",
    "    def __init__(self, model: nn.Module, lr: float, optimizer: str = \"adam\") -> None:\n",
    "        super().__init__()\n",
    "        self.lr = lr\n",
    "        self.model = model\n",
    "        self.loss_fn = nn.MSELoss()\n",
    "\n",
    "        self.all_targets = CatMetric()\n",
    "        self.all_labels = CatMetric()\n",
    "        self.all_preds = CatMetric()\n",
    "        self.optimizer = optimizer\n",
    "\n",
    "    def forward(self, x):\n",
    "        return self.model(x)\n",
    "\n",
    "    def training_step(self, batch):\n",
    "        inputs, targets, _ = batch\n",
    "        preds = self.model(inputs)\n",
    "        # loss = self.loss_fn(preds, targets)\n",
    "        loss = self.loss_fn(preds, inputs)\n",
    "        self.log(\"train_loss\", loss, on_epoch=True)\n",
    "        self.log(\"train_loss_step\", loss, on_step=True)\n",
    "        return loss\n",
    "\n",
    "    def validation_step(self, batch, _):\n",
    "        inputs, targets, labels = batch\n",
    "        preds = self.model(inputs)\n",
    "        loss = self.loss_fn(preds, inputs)\n",
    "\n",
    "        self.all_preds.update(preds)\n",
    "        self.all_targets.update(targets)\n",
    "        self.all_labels.update(labels)\n",
    "        self.log(\"val_loss\", loss, on_epoch=True)\n",
    "\n",
    "    def on_validation_epoch_end(self) -> None:\n",
    "        preds, targets, labels = self.all_preds.compute(), self.all_targets.compute(), self.all_labels.compute()\n",
    "        reconstruction_error = torch.abs(targets - preds[:, -1]).sum(-1)\n",
    "        unthresholded_response = reconstruction_error / (reconstruction_error.max() + 1e-16)\n",
    "        labels[labels > 0] = 1\n",
    "        roc_auc = auroc(unthresholded_response, labels.int(), task=\"binary\")\n",
    "        self.log(\"roc_auc\", roc_auc, on_epoch=True)\n",
    "\n",
    "        self.all_preds.reset()\n",
    "        self.all_targets.reset()\n",
    "        self.all_labels.reset()\n",
    "\n",
    "    def test_step(self, batch, _):\n",
    "        return self.validation_step(batch, None)\n",
    "\n",
    "    def on_test_epoch_end(self) -> None:\n",
    "        return self.on_validation_epoch_end()\n",
    "\n",
    "    def configure_optimizers(self) -> OptimizerLRScheduler:\n",
    "        optim_cls = None\n",
    "        if self.optimizer == \"adam\":\n",
    "            optim_cls = Adam\n",
    "        elif self.optimizer == \"rmsprop\":\n",
    "            optim_cls = RMSprop\n",
    "        else:\n",
    "            raise RuntimeError(\"Unsupported optimizer\")\n",
    "        return optim_cls(self.model.parameters(), lr=self.lr)\n",
    "\n",
    "\n",
    "class RUAD(nn.Module):\n",
    "    def __init__(self, input_size) -> None:\n",
    "        super().__init__()\n",
    "        self.lstm1 = nn.LSTM(input_size, 16, batch_first=True)\n",
    "        self.lstm2 = nn.LSTM(16, 16, batch_first=True)\n",
    "        self.lstm3 = nn.LSTM(16, 8, batch_first=True)\n",
    "\n",
    "        self.fc1 = nn.Linear(8, 16)\n",
    "        self.fc2 = nn.Linear(16, 16)\n",
    "        self.fc3 = nn.Linear(16, input_size)\n",
    "\n",
    "    def forward(self, x):\n",
    "        x = F.selu(self.lstm1(x)[0])\n",
    "        x = F.selu(self.lstm2(x)[0])\n",
    "        x = F.selu(self.lstm3(x)[0])\n",
    "\n",
    "        x = F.selu(self.fc1(x))\n",
    "        x = F.selu(self.fc2(x))\n",
    "        x = self.fc3(x)\n",
    "        return x"
   ]
  },
  {
   "cell_type": "markdown",
   "metadata": {},
   "source": [
    "## Training scripts and helpers"
   ]
  },
  {
   "cell_type": "code",
   "execution_count": 5,
   "metadata": {},
   "outputs": [],
   "source": [
    "### TRAINING\n",
    "from torch.utils.data import DataLoader\n",
    "from lightning.pytorch.callbacks import ModelCheckpoint\n",
    "from lightning.pytorch.loggers import TensorBoardLogger\n",
    "import random\n",
    "from pathlib import Path\n",
    "\n",
    "\n",
    "def train(model, train_loader, val_loader, num_epochs=5, name=\"RUAD\"):\n",
    "    num_epochs = num_epochs\n",
    "    callbacks = []\n",
    "    callbacks.append(ModelCheckpoint(filename=\"best\", monitor=\"roc_auc\", mode=\"max\"))\n",
    "\n",
    "    logger = TensorBoardLogger(save_dir=\"runs/\", name=name)\n",
    "\n",
    "    trainer = L.Trainer(max_epochs=num_epochs, callbacks=callbacks, logger=logger)\n",
    "    trainer.fit(model, train_loader, val_loader)\n",
    "\n",
    "\n",
    "def batch_collator(batch, features_idx=None):\n",
    "    inputs, targets = [torch.tensor(b[0]) for b in batch], [torch.tensor(b[1]) for b in batch]\n",
    "    labels = [torch.tensor(b[2]) for b in batch]\n",
    "    inputs = torch.stack(inputs)\n",
    "    targets = torch.stack(targets)\n",
    "    labels = torch.stack(labels)\n",
    "    if features_idx:\n",
    "        inputs, targets = inputs[..., features_idx], targets[..., features_idx]\n",
    "    return inputs, targets, labels\n",
    "\n",
    "\n",
    "def set_seed(seed):\n",
    "    random.seed(seed)\n",
    "    np.random.seed(seed)\n",
    "    torch.manual_seed(seed)\n",
    "    torch.cuda.manual_seed_all(seed)\n",
    "\n",
    "\n",
    "root_path = Path(\"data/time-aggregated/\")\n",
    "seed = 42\n",
    "num_features = 352\n",
    "window_size = 10\n",
    "batch_size = 128\n",
    "num_workers = 8\n",
    "lr = 1e-4\n",
    "rack_0 = [2, 3, 4, 5, 6, 7, 8, 9, 10, 11, 13, 14, 16, 17, 18, 19]"
   ]
  },
  {
   "cell_type": "markdown",
   "metadata": {},
   "source": [
    "## RUAD baseline training: node 17 example\n",
    "We are going to train RUAD on the aggregated data obtained from node 17. Wefound that a learning rate of 1e-4, a window size of 10 and batch size 128 are good hyperparameters choices."
   ]
  },
  {
   "cell_type": "markdown",
   "metadata": {},
   "source": [
    "### RUAD Node 17 training"
   ]
  },
  {
   "cell_type": "code",
   "execution_count": null,
   "metadata": {},
   "outputs": [
    {
     "name": "stderr",
     "output_type": "stream",
     "text": [
      "GPU available: False, used: False\n",
      "TPU available: False, using: 0 TPU cores\n",
      "IPU available: False, using: 0 IPUs\n",
      "HPU available: False, using: 0 HPUs\n",
      "\n",
      "  | Name        | Type      | Params\n",
      "------------------------------------------\n",
      "0 | model       | RUAD      | 33.1 K\n",
      "1 | loss_fn     | MSELoss   | 0     \n",
      "2 | all_targets | CatMetric | 0     \n",
      "3 | all_labels  | CatMetric | 0     \n",
      "4 | all_preds   | CatMetric | 0     \n",
      "------------------------------------------\n",
      "33.1 K    Trainable params\n",
      "0         Non-trainable params\n",
      "33.1 K    Total params\n",
      "0.132     Total estimated model params size (MB)\n"
     ]
    },
    {
     "name": "stdout",
     "output_type": "stream",
     "text": [
      "                                                                           \r"
     ]
    },
    {
     "name": "stderr",
     "output_type": "stream",
     "text": [
      "/home/prahtz/workspace/nlp-ad-m100/env/lib/python3.8/site-packages/torchmetrics/utilities/prints.py:43: UserWarning: No positive samples in targets, true positive value should be meaningless. Returning zero tensor in true positive score\n",
      "  warnings.warn(*args, **kwargs)  # noqa: B028\n"
     ]
    },
    {
     "name": "stdout",
     "output_type": "stream",
     "text": [
      "Epoch 9: 100%|██████████| 437/437 [00:23<00:00, 19.00it/s, v_num=1]"
     ]
    },
    {
     "name": "stderr",
     "output_type": "stream",
     "text": [
      "`Trainer.fit` stopped: `max_epochs=10` reached.\n"
     ]
    },
    {
     "name": "stdout",
     "output_type": "stream",
     "text": [
      "Epoch 9: 100%|██████████| 437/437 [00:23<00:00, 18.99it/s, v_num=1]\n"
     ]
    }
   ],
   "source": [
    "set_seed(seed)\n",
    "node = 17\n",
    "file_path = root_path / f\"{node}.parquet\"\n",
    "train_dataset = TimeAggregatedNode(root_path=file_path, descriptions_path=\"descriptions.csv\", split=\"train\", window_size=window_size)\n",
    "test_dataset = TimeAggregatedNode(root_path=file_path, descriptions_path=\"descriptions.csv\", split=\"test\", window_size=window_size)\n",
    "train_loader = DataLoader(\n",
    "    dataset=train_dataset,\n",
    "    batch_size=batch_size,\n",
    "    num_workers=num_workers,\n",
    "    collate_fn=batch_collator,\n",
    "    shuffle=True,\n",
    ")\n",
    "test_loader = DataLoader(\n",
    "    dataset=test_dataset,\n",
    "    batch_size=batch_size,\n",
    "    num_workers=num_workers,\n",
    "    collate_fn=batch_collator,\n",
    ")\n",
    "\n",
    "model = RUADModule(RUAD(num_features), lr=lr, optimizer=\"adam\")\n",
    "train(model, train_loader, test_loader, name=f\"lr{lr}/RUAD_{node}\", num_epochs=10)"
   ]
  },
  {
   "cell_type": "markdown",
   "metadata": {},
   "source": [
    "### RUAD Node 17 results"
   ]
  },
  {
   "cell_type": "code",
   "execution_count": null,
   "metadata": {},
   "outputs": [
    {
     "name": "stderr",
     "output_type": "stream",
     "text": [
      "GPU available: False, used: False\n",
      "TPU available: False, using: 0 TPU cores\n",
      "IPU available: False, using: 0 IPUs\n",
      "HPU available: False, using: 0 HPUs\n"
     ]
    },
    {
     "name": "stdout",
     "output_type": "stream",
     "text": [
      "Testing DataLoader 0: 100%|██████████| 114/114 [00:03<00:00, 33.40it/s]\n",
      "────────────────────────────────────────────────────────────────────────────────────────────────────────────────────────\n",
      "       Test metric             DataLoader 0\n",
      "────────────────────────────────────────────────────────────────────────────────────────────────────────────────────────\n",
      "         roc_auc            0.7780559659004211\n",
      "        val_loss           0.0017428293358534575\n",
      "────────────────────────────────────────────────────────────────────────────────────────────────────────────────────────\n"
     ]
    },
    {
     "data": {
      "text/plain": [
       "[{'val_loss': 0.0017428293358534575, 'roc_auc': 0.7780559659004211}]"
      ]
     },
     "execution_count": 7,
     "metadata": {},
     "output_type": "execute_result"
    }
   ],
   "source": [
    "model = RUADModule.load_from_checkpoint(f\"runs/lr{lr}/RUAD_{node}/version_0/checkpoints/best.ckpt\", model=RUAD(num_features), lr=lr)\n",
    "test_dataset = TimeAggregatedNode(\n",
    "    root_path=root_path / f\"{node}.parquet\", descriptions_path=\"descriptions.csv\", split=\"test\", window_size=window_size\n",
    ")\n",
    "test_loader = DataLoader(dataset=test_dataset, batch_size=batch_size, num_workers=num_workers, collate_fn=batch_collator)\n",
    "L.Trainer().test(model, test_loader)"
   ]
  },
  {
   "cell_type": "markdown",
   "metadata": {},
   "source": [
    "## RUAD baseline training: all nodes from rack 0"
   ]
  },
  {
   "cell_type": "markdown",
   "metadata": {},
   "source": [
    "### RUAD Rack 0 training"
   ]
  },
  {
   "cell_type": "code",
   "execution_count": null,
   "metadata": {},
   "outputs": [],
   "source": [
    "for node in rack_0:\n",
    "    set_seed(seed)\n",
    "    file_path = root_path / f\"{node}.parquet\"\n",
    "\n",
    "    train_dataset = TimeAggregatedNode(root_path=file_path, descriptions_path=\"descriptions.csv\", split=\"train\", window_size=window_size)\n",
    "    test_dataset = TimeAggregatedNode(root_path=file_path, descriptions_path=\"descriptions.csv\", split=\"test\", window_size=window_size)\n",
    "    train_loader = DataLoader(\n",
    "        dataset=train_dataset,\n",
    "        batch_size=batch_size,\n",
    "        num_workers=num_workers,\n",
    "        collate_fn=batch_collator,\n",
    "        shuffle=True,\n",
    "    )\n",
    "    test_loader = DataLoader(\n",
    "        dataset=test_dataset,\n",
    "        batch_size=batch_size,\n",
    "        num_workers=num_workers,\n",
    "        collate_fn=batch_collator,\n",
    "    )\n",
    "\n",
    "    model = RUADModule(RUAD(num_features), lr=lr, optimizer=\"adam\")\n",
    "    train(model, train_loader, test_loader, name=f\"lr{lr}/RUAD_{node}\", num_epochs=10)"
   ]
  },
  {
   "cell_type": "markdown",
   "metadata": {},
   "source": [
    "### RUAD Rack 0 test"
   ]
  },
  {
   "cell_type": "code",
   "execution_count": 6,
   "metadata": {},
   "outputs": [
    {
     "name": "stderr",
     "output_type": "stream",
     "text": [
      "GPU available: False, used: False\n",
      "TPU available: False, using: 0 TPU cores\n",
      "IPU available: False, using: 0 IPUs\n",
      "HPU available: False, using: 0 HPUs\n"
     ]
    },
    {
     "name": "stdout",
     "output_type": "stream",
     "text": [
      "Testing DataLoader 0: 100%|██████████| 108/108 [00:03<00:00, 33.11it/s]\n",
      "Testing DataLoader 0: 100%|██████████| 73/73 [00:02<00:00, 30.09it/s]\n",
      "Testing DataLoader 0: 100%|██████████| 85/85 [00:02<00:00, 39.20it/s]\n",
      "Testing DataLoader 0: 100%|██████████| 85/85 [00:02<00:00, 40.19it/s]\n",
      "Testing DataLoader 0: 100%|██████████| 85/85 [00:02<00:00, 36.53it/s]\n",
      "Testing DataLoader 0: 100%|██████████| 115/115 [00:02<00:00, 44.11it/s]\n",
      "Testing DataLoader 0: 100%|██████████| 114/114 [00:02<00:00, 44.63it/s]\n",
      "Testing DataLoader 0: 100%|██████████| 115/115 [00:02<00:00, 45.27it/s]\n",
      "Testing DataLoader 0: 100%|██████████| 115/115 [00:02<00:00, 45.77it/s]\n",
      "Testing DataLoader 0: 100%|██████████| 115/115 [00:02<00:00, 44.10it/s]\n",
      "Testing DataLoader 0: 100%|██████████| 114/114 [00:03<00:00, 37.35it/s]\n",
      "Testing DataLoader 0: 100%|██████████| 115/115 [00:02<00:00, 40.02it/s]\n",
      "Testing DataLoader 0: 100%|██████████| 112/112 [00:03<00:00, 31.62it/s]\n",
      "Testing DataLoader 0: 100%|██████████| 114/114 [00:02<00:00, 38.83it/s]\n",
      "Testing DataLoader 0: 100%|██████████| 113/113 [00:02<00:00, 40.15it/s]\n",
      "Testing DataLoader 0: 100%|██████████| 111/111 [00:02<00:00, 42.07it/s]\n"
     ]
    }
   ],
   "source": [
    "trainer = L.Trainer()\n",
    "results_baseline = {}\n",
    "for node in rack_0:\n",
    "    model = RUADModule.load_from_checkpoint(f\"runs/lr{lr}/RUAD_{node}/version_0/checkpoints/best.ckpt\", model=RUAD(num_features), lr=lr)\n",
    "    test_dataset = TimeAggregatedNode(\n",
    "        root_path=root_path / f\"{node}.parquet\", descriptions_path=\"descriptions.csv\", split=\"test\", window_size=window_size\n",
    "    )\n",
    "    test_loader = DataLoader(dataset=test_dataset, batch_size=batch_size, num_workers=num_workers, collate_fn=batch_collator)\n",
    "    roc_auc = trainer.test(model, test_loader, verbose=False)[0][\"roc_auc\"]\n",
    "    results_baseline[node] = roc_auc"
   ]
  },
  {
   "cell_type": "code",
   "execution_count": null,
   "metadata": {},
   "outputs": [
    {
     "name": "stdout",
     "output_type": "stream",
     "text": [
      "Average ROC-AUC: 0.6759323179721832\n",
      "Node 2 ROC-AUC: 0.5566859841346741\n",
      "Node 3 ROC-AUC: 0.5441418886184692\n",
      "Node 4 ROC-AUC: 0.7338272929191589\n",
      "Node 5 ROC-AUC: 0.6134512424468994\n",
      "Node 6 ROC-AUC: 0.517902135848999\n",
      "Node 7 ROC-AUC: 0.7805595397949219\n",
      "Node 8 ROC-AUC: 0.7735768556594849\n",
      "Node 9 ROC-AUC: 0.597144365310669\n",
      "Node 10 ROC-AUC: 0.7493579387664795\n",
      "Node 11 ROC-AUC: 0.7226936221122742\n",
      "Node 13 ROC-AUC: 0.7484632730484009\n",
      "Node 14 ROC-AUC: 0.7526764273643494\n",
      "Node 16 ROC-AUC: 0.7027846574783325\n",
      "Node 17 ROC-AUC: 0.7780559659004211\n",
      "Node 18 ROC-AUC: 0.6984520554542542\n",
      "Node 19 ROC-AUC: 0.5451438426971436\n"
     ]
    }
   ],
   "source": [
    "avg_roc_auc = sum(results_baseline.values()) / len(results_baseline)\n",
    "print(\"Average ROC-AUC:\", avg_roc_auc)\n",
    "for k in results_baseline.keys():\n",
    "    print(f\"Node {k} ROC-AUC:\", results_baseline[k])"
   ]
  },
  {
   "cell_type": "markdown",
   "metadata": {},
   "source": [
    "## Sentence embeddings extraction with MiniLM"
   ]
  },
  {
   "cell_type": "code",
   "execution_count": 7,
   "metadata": {},
   "outputs": [
    {
     "name": "stderr",
     "output_type": "stream",
     "text": [
      "/home/prahtz/workspace/nlp-ad-m100/env/lib/python3.8/site-packages/torch/_utils.py:831: UserWarning: TypedStorage is deprecated. It will be removed in the future and UntypedStorage will be the only storage class. This should only matter to you if you are using storages directly.  To access UntypedStorage directly, use tensor.untyped_storage() instead of tensor.storage()\n",
      "  return self.fget.__get__(instance, owner)()\n"
     ]
    }
   ],
   "source": [
    "from num2words import num2words\n",
    "import re\n",
    "import torch\n",
    "from transformers import AutoTokenizer, AutoModel\n",
    "from sklearn.manifold import TSNE\n",
    "import numpy as np\n",
    "import matplotlib.pyplot as plt\n",
    "\n",
    "tokenizer = AutoTokenizer.from_pretrained(\"sentence-transformers/all-MiniLM-L6-v2\")\n",
    "model = AutoModel.from_pretrained(\"sentence-transformers/all-MiniLM-L6-v2\")\n",
    "\n",
    "\n",
    "def convert_numbers_to_words(descriptions):\n",
    "    new_descriptions = []\n",
    "    for desc in descriptions:\n",
    "        match = re.findall(\"[0-9]+\", desc)\n",
    "        spelled_nums = [num2words(num) for num in match]\n",
    "        for num in spelled_nums:\n",
    "            desc = re.sub(\"[0-9]+\", num, desc)\n",
    "        new_descriptions.append(desc)\n",
    "    return new_descriptions\n",
    "\n",
    "\n",
    "descriptions = dataset.descriptions.values()\n",
    "descriptions = convert_numbers_to_words(descriptions)\n",
    "\n",
    "encoded_descriptions = [tokenizer(desc, return_tensors=\"pt\") for desc in descriptions]\n",
    "model.eval()\n",
    "with torch.no_grad():\n",
    "    sentence_embeddings = [model(**encoded_desc).pooler_output for encoded_desc in encoded_descriptions]\n",
    "    sentence_embeddings = torch.cat(sentence_embeddings)"
   ]
  },
  {
   "cell_type": "markdown",
   "metadata": {},
   "source": [
    "### Embedding reduction and visualization with TSNE"
   ]
  },
  {
   "cell_type": "code",
   "execution_count": null,
   "metadata": {},
   "outputs": [],
   "source": [
    "tsne = TSNE(n_components=2, n_iter=10000, perplexity=10)\n",
    "reduced_embeddings = tsne.fit_transform(sentence_embeddings)"
   ]
  },
  {
   "cell_type": "code",
   "execution_count": null,
   "metadata": {},
   "outputs": [
    {
     "name": "stdout",
     "output_type": "stream",
     "text": [
      "([<matplotlib.lines.Line2D object at 0x7f1deb2c8d60>, <matplotlib.lines.Line2D object at 0x7f1deb2c8f10>, <matplotlib.lines.Line2D object at 0x7f1deb2c8fd0>, <matplotlib.lines.Line2D object at 0x7f1deb2d9130>, <matplotlib.lines.Line2D object at 0x7f1deb2d9220>, <matplotlib.lines.Line2D object at 0x7f1deb2d9310>, <matplotlib.lines.Line2D object at 0x7f1deb2d9400>, <matplotlib.lines.Line2D object at 0x7f1deb2d94f0>, <matplotlib.lines.Line2D object at 0x7f1deb2d95e0>, <matplotlib.lines.Line2D object at 0x7f1deb2d96d0>, <matplotlib.lines.Line2D object at 0x7f1deb2d97c0>, <matplotlib.lines.Line2D object at 0x7f1deb2d98b0>, <matplotlib.lines.Line2D object at 0x7f1deb2c8970>, <matplotlib.lines.Line2D object at 0x7f1deb338b50>, <matplotlib.lines.Line2D object at 0x7f1deb365bb0>, <matplotlib.lines.Line2D object at 0x7f1deb38e970>, <matplotlib.lines.Line2D object at 0x7f1deb38e700>, <matplotlib.lines.Line2D object at 0x7f1deb38e6d0>], ['$\\\\mathdefault{0}$', '$\\\\mathdefault{1}$', '$\\\\mathdefault{2}$', '$\\\\mathdefault{3}$', '$\\\\mathdefault{4}$', '$\\\\mathdefault{5}$', '$\\\\mathdefault{6}$', '$\\\\mathdefault{7}$', '$\\\\mathdefault{8}$', '$\\\\mathdefault{9}$', '$\\\\mathdefault{10}$', '$\\\\mathdefault{11}$', '$\\\\mathdefault{12}$', '$\\\\mathdefault{13}$', '$\\\\mathdefault{14}$', '$\\\\mathdefault{15}$', '$\\\\mathdefault{16}$', '$\\\\mathdefault{17}$'])\n"
     ]
    },
    {
     "data": {
      "text/plain": [
       "<matplotlib.legend.Legend at 0x7f1e0aed6e50>"
      ]
     },
     "execution_count": 116,
     "metadata": {},
     "output_type": "execute_result"
    },
    {
     "data": {
      "image/png": "[encoded data removed]",
      "text/plain": [
       "<Figure size 1000x700 with 1 Axes>"
      ]
     },
     "metadata": {},
     "output_type": "display_data"
    }
   ],
   "source": [
    "descriptions_csv = pd.read_csv(\"descriptions.csv\", names=[\"name\", \"description\"])\n",
    "fig, ax = plt.subplots(figsize=(10, 7))\n",
    "scatter = ax.scatter(reduced_embeddings[:, 0], reduced_embeddings[:, 1], c=np.array(list(dataset.group_dict.values())), cmap=\"tab20\")\n",
    "print(scatter.legend_elements(num=18))\n",
    "labels = [desc for desc in descriptions_csv[\"name\"]]\n",
    "ax.legend(scatter.legend_elements(num=18)[0], labels, bbox_to_anchor=(1, 1))"
   ]
  },
  {
   "cell_type": "markdown",
   "metadata": {},
   "source": [
    "## RUAD with feature gating with \n",
    "It supports the following gating mechanisms:\n",
    "- sigmoid\n",
    "- softmax\n",
    "- tanh\n",
    "- Gated Bimodal Unit (from Gated Multimodal Unit https://arxiv.org/abs/1702.01992)"
   ]
  },
  {
   "cell_type": "code",
   "execution_count": 10,
   "metadata": {},
   "outputs": [],
   "source": [
    "import torch\n",
    "import torch.nn as nn\n",
    "import torch.nn.functional as F\n",
    "from functools import partial\n",
    "\n",
    "\n",
    "class GatedBimodalUnit(nn.Module):\n",
    "    def __init__(self, output_dim) -> None:\n",
    "        super().__init__()\n",
    "        self.output_dim = output_dim\n",
    "        self.wz1 = nn.Linear(output_dim, output_dim, bias=False)\n",
    "        self.wz2 = nn.Linear(output_dim, output_dim, bias=False)\n",
    "        self.bz = nn.Parameter(torch.nn.init.uniform_(torch.empty((output_dim))))\n",
    "\n",
    "    def forward(self, x1, x2):\n",
    "        h1 = F.tanh(x1)\n",
    "        h2 = F.tanh(x2)\n",
    "        z = F.sigmoid(self.wz1(x1) + self.wz2(x2) + self.bz)\n",
    "        return torch.multiply(z, h1) + torch.multiply(1 - z, h2)\n",
    "\n",
    "\n",
    "class RUADWithGating(nn.Module):\n",
    "    def __init__(self, description_embeddings, gating=\"sigmoid\") -> None:\n",
    "        super().__init__()\n",
    "        if type(description_embeddings) == torch.Tensor:\n",
    "            self.description_embeddings = description_embeddings\n",
    "            self.description_embeddings.requires_grad = False\n",
    "            self.input_size = description_embeddings.shape[0]\n",
    "            self.embedding_space = description_embeddings.shape[1]\n",
    "        elif type(description_embeddings) == tuple:\n",
    "            self.input_size = description_embeddings[0]\n",
    "            self.embedding_space = description_embeddings[1]\n",
    "            self.description_embeddings = nn.Parameter(torch.nn.init.uniform_(torch.empty((self.input_size, self.embedding_space))))\n",
    "\n",
    "        self.gating = gating\n",
    "        self.mask_fc = nn.Linear(self.embedding_space, 1)\n",
    "        self.ruad = RUAD(input_size=self.input_size)\n",
    "\n",
    "        if gating == \"sigmoid\":\n",
    "            self.gating_fn = F.sigmoid\n",
    "            self.mask_fc = nn.Linear(self.embedding_space, 1)\n",
    "        elif gating == \"softmax\":\n",
    "            self.gating_fn = partial(F.softmax, dim=-1)\n",
    "        elif gating == \"tanh\":\n",
    "            self.gating_fn = F.tanh\n",
    "        elif gating == \"gbu\":\n",
    "            self.gating_fn = GatedBimodalUnit(self.input_size)\n",
    "        else:\n",
    "            raise RuntimeError(\"Unsupported gating function.\")\n",
    "\n",
    "    def forward(self, x):\n",
    "        if self.gating == \"gbu\":\n",
    "            x = self.gating_fn(x, self.mask_fc(self.description_embeddings).squeeze(-1))\n",
    "        else:\n",
    "            gate = self.gating_fn(self.mask_fc(self.description_embeddings).squeeze(-1))\n",
    "            x = torch.multiply(x, gate)\n",
    "        x = self.ruad(x)\n",
    "        return x"
   ]
  },
  {
   "cell_type": "code",
   "execution_count": null,
   "metadata": {},
   "outputs": [
    {
     "name": "stderr",
     "output_type": "stream",
     "text": [
      "GPU available: False, used: False\n",
      "TPU available: False, using: 0 TPU cores\n",
      "IPU available: False, using: 0 IPUs\n",
      "HPU available: False, using: 0 HPUs\n",
      "\n",
      "  | Name        | Type           | Params\n",
      "-----------------------------------------------\n",
      "0 | model       | RUADWithGating | 33.5 K\n",
      "1 | loss_fn     | MSELoss        | 0     \n",
      "2 | all_targets | CatMetric      | 0     \n",
      "3 | all_labels  | CatMetric      | 0     \n",
      "4 | all_preds   | CatMetric      | 0     \n",
      "-----------------------------------------------\n",
      "33.5 K    Trainable params\n",
      "0         Non-trainable params\n",
      "33.5 K    Total params\n",
      "0.134     Total estimated model params size (MB)\n"
     ]
    },
    {
     "name": "stdout",
     "output_type": "stream",
     "text": [
      "                                                                           \r"
     ]
    },
    {
     "name": "stderr",
     "output_type": "stream",
     "text": [
      "/home/prahtz/workspace/nlp-ad-m100/env/lib/python3.8/site-packages/torchmetrics/utilities/prints.py:43: UserWarning: No positive samples in targets, true positive value should be meaningless. Returning zero tensor in true positive score\n",
      "  warnings.warn(*args, **kwargs)  # noqa: B028\n"
     ]
    },
    {
     "name": "stdout",
     "output_type": "stream",
     "text": [
      "Epoch 9: 100%|██████████| 437/437 [00:32<00:00, 13.54it/s, v_num=1]"
     ]
    },
    {
     "name": "stderr",
     "output_type": "stream",
     "text": [
      "`Trainer.fit` stopped: `max_epochs=10` reached.\n"
     ]
    },
    {
     "name": "stdout",
     "output_type": "stream",
     "text": [
      "Epoch 9: 100%|██████████| 437/437 [00:32<00:00, 13.53it/s, v_num=1]\n"
     ]
    },
    {
     "name": "stderr",
     "output_type": "stream",
     "text": [
      "GPU available: False, used: False\n",
      "TPU available: False, using: 0 TPU cores\n",
      "IPU available: False, using: 0 IPUs\n",
      "HPU available: False, using: 0 HPUs\n",
      "\n",
      "  | Name        | Type           | Params\n",
      "-----------------------------------------------\n",
      "0 | model       | RUADWithGating | 33.5 K\n",
      "1 | loss_fn     | MSELoss        | 0     \n",
      "2 | all_targets | CatMetric      | 0     \n",
      "3 | all_labels  | CatMetric      | 0     \n",
      "4 | all_preds   | CatMetric      | 0     \n",
      "-----------------------------------------------\n",
      "33.5 K    Trainable params\n",
      "0         Non-trainable params\n",
      "33.5 K    Total params\n",
      "0.134     Total estimated model params size (MB)\n"
     ]
    },
    {
     "name": "stdout",
     "output_type": "stream",
     "text": [
      "                                                                           \r"
     ]
    },
    {
     "name": "stderr",
     "output_type": "stream",
     "text": [
      "/home/prahtz/workspace/nlp-ad-m100/env/lib/python3.8/site-packages/torchmetrics/utilities/prints.py:43: UserWarning: No positive samples in targets, true positive value should be meaningless. Returning zero tensor in true positive score\n",
      "  warnings.warn(*args, **kwargs)  # noqa: B028\n"
     ]
    },
    {
     "name": "stdout",
     "output_type": "stream",
     "text": [
      "Epoch 9: 100%|██████████| 437/437 [00:22<00:00, 19.53it/s, v_num=1]"
     ]
    },
    {
     "name": "stderr",
     "output_type": "stream",
     "text": [
      "`Trainer.fit` stopped: `max_epochs=10` reached.\n"
     ]
    },
    {
     "name": "stdout",
     "output_type": "stream",
     "text": [
      "Epoch 9: 100%|██████████| 437/437 [00:22<00:00, 19.53it/s, v_num=1]\n"
     ]
    },
    {
     "name": "stderr",
     "output_type": "stream",
     "text": [
      "GPU available: False, used: False\n",
      "TPU available: False, using: 0 TPU cores\n",
      "IPU available: False, using: 0 IPUs\n",
      "HPU available: False, using: 0 HPUs\n",
      "Missing logger folder: runs/lr0.0001/RUAD_softmax_17\n",
      "\n",
      "  | Name        | Type           | Params\n",
      "-----------------------------------------------\n",
      "0 | model       | RUADWithGating | 33.5 K\n",
      "1 | loss_fn     | MSELoss        | 0     \n",
      "2 | all_targets | CatMetric      | 0     \n",
      "3 | all_labels  | CatMetric      | 0     \n",
      "4 | all_preds   | CatMetric      | 0     \n",
      "-----------------------------------------------\n",
      "33.5 K    Trainable params\n",
      "0         Non-trainable params\n",
      "33.5 K    Total params\n",
      "0.134     Total estimated model params size (MB)\n"
     ]
    },
    {
     "name": "stdout",
     "output_type": "stream",
     "text": [
      "                                                                           \r"
     ]
    },
    {
     "name": "stderr",
     "output_type": "stream",
     "text": [
      "/home/prahtz/workspace/nlp-ad-m100/env/lib/python3.8/site-packages/torchmetrics/utilities/prints.py:43: UserWarning: No positive samples in targets, true positive value should be meaningless. Returning zero tensor in true positive score\n",
      "  warnings.warn(*args, **kwargs)  # noqa: B028\n"
     ]
    },
    {
     "name": "stdout",
     "output_type": "stream",
     "text": [
      "Epoch 9: 100%|██████████| 437/437 [00:21<00:00, 20.07it/s, v_num=0]"
     ]
    },
    {
     "name": "stderr",
     "output_type": "stream",
     "text": [
      "`Trainer.fit` stopped: `max_epochs=10` reached.\n"
     ]
    },
    {
     "name": "stdout",
     "output_type": "stream",
     "text": [
      "Epoch 9: 100%|██████████| 437/437 [00:21<00:00, 20.07it/s, v_num=0]\n"
     ]
    },
    {
     "name": "stderr",
     "output_type": "stream",
     "text": [
      "GPU available: False, used: False\n",
      "TPU available: False, using: 0 TPU cores\n",
      "IPU available: False, using: 0 IPUs\n",
      "HPU available: False, using: 0 HPUs\n",
      "Missing logger folder: runs/lr0.0001/RUAD_gbu_17\n",
      "\n",
      "  | Name        | Type           | Params\n",
      "-----------------------------------------------\n",
      "0 | model       | RUADWithGating | 281 K \n",
      "1 | loss_fn     | MSELoss        | 0     \n",
      "2 | all_targets | CatMetric      | 0     \n",
      "3 | all_labels  | CatMetric      | 0     \n",
      "4 | all_preds   | CatMetric      | 0     \n",
      "-----------------------------------------------\n",
      "281 K     Trainable params\n",
      "0         Non-trainable params\n",
      "281 K     Total params\n",
      "1.127     Total estimated model params size (MB)\n"
     ]
    },
    {
     "name": "stdout",
     "output_type": "stream",
     "text": [
      "                                                                           \r"
     ]
    },
    {
     "name": "stderr",
     "output_type": "stream",
     "text": [
      "/home/prahtz/workspace/nlp-ad-m100/env/lib/python3.8/site-packages/torchmetrics/utilities/prints.py:43: UserWarning: No positive samples in targets, true positive value should be meaningless. Returning zero tensor in true positive score\n",
      "  warnings.warn(*args, **kwargs)  # noqa: B028\n"
     ]
    },
    {
     "name": "stdout",
     "output_type": "stream",
     "text": [
      "Epoch 9: 100%|██████████| 437/437 [00:28<00:00, 15.47it/s, v_num=0]"
     ]
    },
    {
     "name": "stderr",
     "output_type": "stream",
     "text": [
      "`Trainer.fit` stopped: `max_epochs=10` reached.\n"
     ]
    },
    {
     "name": "stdout",
     "output_type": "stream",
     "text": [
      "Epoch 9: 100%|██████████| 437/437 [00:28<00:00, 15.47it/s, v_num=0]\n"
     ]
    }
   ],
   "source": [
    "node = 17\n",
    "file_path = root_path / f\"{node}.parquet\"\n",
    "\n",
    "for gating in [\"sigmoid\", \"tanh\", \"softmax\", \"gbu\"]:\n",
    "    set_seed(seed)\n",
    "    train_dataset = TimeAggregatedNode(root_path=file_path, descriptions_path=\"descriptions.csv\", split=\"train\", window_size=window_size)\n",
    "    test_dataset = TimeAggregatedNode(root_path=file_path, descriptions_path=\"descriptions.csv\", split=\"test\", window_size=window_size)\n",
    "    train_loader = DataLoader(\n",
    "        dataset=train_dataset,\n",
    "        batch_size=batch_size,\n",
    "        num_workers=num_workers,\n",
    "        collate_fn=batch_collator,\n",
    "        shuffle=True,\n",
    "    )\n",
    "    test_loader = DataLoader(\n",
    "        dataset=test_dataset,\n",
    "        batch_size=batch_size,\n",
    "        num_workers=num_workers,\n",
    "        collate_fn=batch_collator,\n",
    "    )\n",
    "\n",
    "    model = RUADModule(RUADWithGating(sentence_embeddings, gating=gating), lr=lr, optimizer=\"adam\")\n",
    "    train(model, train_loader, test_loader, name=f\"lr{lr}/RUAD_{gating}_{node}\", num_epochs=10)"
   ]
  },
  {
   "cell_type": "code",
   "execution_count": null,
   "metadata": {},
   "outputs": [],
   "source": [
    "models = {}\n",
    "for gating in [\"sigmoid\", \"tanh\", \"softmax\", \"gbu\"]:\n",
    "    model = RUADModule.load_from_checkpoint(\n",
    "        f\"runs/lr{lr}/RUAD_{gating}_{node}/version_0/checkpoints/best.ckpt\",\n",
    "        model=RUADWithGating(sentence_embeddings, gating=gating),\n",
    "        lr=lr,\n",
    "    )\n",
    "    models[gating] = model\n",
    "models[\"base\"] = RUADModule.load_from_checkpoint(\n",
    "    f\"runs/lr{lr}/RUAD_{node}/version_0/checkpoints/best.ckpt\", model=RUAD(num_features), lr=lr\n",
    ")"
   ]
  },
  {
   "cell_type": "code",
   "execution_count": null,
   "metadata": {},
   "outputs": [
    {
     "name": "stderr",
     "output_type": "stream",
     "text": [
      "GPU available: False, used: False\n",
      "TPU available: False, using: 0 TPU cores\n",
      "IPU available: False, using: 0 IPUs\n",
      "HPU available: False, using: 0 HPUs\n"
     ]
    },
    {
     "name": "stdout",
     "output_type": "stream",
     "text": [
      "Testing DataLoader 0: 100%|██████████| 114/114 [00:03<00:00, 35.19it/s]\n",
      "Testing DataLoader 0: 100%|██████████| 114/114 [00:02<00:00, 38.22it/s]\n",
      "Testing DataLoader 0: 100%|██████████| 114/114 [00:03<00:00, 35.19it/s]\n",
      "Testing DataLoader 0: 100%|██████████| 114/114 [00:03<00:00, 31.44it/s]\n",
      "Testing DataLoader 0: 100%|██████████| 114/114 [00:03<00:00, 36.30it/s]\n"
     ]
    }
   ],
   "source": [
    "trainer = L.Trainer()\n",
    "results = {}\n",
    "for model_name in models.keys():\n",
    "    model = models[model_name]\n",
    "    test_dataset = TimeAggregatedNode(\n",
    "        root_path=root_path / f\"{node}.parquet\", descriptions_path=\"descriptions.csv\", split=\"test\", window_size=window_size\n",
    "    )\n",
    "    test_loader = DataLoader(dataset=test_dataset, batch_size=batch_size, num_workers=num_workers, collate_fn=batch_collator)\n",
    "    roc_auc = trainer.test(model, test_loader, verbose=False)[0][\"roc_auc\"]\n",
    "    results[model_name] = roc_auc"
   ]
  },
  {
   "cell_type": "code",
   "execution_count": null,
   "metadata": {},
   "outputs": [
    {
     "name": "stdout",
     "output_type": "stream",
     "text": [
      "ROC-AUC improvement of RUAD with 'softmax': 0.011882543563842773\n",
      "ROC-AUC improvement of RUAD with 'sigmoid': -0.006603717803955078\n",
      "ROC-AUC improvement of RUAD with 'tanh': -0.01731640100479126\n",
      "ROC-AUC improvement of RUAD with 'gbu': -0.0062670111656188965\n"
     ]
    }
   ],
   "source": [
    "base_roc = results[\"base\"]\n",
    "for gating in [\"softmax\", \"sigmoid\", \"tanh\", \"gbu\"]:\n",
    "    roc_improvement = results[gating] - base_roc\n",
    "    print(f\"ROC-AUC improvement of RUAD with '{gating}':\", roc_improvement)"
   ]
  },
  {
   "cell_type": "code",
   "execution_count": null,
   "metadata": {},
   "outputs": [],
   "source": [
    "avg_top_roc_improvement, avg_bot_roc_improvement = 0.0, 0.0\n",
    "for i in rack_0:\n",
    "    i = str(i)\n",
    "    base_roc = results[\"base\"][i][0][\"roc_auc\"]\n",
    "    avg_top_roc_improvement += results[\"top\"][i][0][\"roc_auc\"] - base_roc\n",
    "    avg_bot_roc_improvement += results[\"bot\"][i][0][\"roc_auc\"] - base_roc\n",
    "avg_top_roc_improvement /= len(rack_0)\n",
    "avg_bot_roc_improvement /= len(rack_0)\n",
    "\n",
    "print(avg_top_roc_improvement, avg_bot_roc_improvement)"
   ]
  },
  {
   "cell_type": "code",
   "execution_count": null,
   "metadata": {},
   "outputs": [],
   "source": [
    "gates = {}\n",
    "with torch.no_grad():\n",
    "    for gating in [\"softmax\", \"sigmoid\"]:\n",
    "        model = models[gating]\n",
    "        model.eval()\n",
    "        embeddings = model.model.description_embeddings\n",
    "        mask_fc = model.model.mask_fc\n",
    "        gate = model.model.gating_fn(mask_fc(sentence_embeddings).squeeze(-1))\n",
    "        gates[gating] = gate"
   ]
  },
  {
   "cell_type": "code",
   "execution_count": null,
   "metadata": {},
   "outputs": [
    {
     "data": {
      "image/png": "[encoded data removed]",
      "text/plain": [
       "<Figure size 640x480 with 1 Axes>"
      ]
     },
     "metadata": {},
     "output_type": "display_data"
    }
   ],
   "source": [
    "plt.plot(np.arange(352), gates[\"softmax\"].detach())\n",
    "plt.ylim((-0.1, 0.1))\n",
    "plt.title(\"Softmax gating output over feature descriptions\")\n",
    "plt.ylabel(\"Gate output\")\n",
    "plt.xlabel(\"Feature description ID\")"
   ]
  },
  {
   "cell_type": "code",
   "execution_count": null,
   "metadata": {},
   "outputs": [
    {
     "data": {
      "image/png": "[encoded data removed]",
      "text/plain": [
       "<Figure size 640x480 with 1 Axes>"
      ]
     },
     "metadata": {},
     "output_type": "display_data"
    }
   ],
   "source": [
    "plt.plot(np.arange(352), gates[\"sigmoid\"].detach())\n",
    "plt.ylim((0, 1))\n",
    "plt.title(\"Sigmoid gating output over feature descriptions\")\n",
    "plt.ylabel(\"Gate output\")\n",
    "plt.xlabel(\"Feature description ID\")"
   ]
  },
  {
   "cell_type": "code",
   "execution_count": 11,
   "metadata": {},
   "outputs": [
    {
     "name": "stderr",
     "output_type": "stream",
     "text": [
      "GPU available: False, used: False\n",
      "TPU available: False, using: 0 TPU cores\n",
      "IPU available: False, using: 0 IPUs\n",
      "HPU available: False, using: 0 HPUs\n",
      "Missing logger folder: runs/lr0.0001/RUAD_softmax_2\n",
      "\n",
      "  | Name        | Type           | Params\n",
      "-----------------------------------------------\n",
      "0 | model       | RUADWithGating | 33.5 K\n",
      "1 | loss_fn     | MSELoss        | 0     \n",
      "2 | all_targets | CatMetric      | 0     \n",
      "3 | all_labels  | CatMetric      | 0     \n",
      "4 | all_preds   | CatMetric      | 0     \n",
      "-----------------------------------------------\n",
      "33.5 K    Trainable params\n",
      "0         Non-trainable params\n",
      "33.5 K    Total params\n",
      "0.134     Total estimated model params size (MB)\n"
     ]
    },
    {
     "name": "stdout",
     "output_type": "stream",
     "text": [
      "                                                                           \r"
     ]
    },
    {
     "name": "stderr",
     "output_type": "stream",
     "text": [
      "/home/prahtz/workspace/nlp-ad-m100/env/lib/python3.8/site-packages/torchmetrics/utilities/prints.py:43: UserWarning: No positive samples in targets, true positive value should be meaningless. Returning zero tensor in true positive score\n",
      "  warnings.warn(*args, **kwargs)  # noqa: B028\n"
     ]
    },
    {
     "name": "stdout",
     "output_type": "stream",
     "text": [
      "Epoch 9: 100%|██████████| 376/376 [00:18<00:00, 20.29it/s, v_num=0]"
     ]
    },
    {
     "name": "stderr",
     "output_type": "stream",
     "text": [
      "`Trainer.fit` stopped: `max_epochs=10` reached.\n"
     ]
    },
    {
     "name": "stdout",
     "output_type": "stream",
     "text": [
      "Epoch 9: 100%|██████████| 376/376 [00:18<00:00, 20.29it/s, v_num=0]\n"
     ]
    },
    {
     "name": "stderr",
     "output_type": "stream",
     "text": [
      "GPU available: False, used: False\n",
      "TPU available: False, using: 0 TPU cores\n",
      "IPU available: False, using: 0 IPUs\n",
      "HPU available: False, using: 0 HPUs\n",
      "Missing logger folder: runs/lr0.0001/RUAD_softmax_3\n",
      "\n",
      "  | Name        | Type           | Params\n",
      "-----------------------------------------------\n",
      "0 | model       | RUADWithGating | 33.5 K\n",
      "1 | loss_fn     | MSELoss        | 0     \n",
      "2 | all_targets | CatMetric      | 0     \n",
      "3 | all_labels  | CatMetric      | 0     \n",
      "4 | all_preds   | CatMetric      | 0     \n",
      "-----------------------------------------------\n",
      "33.5 K    Trainable params\n",
      "0         Non-trainable params\n",
      "33.5 K    Total params\n",
      "0.134     Total estimated model params size (MB)\n"
     ]
    },
    {
     "name": "stdout",
     "output_type": "stream",
     "text": [
      "                                                                           \r"
     ]
    },
    {
     "name": "stderr",
     "output_type": "stream",
     "text": [
      "/home/prahtz/workspace/nlp-ad-m100/env/lib/python3.8/site-packages/torchmetrics/utilities/prints.py:43: UserWarning: No negative samples in targets, false positive value should be meaningless. Returning zero tensor in false positive score\n",
      "  warnings.warn(*args, **kwargs)  # noqa: B028\n"
     ]
    },
    {
     "name": "stdout",
     "output_type": "stream",
     "text": [
      "Epoch 9: 100%|██████████| 98/98 [00:07<00:00, 13.64it/s, v_num=0]"
     ]
    },
    {
     "name": "stderr",
     "output_type": "stream",
     "text": [
      "`Trainer.fit` stopped: `max_epochs=10` reached.\n"
     ]
    },
    {
     "name": "stdout",
     "output_type": "stream",
     "text": [
      "Epoch 9: 100%|██████████| 98/98 [00:07<00:00, 13.62it/s, v_num=0]\n"
     ]
    },
    {
     "name": "stderr",
     "output_type": "stream",
     "text": [
      "GPU available: False, used: False\n",
      "TPU available: False, using: 0 TPU cores\n",
      "IPU available: False, using: 0 IPUs\n",
      "HPU available: False, using: 0 HPUs\n",
      "Missing logger folder: runs/lr0.0001/RUAD_softmax_4\n",
      "\n",
      "  | Name        | Type           | Params\n",
      "-----------------------------------------------\n",
      "0 | model       | RUADWithGating | 33.5 K\n",
      "1 | loss_fn     | MSELoss        | 0     \n",
      "2 | all_targets | CatMetric      | 0     \n",
      "3 | all_labels  | CatMetric      | 0     \n",
      "4 | all_preds   | CatMetric      | 0     \n",
      "-----------------------------------------------\n",
      "33.5 K    Trainable params\n",
      "0         Non-trainable params\n",
      "33.5 K    Total params\n",
      "0.134     Total estimated model params size (MB)\n"
     ]
    },
    {
     "name": "stdout",
     "output_type": "stream",
     "text": [
      "                                                                           \r"
     ]
    },
    {
     "name": "stderr",
     "output_type": "stream",
     "text": [
      "/home/prahtz/workspace/nlp-ad-m100/env/lib/python3.8/site-packages/torchmetrics/utilities/prints.py:43: UserWarning: No positive samples in targets, true positive value should be meaningless. Returning zero tensor in true positive score\n",
      "  warnings.warn(*args, **kwargs)  # noqa: B028\n"
     ]
    },
    {
     "name": "stdout",
     "output_type": "stream",
     "text": [
      "Epoch 9: 100%|██████████| 153/153 [00:09<00:00, 16.23it/s, v_num=0]"
     ]
    },
    {
     "name": "stderr",
     "output_type": "stream",
     "text": [
      "`Trainer.fit` stopped: `max_epochs=10` reached.\n"
     ]
    },
    {
     "name": "stdout",
     "output_type": "stream",
     "text": [
      "Epoch 9: 100%|██████████| 153/153 [00:09<00:00, 16.22it/s, v_num=0]\n"
     ]
    },
    {
     "name": "stderr",
     "output_type": "stream",
     "text": [
      "GPU available: False, used: False\n",
      "TPU available: False, using: 0 TPU cores\n",
      "IPU available: False, using: 0 IPUs\n",
      "HPU available: False, using: 0 HPUs\n",
      "Missing logger folder: runs/lr0.0001/RUAD_softmax_5\n",
      "\n",
      "  | Name        | Type           | Params\n",
      "-----------------------------------------------\n",
      "0 | model       | RUADWithGating | 33.5 K\n",
      "1 | loss_fn     | MSELoss        | 0     \n",
      "2 | all_targets | CatMetric      | 0     \n",
      "3 | all_labels  | CatMetric      | 0     \n",
      "4 | all_preds   | CatMetric      | 0     \n",
      "-----------------------------------------------\n",
      "33.5 K    Trainable params\n",
      "0         Non-trainable params\n",
      "33.5 K    Total params\n",
      "0.134     Total estimated model params size (MB)\n"
     ]
    },
    {
     "name": "stdout",
     "output_type": "stream",
     "text": [
      "                                                                           \r"
     ]
    },
    {
     "name": "stderr",
     "output_type": "stream",
     "text": [
      "/home/prahtz/workspace/nlp-ad-m100/env/lib/python3.8/site-packages/torchmetrics/utilities/prints.py:43: UserWarning: No positive samples in targets, true positive value should be meaningless. Returning zero tensor in true positive score\n",
      "  warnings.warn(*args, **kwargs)  # noqa: B028\n"
     ]
    },
    {
     "name": "stdout",
     "output_type": "stream",
     "text": [
      "Epoch 9: 100%|██████████| 154/154 [00:09<00:00, 16.18it/s, v_num=0]"
     ]
    },
    {
     "name": "stderr",
     "output_type": "stream",
     "text": [
      "`Trainer.fit` stopped: `max_epochs=10` reached.\n"
     ]
    },
    {
     "name": "stdout",
     "output_type": "stream",
     "text": [
      "Epoch 9: 100%|██████████| 154/154 [00:09<00:00, 16.17it/s, v_num=0]\n"
     ]
    },
    {
     "name": "stderr",
     "output_type": "stream",
     "text": [
      "GPU available: False, used: False\n",
      "TPU available: False, using: 0 TPU cores\n",
      "IPU available: False, using: 0 IPUs\n",
      "HPU available: False, using: 0 HPUs\n",
      "Missing logger folder: runs/lr0.0001/RUAD_softmax_6\n",
      "\n",
      "  | Name        | Type           | Params\n",
      "-----------------------------------------------\n",
      "0 | model       | RUADWithGating | 33.5 K\n",
      "1 | loss_fn     | MSELoss        | 0     \n",
      "2 | all_targets | CatMetric      | 0     \n",
      "3 | all_labels  | CatMetric      | 0     \n",
      "4 | all_preds   | CatMetric      | 0     \n",
      "-----------------------------------------------\n",
      "33.5 K    Trainable params\n",
      "0         Non-trainable params\n",
      "33.5 K    Total params\n",
      "0.134     Total estimated model params size (MB)\n"
     ]
    },
    {
     "name": "stdout",
     "output_type": "stream",
     "text": [
      "                                                                           \r"
     ]
    },
    {
     "name": "stderr",
     "output_type": "stream",
     "text": [
      "/home/prahtz/workspace/nlp-ad-m100/env/lib/python3.8/site-packages/torchmetrics/utilities/prints.py:43: UserWarning: No positive samples in targets, true positive value should be meaningless. Returning zero tensor in true positive score\n",
      "  warnings.warn(*args, **kwargs)  # noqa: B028\n"
     ]
    },
    {
     "name": "stdout",
     "output_type": "stream",
     "text": [
      "Epoch 9: 100%|██████████| 160/160 [00:09<00:00, 17.35it/s, v_num=0]"
     ]
    },
    {
     "name": "stderr",
     "output_type": "stream",
     "text": [
      "`Trainer.fit` stopped: `max_epochs=10` reached.\n"
     ]
    },
    {
     "name": "stdout",
     "output_type": "stream",
     "text": [
      "Epoch 9: 100%|██████████| 160/160 [00:09<00:00, 17.34it/s, v_num=0]\n"
     ]
    },
    {
     "name": "stderr",
     "output_type": "stream",
     "text": [
      "GPU available: False, used: False\n",
      "TPU available: False, using: 0 TPU cores\n",
      "IPU available: False, using: 0 IPUs\n",
      "HPU available: False, using: 0 HPUs\n",
      "Missing logger folder: runs/lr0.0001/RUAD_softmax_7\n",
      "\n",
      "  | Name        | Type           | Params\n",
      "-----------------------------------------------\n",
      "0 | model       | RUADWithGating | 33.5 K\n",
      "1 | loss_fn     | MSELoss        | 0     \n",
      "2 | all_targets | CatMetric      | 0     \n",
      "3 | all_labels  | CatMetric      | 0     \n",
      "4 | all_preds   | CatMetric      | 0     \n",
      "-----------------------------------------------\n",
      "33.5 K    Trainable params\n",
      "0         Non-trainable params\n",
      "33.5 K    Total params\n",
      "0.134     Total estimated model params size (MB)\n"
     ]
    },
    {
     "name": "stdout",
     "output_type": "stream",
     "text": [
      "                                                                           \r"
     ]
    },
    {
     "name": "stderr",
     "output_type": "stream",
     "text": [
      "/home/prahtz/workspace/nlp-ad-m100/env/lib/python3.8/site-packages/torchmetrics/utilities/prints.py:43: UserWarning: No positive samples in targets, true positive value should be meaningless. Returning zero tensor in true positive score\n",
      "  warnings.warn(*args, **kwargs)  # noqa: B028\n"
     ]
    },
    {
     "name": "stdout",
     "output_type": "stream",
     "text": [
      "Epoch 9: 100%|██████████| 436/436 [00:24<00:00, 17.49it/s, v_num=0]"
     ]
    },
    {
     "name": "stderr",
     "output_type": "stream",
     "text": [
      "`Trainer.fit` stopped: `max_epochs=10` reached.\n"
     ]
    },
    {
     "name": "stdout",
     "output_type": "stream",
     "text": [
      "Epoch 9: 100%|██████████| 436/436 [00:24<00:00, 17.48it/s, v_num=0]\n"
     ]
    },
    {
     "name": "stderr",
     "output_type": "stream",
     "text": [
      "GPU available: False, used: False\n",
      "TPU available: False, using: 0 TPU cores\n",
      "IPU available: False, using: 0 IPUs\n",
      "HPU available: False, using: 0 HPUs\n",
      "Missing logger folder: runs/lr0.0001/RUAD_softmax_8\n",
      "\n",
      "  | Name        | Type           | Params\n",
      "-----------------------------------------------\n",
      "0 | model       | RUADWithGating | 33.5 K\n",
      "1 | loss_fn     | MSELoss        | 0     \n",
      "2 | all_targets | CatMetric      | 0     \n",
      "3 | all_labels  | CatMetric      | 0     \n",
      "4 | all_preds   | CatMetric      | 0     \n",
      "-----------------------------------------------\n",
      "33.5 K    Trainable params\n",
      "0         Non-trainable params\n",
      "33.5 K    Total params\n",
      "0.134     Total estimated model params size (MB)\n"
     ]
    },
    {
     "name": "stdout",
     "output_type": "stream",
     "text": [
      "                                                                           \r"
     ]
    },
    {
     "name": "stderr",
     "output_type": "stream",
     "text": [
      "/home/prahtz/workspace/nlp-ad-m100/env/lib/python3.8/site-packages/torchmetrics/utilities/prints.py:43: UserWarning: No positive samples in targets, true positive value should be meaningless. Returning zero tensor in true positive score\n",
      "  warnings.warn(*args, **kwargs)  # noqa: B028\n"
     ]
    },
    {
     "name": "stdout",
     "output_type": "stream",
     "text": [
      "Epoch 9: 100%|██████████| 436/436 [00:20<00:00, 21.64it/s, v_num=0]"
     ]
    },
    {
     "name": "stderr",
     "output_type": "stream",
     "text": [
      "`Trainer.fit` stopped: `max_epochs=10` reached.\n"
     ]
    },
    {
     "name": "stdout",
     "output_type": "stream",
     "text": [
      "Epoch 9: 100%|██████████| 436/436 [00:20<00:00, 21.61it/s, v_num=0]\n"
     ]
    },
    {
     "name": "stderr",
     "output_type": "stream",
     "text": [
      "GPU available: False, used: False\n",
      "TPU available: False, using: 0 TPU cores\n",
      "IPU available: False, using: 0 IPUs\n",
      "HPU available: False, using: 0 HPUs\n",
      "Missing logger folder: runs/lr0.0001/RUAD_softmax_9\n",
      "\n",
      "  | Name        | Type           | Params\n",
      "-----------------------------------------------\n",
      "0 | model       | RUADWithGating | 33.5 K\n",
      "1 | loss_fn     | MSELoss        | 0     \n",
      "2 | all_targets | CatMetric      | 0     \n",
      "3 | all_labels  | CatMetric      | 0     \n",
      "4 | all_preds   | CatMetric      | 0     \n",
      "-----------------------------------------------\n",
      "33.5 K    Trainable params\n",
      "0         Non-trainable params\n",
      "33.5 K    Total params\n",
      "0.134     Total estimated model params size (MB)\n"
     ]
    },
    {
     "name": "stdout",
     "output_type": "stream",
     "text": [
      "                                                                           \r"
     ]
    },
    {
     "name": "stderr",
     "output_type": "stream",
     "text": [
      "/home/prahtz/workspace/nlp-ad-m100/env/lib/python3.8/site-packages/torchmetrics/utilities/prints.py:43: UserWarning: No positive samples in targets, true positive value should be meaningless. Returning zero tensor in true positive score\n",
      "  warnings.warn(*args, **kwargs)  # noqa: B028\n"
     ]
    },
    {
     "name": "stdout",
     "output_type": "stream",
     "text": [
      "Epoch 9: 100%|██████████| 441/441 [00:22<00:00, 19.98it/s, v_num=0]"
     ]
    },
    {
     "name": "stderr",
     "output_type": "stream",
     "text": [
      "`Trainer.fit` stopped: `max_epochs=10` reached.\n"
     ]
    },
    {
     "name": "stdout",
     "output_type": "stream",
     "text": [
      "Epoch 9: 100%|██████████| 441/441 [00:22<00:00, 19.98it/s, v_num=0]\n"
     ]
    },
    {
     "name": "stderr",
     "output_type": "stream",
     "text": [
      "GPU available: False, used: False\n",
      "TPU available: False, using: 0 TPU cores\n",
      "IPU available: False, using: 0 IPUs\n",
      "HPU available: False, using: 0 HPUs\n",
      "Missing logger folder: runs/lr0.0001/RUAD_softmax_10\n",
      "\n",
      "  | Name        | Type           | Params\n",
      "-----------------------------------------------\n",
      "0 | model       | RUADWithGating | 33.5 K\n",
      "1 | loss_fn     | MSELoss        | 0     \n",
      "2 | all_targets | CatMetric      | 0     \n",
      "3 | all_labels  | CatMetric      | 0     \n",
      "4 | all_preds   | CatMetric      | 0     \n",
      "-----------------------------------------------\n",
      "33.5 K    Trainable params\n",
      "0         Non-trainable params\n",
      "33.5 K    Total params\n",
      "0.134     Total estimated model params size (MB)\n"
     ]
    },
    {
     "name": "stdout",
     "output_type": "stream",
     "text": [
      "                                                                           \r"
     ]
    },
    {
     "name": "stderr",
     "output_type": "stream",
     "text": [
      "/home/prahtz/workspace/nlp-ad-m100/env/lib/python3.8/site-packages/torchmetrics/utilities/prints.py:43: UserWarning: No positive samples in targets, true positive value should be meaningless. Returning zero tensor in true positive score\n",
      "  warnings.warn(*args, **kwargs)  # noqa: B028\n"
     ]
    },
    {
     "name": "stdout",
     "output_type": "stream",
     "text": [
      "Epoch 9: 100%|██████████| 441/441 [00:20<00:00, 21.89it/s, v_num=0]"
     ]
    },
    {
     "name": "stderr",
     "output_type": "stream",
     "text": [
      "`Trainer.fit` stopped: `max_epochs=10` reached.\n"
     ]
    },
    {
     "name": "stdout",
     "output_type": "stream",
     "text": [
      "Epoch 9: 100%|██████████| 441/441 [00:20<00:00, 21.89it/s, v_num=0]\n"
     ]
    },
    {
     "name": "stderr",
     "output_type": "stream",
     "text": [
      "GPU available: False, used: False\n",
      "TPU available: False, using: 0 TPU cores\n",
      "IPU available: False, using: 0 IPUs\n",
      "HPU available: False, using: 0 HPUs\n",
      "Missing logger folder: runs/lr0.0001/RUAD_softmax_11\n",
      "\n",
      "  | Name        | Type           | Params\n",
      "-----------------------------------------------\n",
      "0 | model       | RUADWithGating | 33.5 K\n",
      "1 | loss_fn     | MSELoss        | 0     \n",
      "2 | all_targets | CatMetric      | 0     \n",
      "3 | all_labels  | CatMetric      | 0     \n",
      "4 | all_preds   | CatMetric      | 0     \n",
      "-----------------------------------------------\n",
      "33.5 K    Trainable params\n",
      "0         Non-trainable params\n",
      "33.5 K    Total params\n",
      "0.134     Total estimated model params size (MB)\n"
     ]
    },
    {
     "name": "stdout",
     "output_type": "stream",
     "text": [
      "                                                                           \r"
     ]
    },
    {
     "name": "stderr",
     "output_type": "stream",
     "text": [
      "/home/prahtz/workspace/nlp-ad-m100/env/lib/python3.8/site-packages/torchmetrics/utilities/prints.py:43: UserWarning: No positive samples in targets, true positive value should be meaningless. Returning zero tensor in true positive score\n",
      "  warnings.warn(*args, **kwargs)  # noqa: B028\n"
     ]
    },
    {
     "name": "stdout",
     "output_type": "stream",
     "text": [
      "Epoch 9: 100%|██████████| 441/441 [00:22<00:00, 19.72it/s, v_num=0]"
     ]
    },
    {
     "name": "stderr",
     "output_type": "stream",
     "text": [
      "`Trainer.fit` stopped: `max_epochs=10` reached.\n"
     ]
    },
    {
     "name": "stdout",
     "output_type": "stream",
     "text": [
      "Epoch 9: 100%|██████████| 441/441 [00:22<00:00, 19.70it/s, v_num=0]\n"
     ]
    },
    {
     "name": "stderr",
     "output_type": "stream",
     "text": [
      "GPU available: False, used: False\n",
      "TPU available: False, using: 0 TPU cores\n",
      "IPU available: False, using: 0 IPUs\n",
      "HPU available: False, using: 0 HPUs\n",
      "Missing logger folder: runs/lr0.0001/RUAD_softmax_13\n",
      "\n",
      "  | Name        | Type           | Params\n",
      "-----------------------------------------------\n",
      "0 | model       | RUADWithGating | 33.5 K\n",
      "1 | loss_fn     | MSELoss        | 0     \n",
      "2 | all_targets | CatMetric      | 0     \n",
      "3 | all_labels  | CatMetric      | 0     \n",
      "4 | all_preds   | CatMetric      | 0     \n",
      "-----------------------------------------------\n",
      "33.5 K    Trainable params\n",
      "0         Non-trainable params\n",
      "33.5 K    Total params\n",
      "0.134     Total estimated model params size (MB)\n"
     ]
    },
    {
     "name": "stdout",
     "output_type": "stream",
     "text": [
      "                                                                           \r"
     ]
    },
    {
     "name": "stderr",
     "output_type": "stream",
     "text": [
      "/home/prahtz/workspace/nlp-ad-m100/env/lib/python3.8/site-packages/torchmetrics/utilities/prints.py:43: UserWarning: No positive samples in targets, true positive value should be meaningless. Returning zero tensor in true positive score\n",
      "  warnings.warn(*args, **kwargs)  # noqa: B028\n"
     ]
    },
    {
     "name": "stdout",
     "output_type": "stream",
     "text": [
      "Epoch 9: 100%|██████████| 439/439 [00:19<00:00, 21.98it/s, v_num=0]"
     ]
    },
    {
     "name": "stderr",
     "output_type": "stream",
     "text": [
      "`Trainer.fit` stopped: `max_epochs=10` reached.\n"
     ]
    },
    {
     "name": "stdout",
     "output_type": "stream",
     "text": [
      "Epoch 9: 100%|██████████| 439/439 [00:19<00:00, 21.96it/s, v_num=0]\n"
     ]
    },
    {
     "name": "stderr",
     "output_type": "stream",
     "text": [
      "GPU available: False, used: False\n",
      "TPU available: False, using: 0 TPU cores\n",
      "IPU available: False, using: 0 IPUs\n",
      "HPU available: False, using: 0 HPUs\n",
      "Missing logger folder: runs/lr0.0001/RUAD_softmax_14\n",
      "\n",
      "  | Name        | Type           | Params\n",
      "-----------------------------------------------\n",
      "0 | model       | RUADWithGating | 33.5 K\n",
      "1 | loss_fn     | MSELoss        | 0     \n",
      "2 | all_targets | CatMetric      | 0     \n",
      "3 | all_labels  | CatMetric      | 0     \n",
      "4 | all_preds   | CatMetric      | 0     \n",
      "-----------------------------------------------\n",
      "33.5 K    Trainable params\n",
      "0         Non-trainable params\n",
      "33.5 K    Total params\n",
      "0.134     Total estimated model params size (MB)\n"
     ]
    },
    {
     "name": "stdout",
     "output_type": "stream",
     "text": [
      "                                                                           \r"
     ]
    },
    {
     "name": "stderr",
     "output_type": "stream",
     "text": [
      "/home/prahtz/workspace/nlp-ad-m100/env/lib/python3.8/site-packages/torchmetrics/utilities/prints.py:43: UserWarning: No positive samples in targets, true positive value should be meaningless. Returning zero tensor in true positive score\n",
      "  warnings.warn(*args, **kwargs)  # noqa: B028\n"
     ]
    },
    {
     "name": "stdout",
     "output_type": "stream",
     "text": [
      "Epoch 9: 100%|██████████| 437/437 [00:19<00:00, 22.55it/s, v_num=0]"
     ]
    },
    {
     "name": "stderr",
     "output_type": "stream",
     "text": [
      "`Trainer.fit` stopped: `max_epochs=10` reached.\n"
     ]
    },
    {
     "name": "stdout",
     "output_type": "stream",
     "text": [
      "Epoch 9: 100%|██████████| 437/437 [00:19<00:00, 22.54it/s, v_num=0]\n"
     ]
    },
    {
     "name": "stderr",
     "output_type": "stream",
     "text": [
      "GPU available: False, used: False\n",
      "TPU available: False, using: 0 TPU cores\n",
      "IPU available: False, using: 0 IPUs\n",
      "HPU available: False, using: 0 HPUs\n",
      "Missing logger folder: runs/lr0.0001/RUAD_softmax_16\n",
      "\n",
      "  | Name        | Type           | Params\n",
      "-----------------------------------------------\n",
      "0 | model       | RUADWithGating | 33.5 K\n",
      "1 | loss_fn     | MSELoss        | 0     \n",
      "2 | all_targets | CatMetric      | 0     \n",
      "3 | all_labels  | CatMetric      | 0     \n",
      "4 | all_preds   | CatMetric      | 0     \n",
      "-----------------------------------------------\n",
      "33.5 K    Trainable params\n",
      "0         Non-trainable params\n",
      "33.5 K    Total params\n",
      "0.134     Total estimated model params size (MB)\n"
     ]
    },
    {
     "name": "stdout",
     "output_type": "stream",
     "text": [
      "                                                                           \r"
     ]
    },
    {
     "name": "stderr",
     "output_type": "stream",
     "text": [
      "/home/prahtz/workspace/nlp-ad-m100/env/lib/python3.8/site-packages/torchmetrics/utilities/prints.py:43: UserWarning: No positive samples in targets, true positive value should be meaningless. Returning zero tensor in true positive score\n",
      "  warnings.warn(*args, **kwargs)  # noqa: B028\n"
     ]
    },
    {
     "name": "stdout",
     "output_type": "stream",
     "text": [
      "Epoch 9: 100%|██████████| 429/429 [00:19<00:00, 22.28it/s, v_num=0]"
     ]
    },
    {
     "name": "stderr",
     "output_type": "stream",
     "text": [
      "`Trainer.fit` stopped: `max_epochs=10` reached.\n"
     ]
    },
    {
     "name": "stdout",
     "output_type": "stream",
     "text": [
      "Epoch 9: 100%|██████████| 429/429 [00:19<00:00, 22.28it/s, v_num=0]\n"
     ]
    },
    {
     "name": "stderr",
     "output_type": "stream",
     "text": [
      "GPU available: False, used: False\n",
      "TPU available: False, using: 0 TPU cores\n",
      "IPU available: False, using: 0 IPUs\n",
      "HPU available: False, using: 0 HPUs\n",
      "Missing logger folder: runs/lr0.0001/RUAD_softmax_17\n",
      "\n",
      "  | Name        | Type           | Params\n",
      "-----------------------------------------------\n",
      "0 | model       | RUADWithGating | 33.5 K\n",
      "1 | loss_fn     | MSELoss        | 0     \n",
      "2 | all_targets | CatMetric      | 0     \n",
      "3 | all_labels  | CatMetric      | 0     \n",
      "4 | all_preds   | CatMetric      | 0     \n",
      "-----------------------------------------------\n",
      "33.5 K    Trainable params\n",
      "0         Non-trainable params\n",
      "33.5 K    Total params\n",
      "0.134     Total estimated model params size (MB)\n"
     ]
    },
    {
     "name": "stdout",
     "output_type": "stream",
     "text": [
      "                                                                           \r"
     ]
    },
    {
     "name": "stderr",
     "output_type": "stream",
     "text": [
      "/home/prahtz/workspace/nlp-ad-m100/env/lib/python3.8/site-packages/torchmetrics/utilities/prints.py:43: UserWarning: No positive samples in targets, true positive value should be meaningless. Returning zero tensor in true positive score\n",
      "  warnings.warn(*args, **kwargs)  # noqa: B028\n"
     ]
    },
    {
     "name": "stdout",
     "output_type": "stream",
     "text": [
      "Epoch 9: 100%|██████████| 437/437 [00:19<00:00, 22.91it/s, v_num=0]"
     ]
    },
    {
     "name": "stderr",
     "output_type": "stream",
     "text": [
      "`Trainer.fit` stopped: `max_epochs=10` reached.\n"
     ]
    },
    {
     "name": "stdout",
     "output_type": "stream",
     "text": [
      "Epoch 9: 100%|██████████| 437/437 [00:19<00:00, 22.91it/s, v_num=0]\n"
     ]
    },
    {
     "name": "stderr",
     "output_type": "stream",
     "text": [
      "GPU available: False, used: False\n",
      "TPU available: False, using: 0 TPU cores\n",
      "IPU available: False, using: 0 IPUs\n",
      "HPU available: False, using: 0 HPUs\n",
      "Missing logger folder: runs/lr0.0001/RUAD_softmax_18\n",
      "\n",
      "  | Name        | Type           | Params\n",
      "-----------------------------------------------\n",
      "0 | model       | RUADWithGating | 33.5 K\n",
      "1 | loss_fn     | MSELoss        | 0     \n",
      "2 | all_targets | CatMetric      | 0     \n",
      "3 | all_labels  | CatMetric      | 0     \n",
      "4 | all_preds   | CatMetric      | 0     \n",
      "-----------------------------------------------\n",
      "33.5 K    Trainable params\n",
      "0         Non-trainable params\n",
      "33.5 K    Total params\n",
      "0.134     Total estimated model params size (MB)\n"
     ]
    },
    {
     "name": "stdout",
     "output_type": "stream",
     "text": [
      "                                                                           \r"
     ]
    },
    {
     "name": "stderr",
     "output_type": "stream",
     "text": [
      "/home/prahtz/workspace/nlp-ad-m100/env/lib/python3.8/site-packages/torchmetrics/utilities/prints.py:43: UserWarning: No positive samples in targets, true positive value should be meaningless. Returning zero tensor in true positive score\n",
      "  warnings.warn(*args, **kwargs)  # noqa: B028\n"
     ]
    },
    {
     "name": "stdout",
     "output_type": "stream",
     "text": [
      "Epoch 9: 100%|██████████| 393/393 [00:17<00:00, 22.06it/s, v_num=0]"
     ]
    },
    {
     "name": "stderr",
     "output_type": "stream",
     "text": [
      "`Trainer.fit` stopped: `max_epochs=10` reached.\n"
     ]
    },
    {
     "name": "stdout",
     "output_type": "stream",
     "text": [
      "Epoch 9: 100%|██████████| 393/393 [00:17<00:00, 22.05it/s, v_num=0]\n"
     ]
    },
    {
     "name": "stderr",
     "output_type": "stream",
     "text": [
      "GPU available: False, used: False\n",
      "TPU available: False, using: 0 TPU cores\n",
      "IPU available: False, using: 0 IPUs\n",
      "HPU available: False, using: 0 HPUs\n",
      "Missing logger folder: runs/lr0.0001/RUAD_softmax_19\n",
      "\n",
      "  | Name        | Type           | Params\n",
      "-----------------------------------------------\n",
      "0 | model       | RUADWithGating | 33.5 K\n",
      "1 | loss_fn     | MSELoss        | 0     \n",
      "2 | all_targets | CatMetric      | 0     \n",
      "3 | all_labels  | CatMetric      | 0     \n",
      "4 | all_preds   | CatMetric      | 0     \n",
      "-----------------------------------------------\n",
      "33.5 K    Trainable params\n",
      "0         Non-trainable params\n",
      "33.5 K    Total params\n",
      "0.134     Total estimated model params size (MB)\n"
     ]
    },
    {
     "name": "stdout",
     "output_type": "stream",
     "text": [
      "                                                                           \r"
     ]
    },
    {
     "name": "stderr",
     "output_type": "stream",
     "text": [
      "/home/prahtz/workspace/nlp-ad-m100/env/lib/python3.8/site-packages/torchmetrics/utilities/prints.py:43: UserWarning: No positive samples in targets, true positive value should be meaningless. Returning zero tensor in true positive score\n",
      "  warnings.warn(*args, **kwargs)  # noqa: B028\n"
     ]
    },
    {
     "name": "stdout",
     "output_type": "stream",
     "text": [
      "Epoch 9: 100%|██████████| 380/380 [00:17<00:00, 21.95it/s, v_num=0]"
     ]
    },
    {
     "name": "stderr",
     "output_type": "stream",
     "text": [
      "`Trainer.fit` stopped: `max_epochs=10` reached.\n"
     ]
    },
    {
     "name": "stdout",
     "output_type": "stream",
     "text": [
      "Epoch 9: 100%|██████████| 380/380 [00:17<00:00, 21.94it/s, v_num=0]\n"
     ]
    }
   ],
   "source": [
    "for node in rack_0:\n",
    "    set_seed(seed)\n",
    "    file_path = root_path / f\"{node}.parquet\"\n",
    "    train_dataset = TimeAggregatedNode(root_path=file_path, descriptions_path=\"descriptions.csv\", split=\"train\", window_size=window_size)\n",
    "    test_dataset = TimeAggregatedNode(root_path=file_path, descriptions_path=\"descriptions.csv\", split=\"test\", window_size=window_size)\n",
    "    train_loader = DataLoader(\n",
    "        dataset=train_dataset,\n",
    "        batch_size=batch_size,\n",
    "        num_workers=num_workers,\n",
    "        collate_fn=batch_collator,\n",
    "        shuffle=True,\n",
    "    )\n",
    "    test_loader = DataLoader(\n",
    "        dataset=test_dataset,\n",
    "        batch_size=batch_size,\n",
    "        num_workers=num_workers,\n",
    "        collate_fn=batch_collator,\n",
    "    )\n",
    "\n",
    "    model = RUADModule(RUADWithGating(sentence_embeddings, gating=\"softmax\"), lr=lr, optimizer=\"adam\")\n",
    "    train(model, train_loader, test_loader, name=f\"lr{lr}/RUAD_softmax_{node}\", num_epochs=10)"
   ]
  },
  {
   "cell_type": "markdown",
   "metadata": {},
   "source": [
    "# Rack Analysis"
   ]
  },
  {
   "cell_type": "code",
   "execution_count": null,
   "metadata": {},
   "outputs": [],
   "source": [
    "trainer = L.Trainer()\n",
    "results_softmax = {}\n",
    "\n",
    "for node in rack_0:\n",
    "    file_path = root_path / f\"{node}.parquet\"\n",
    "    test_dataset = TimeAggregatedNode(root_path=file_path, descriptions_path=\"descriptions.csv\", split=\"test\", window_size=window_size)\n",
    "    test_loader = DataLoader(dataset=test_dataset, batch_size=batch_size, num_workers=num_workers, collate_fn=batch_collator)\n",
    "\n",
    "    model = RUADWithGating(sentence_embeddings, gating=\"softmax\")\n",
    "    model_softmax = RUADModule.load_from_checkpoint(f\"runs/lr{lr}/RUAD_softmax_{node}/version_0/checkpoints/best.ckpt\", model=model, lr=lr)\n",
    "    results_softmax[node] = trainer.test(model_softmax, test_loader, verbose=False)[0][\"roc_auc\"]"
   ]
  },
  {
   "cell_type": "code",
   "execution_count": null,
   "metadata": {},
   "outputs": [],
   "source": [
    "import pickle as pkl\n",
    "\n",
    "with open(\"results.pkl\", \"wb\") as f:\n",
    "    pkl.dump(results, f)"
   ]
  },
  {
   "cell_type": "code",
   "execution_count": null,
   "metadata": {},
   "outputs": [],
   "source": [
    "import pickle as pkl\n",
    "\n",
    "with open(\"results.pkl\", \"rb\") as f:\n",
    "    results_tmp = pkl.load(f)"
   ]
  },
  {
   "cell_type": "code",
   "execution_count": null,
   "metadata": {},
   "outputs": [],
   "source": [
    "results_softmax = {}\n",
    "for node in rack_0:\n",
    "    results_softmax[node] = results_tmp[\"nlp\"][str(node)][0][\"roc_auc\"]"
   ]
  },
  {
   "cell_type": "code",
   "execution_count": null,
   "metadata": {},
   "outputs": [
    {
     "name": "stdout",
     "output_type": "stream",
     "text": [
      "Average ROC-AUC improvement of RUAD with Softmax gating w.r.t. baseline: -0.007719308137893677\n",
      "ROC-AUC improvement on node 2: -0.04158294200897217\n",
      "ROC-AUC improvement on node 3: -0.0006822347640991211\n",
      "ROC-AUC improvement on node 4: -0.05500906705856323\n",
      "ROC-AUC improvement on node 5: 0.007400810718536377\n",
      "ROC-AUC improvement on node 6: 0.04093295335769653\n",
      "ROC-AUC improvement on node 7: -0.014562547206878662\n",
      "ROC-AUC improvement on node 8: 0.0013898015022277832\n",
      "ROC-AUC improvement on node 9: 0.04607510566711426\n",
      "ROC-AUC improvement on node 10: -0.013175427913665771\n",
      "ROC-AUC improvement on node 11: -0.010539054870605469\n",
      "ROC-AUC improvement on node 13: -0.02252882719039917\n",
      "ROC-AUC improvement on node 14: -0.08057284355163574\n",
      "ROC-AUC improvement on node 16: -0.025641441345214844\n",
      "ROC-AUC improvement on node 17: 0.013124346733093262\n",
      "ROC-AUC improvement on node 18: 0.027100205421447754\n",
      "ROC-AUC improvement on node 19: 0.004762232303619385\n"
     ]
    }
   ],
   "source": [
    "avg_softmax_roc_improvement = 0.0\n",
    "for node in rack_0:\n",
    "    base_roc = results_baseline[node]\n",
    "    avg_softmax_roc_improvement += results_softmax[node] - base_roc\n",
    "avg_softmax_roc_improvement /= len(rack_0)\n",
    "print(\"Average ROC-AUC improvement of RUAD with Softmax gating w.r.t. baseline:\", avg_softmax_roc_improvement)\n",
    "for node in rack_0:\n",
    "    print(f\"ROC-AUC improvement on node {node}:\", results_softmax[node] - results_baseline[node])"
   ]
  },
  {
   "cell_type": "markdown",
   "metadata": {},
   "source": [
    "# RUAD with 25% top features (from softmax distribution over feature descriptions)"
   ]
  },
  {
   "cell_type": "code",
   "execution_count": 12,
   "metadata": {},
   "outputs": [],
   "source": [
    "def get_top_percentile_features(soft_weights: torch.Tensor, percentile: float):\n",
    "    assert percentile <= 1 and percentile >= 0\n",
    "    soft_weights = soft_weights.numpy()\n",
    "    soft_weights_cumsum = np.sort(soft_weights)[::-1].cumsum()\n",
    "    for i in range(len(soft_weights_cumsum)):\n",
    "        if soft_weights_cumsum[i] > percentile:\n",
    "            break\n",
    "    return np.argsort(soft_weights)[::-1][:i].tolist()\n",
    "\n",
    "\n",
    "def get_top_percent_features(soft_weights: torch.Tensor, percent: float):\n",
    "    assert percent <= 1 and percent >= 0\n",
    "    soft_weights = soft_weights.numpy()\n",
    "    idx = int(len(soft_weights) * percent)\n",
    "    return np.argsort(soft_weights)[::-1][:idx].tolist()\n",
    "\n",
    "\n",
    "def get_bottom_percent_features(soft_weights: torch.Tensor, percent: float):\n",
    "    assert percent <= 1 and percent >= 0\n",
    "    soft_weights = soft_weights.numpy()\n",
    "    idx = int(len(soft_weights) * percent)\n",
    "    return np.argsort(soft_weights)[:idx].tolist()"
   ]
  },
  {
   "cell_type": "markdown",
   "metadata": {},
   "source": [
    "# Top 25% features test"
   ]
  },
  {
   "cell_type": "code",
   "execution_count": 13,
   "metadata": {},
   "outputs": [
    {
     "name": "stderr",
     "output_type": "stream",
     "text": [
      "GPU available: False, used: False\n",
      "TPU available: False, using: 0 TPU cores\n",
      "IPU available: False, using: 0 IPUs\n",
      "HPU available: False, using: 0 HPUs\n",
      "Missing logger folder: runs/lr0.0001/RUAD_topperc0.25_2\n",
      "\n",
      "  | Name        | Type      | Params\n",
      "------------------------------------------\n",
      "0 | model       | RUAD      | 11.7 K\n",
      "1 | loss_fn     | MSELoss   | 0     \n",
      "2 | all_targets | CatMetric | 0     \n",
      "3 | all_labels  | CatMetric | 0     \n",
      "4 | all_preds   | CatMetric | 0     \n",
      "------------------------------------------\n",
      "11.7 K    Trainable params\n",
      "0         Non-trainable params\n",
      "11.7 K    Total params\n",
      "0.047     Total estimated model params size (MB)\n"
     ]
    },
    {
     "name": "stdout",
     "output_type": "stream",
     "text": [
      "                                                                           \r"
     ]
    },
    {
     "name": "stderr",
     "output_type": "stream",
     "text": [
      "/home/prahtz/workspace/nlp-ad-m100/env/lib/python3.8/site-packages/torchmetrics/utilities/prints.py:43: UserWarning: No positive samples in targets, true positive value should be meaningless. Returning zero tensor in true positive score\n",
      "  warnings.warn(*args, **kwargs)  # noqa: B028\n"
     ]
    },
    {
     "name": "stdout",
     "output_type": "stream",
     "text": [
      "Epoch 9: 100%|██████████| 376/376 [00:17<00:00, 21.92it/s, v_num=0]"
     ]
    },
    {
     "name": "stderr",
     "output_type": "stream",
     "text": [
      "`Trainer.fit` stopped: `max_epochs=10` reached.\n"
     ]
    },
    {
     "name": "stdout",
     "output_type": "stream",
     "text": [
      "Epoch 9: 100%|██████████| 376/376 [00:17<00:00, 21.91it/s, v_num=0]\n"
     ]
    },
    {
     "name": "stderr",
     "output_type": "stream",
     "text": [
      "GPU available: False, used: False\n",
      "TPU available: False, using: 0 TPU cores\n",
      "IPU available: False, using: 0 IPUs\n",
      "HPU available: False, using: 0 HPUs\n",
      "Missing logger folder: runs/lr0.0001/RUAD_topperc0.25_3\n",
      "\n",
      "  | Name        | Type      | Params\n",
      "------------------------------------------\n",
      "0 | model       | RUAD      | 11.7 K\n",
      "1 | loss_fn     | MSELoss   | 0     \n",
      "2 | all_targets | CatMetric | 0     \n",
      "3 | all_labels  | CatMetric | 0     \n",
      "4 | all_preds   | CatMetric | 0     \n",
      "------------------------------------------\n",
      "11.7 K    Trainable params\n",
      "0         Non-trainable params\n",
      "11.7 K    Total params\n",
      "0.047     Total estimated model params size (MB)\n"
     ]
    },
    {
     "name": "stdout",
     "output_type": "stream",
     "text": [
      "                                                                           \r"
     ]
    },
    {
     "name": "stderr",
     "output_type": "stream",
     "text": [
      "/home/prahtz/workspace/nlp-ad-m100/env/lib/python3.8/site-packages/torchmetrics/utilities/prints.py:43: UserWarning: No negative samples in targets, false positive value should be meaningless. Returning zero tensor in false positive score\n",
      "  warnings.warn(*args, **kwargs)  # noqa: B028\n"
     ]
    },
    {
     "name": "stdout",
     "output_type": "stream",
     "text": [
      "Epoch 9: 100%|██████████| 98/98 [00:07<00:00, 12.77it/s, v_num=0]"
     ]
    },
    {
     "name": "stderr",
     "output_type": "stream",
     "text": [
      "`Trainer.fit` stopped: `max_epochs=10` reached.\n"
     ]
    },
    {
     "name": "stdout",
     "output_type": "stream",
     "text": [
      "Epoch 9: 100%|██████████| 98/98 [00:07<00:00, 12.75it/s, v_num=0]\n"
     ]
    },
    {
     "name": "stderr",
     "output_type": "stream",
     "text": [
      "GPU available: False, used: False\n",
      "TPU available: False, using: 0 TPU cores\n",
      "IPU available: False, using: 0 IPUs\n",
      "HPU available: False, using: 0 HPUs\n",
      "Missing logger folder: runs/lr0.0001/RUAD_topperc0.25_4\n",
      "\n",
      "  | Name        | Type      | Params\n",
      "------------------------------------------\n",
      "0 | model       | RUAD      | 11.7 K\n",
      "1 | loss_fn     | MSELoss   | 0     \n",
      "2 | all_targets | CatMetric | 0     \n",
      "3 | all_labels  | CatMetric | 0     \n",
      "4 | all_preds   | CatMetric | 0     \n",
      "------------------------------------------\n",
      "11.7 K    Trainable params\n",
      "0         Non-trainable params\n",
      "11.7 K    Total params\n",
      "0.047     Total estimated model params size (MB)\n"
     ]
    },
    {
     "name": "stdout",
     "output_type": "stream",
     "text": [
      "                                                                           \r"
     ]
    },
    {
     "name": "stderr",
     "output_type": "stream",
     "text": [
      "/home/prahtz/workspace/nlp-ad-m100/env/lib/python3.8/site-packages/torchmetrics/utilities/prints.py:43: UserWarning: No positive samples in targets, true positive value should be meaningless. Returning zero tensor in true positive score\n",
      "  warnings.warn(*args, **kwargs)  # noqa: B028\n"
     ]
    },
    {
     "name": "stdout",
     "output_type": "stream",
     "text": [
      "Epoch 9: 100%|██████████| 153/153 [00:09<00:00, 16.11it/s, v_num=0]"
     ]
    },
    {
     "name": "stderr",
     "output_type": "stream",
     "text": [
      "`Trainer.fit` stopped: `max_epochs=10` reached.\n"
     ]
    },
    {
     "name": "stdout",
     "output_type": "stream",
     "text": [
      "Epoch 9: 100%|██████████| 153/153 [00:09<00:00, 16.09it/s, v_num=0]\n"
     ]
    },
    {
     "name": "stderr",
     "output_type": "stream",
     "text": [
      "GPU available: False, used: False\n",
      "TPU available: False, using: 0 TPU cores\n",
      "IPU available: False, using: 0 IPUs\n",
      "HPU available: False, using: 0 HPUs\n",
      "Missing logger folder: runs/lr0.0001/RUAD_topperc0.25_5\n",
      "\n",
      "  | Name        | Type      | Params\n",
      "------------------------------------------\n",
      "0 | model       | RUAD      | 11.7 K\n",
      "1 | loss_fn     | MSELoss   | 0     \n",
      "2 | all_targets | CatMetric | 0     \n",
      "3 | all_labels  | CatMetric | 0     \n",
      "4 | all_preds   | CatMetric | 0     \n",
      "------------------------------------------\n",
      "11.7 K    Trainable params\n",
      "0         Non-trainable params\n",
      "11.7 K    Total params\n",
      "0.047     Total estimated model params size (MB)\n"
     ]
    },
    {
     "name": "stdout",
     "output_type": "stream",
     "text": [
      "                                                                           \r"
     ]
    },
    {
     "name": "stderr",
     "output_type": "stream",
     "text": [
      "/home/prahtz/workspace/nlp-ad-m100/env/lib/python3.8/site-packages/torchmetrics/utilities/prints.py:43: UserWarning: No positive samples in targets, true positive value should be meaningless. Returning zero tensor in true positive score\n",
      "  warnings.warn(*args, **kwargs)  # noqa: B028\n"
     ]
    },
    {
     "name": "stdout",
     "output_type": "stream",
     "text": [
      "Epoch 9: 100%|██████████| 154/154 [00:08<00:00, 18.71it/s, v_num=0]"
     ]
    },
    {
     "name": "stderr",
     "output_type": "stream",
     "text": [
      "`Trainer.fit` stopped: `max_epochs=10` reached.\n"
     ]
    },
    {
     "name": "stdout",
     "output_type": "stream",
     "text": [
      "Epoch 9: 100%|██████████| 154/154 [00:08<00:00, 18.69it/s, v_num=0]\n"
     ]
    },
    {
     "name": "stderr",
     "output_type": "stream",
     "text": [
      "GPU available: False, used: False\n",
      "TPU available: False, using: 0 TPU cores\n",
      "IPU available: False, using: 0 IPUs\n",
      "HPU available: False, using: 0 HPUs\n",
      "Missing logger folder: runs/lr0.0001/RUAD_topperc0.25_6\n",
      "\n",
      "  | Name        | Type      | Params\n",
      "------------------------------------------\n",
      "0 | model       | RUAD      | 11.7 K\n",
      "1 | loss_fn     | MSELoss   | 0     \n",
      "2 | all_targets | CatMetric | 0     \n",
      "3 | all_labels  | CatMetric | 0     \n",
      "4 | all_preds   | CatMetric | 0     \n",
      "------------------------------------------\n",
      "11.7 K    Trainable params\n",
      "0         Non-trainable params\n",
      "11.7 K    Total params\n",
      "0.047     Total estimated model params size (MB)\n"
     ]
    },
    {
     "name": "stdout",
     "output_type": "stream",
     "text": [
      "                                                                           \r"
     ]
    },
    {
     "name": "stderr",
     "output_type": "stream",
     "text": [
      "/home/prahtz/workspace/nlp-ad-m100/env/lib/python3.8/site-packages/torchmetrics/utilities/prints.py:43: UserWarning: No positive samples in targets, true positive value should be meaningless. Returning zero tensor in true positive score\n",
      "  warnings.warn(*args, **kwargs)  # noqa: B028\n"
     ]
    },
    {
     "name": "stdout",
     "output_type": "stream",
     "text": [
      "Epoch 9: 100%|██████████| 160/160 [00:07<00:00, 20.10it/s, v_num=0]"
     ]
    },
    {
     "name": "stderr",
     "output_type": "stream",
     "text": [
      "`Trainer.fit` stopped: `max_epochs=10` reached.\n"
     ]
    },
    {
     "name": "stdout",
     "output_type": "stream",
     "text": [
      "Epoch 9: 100%|██████████| 160/160 [00:07<00:00, 20.04it/s, v_num=0]\n"
     ]
    },
    {
     "name": "stderr",
     "output_type": "stream",
     "text": [
      "GPU available: False, used: False\n",
      "TPU available: False, using: 0 TPU cores\n",
      "IPU available: False, using: 0 IPUs\n",
      "HPU available: False, using: 0 HPUs\n",
      "Missing logger folder: runs/lr0.0001/RUAD_topperc0.25_7\n",
      "\n",
      "  | Name        | Type      | Params\n",
      "------------------------------------------\n",
      "0 | model       | RUAD      | 11.7 K\n",
      "1 | loss_fn     | MSELoss   | 0     \n",
      "2 | all_targets | CatMetric | 0     \n",
      "3 | all_labels  | CatMetric | 0     \n",
      "4 | all_preds   | CatMetric | 0     \n",
      "------------------------------------------\n",
      "11.7 K    Trainable params\n",
      "0         Non-trainable params\n",
      "11.7 K    Total params\n",
      "0.047     Total estimated model params size (MB)\n"
     ]
    },
    {
     "name": "stdout",
     "output_type": "stream",
     "text": [
      "                                                                           \r"
     ]
    },
    {
     "name": "stderr",
     "output_type": "stream",
     "text": [
      "/home/prahtz/workspace/nlp-ad-m100/env/lib/python3.8/site-packages/torchmetrics/utilities/prints.py:43: UserWarning: No positive samples in targets, true positive value should be meaningless. Returning zero tensor in true positive score\n",
      "  warnings.warn(*args, **kwargs)  # noqa: B028\n"
     ]
    },
    {
     "name": "stdout",
     "output_type": "stream",
     "text": [
      "Epoch 9: 100%|██████████| 436/436 [00:19<00:00, 22.06it/s, v_num=0]"
     ]
    },
    {
     "name": "stderr",
     "output_type": "stream",
     "text": [
      "`Trainer.fit` stopped: `max_epochs=10` reached.\n"
     ]
    },
    {
     "name": "stdout",
     "output_type": "stream",
     "text": [
      "Epoch 9: 100%|██████████| 436/436 [00:19<00:00, 22.05it/s, v_num=0]\n"
     ]
    },
    {
     "name": "stderr",
     "output_type": "stream",
     "text": [
      "GPU available: False, used: False\n",
      "TPU available: False, using: 0 TPU cores\n",
      "IPU available: False, using: 0 IPUs\n",
      "HPU available: False, using: 0 HPUs\n",
      "Missing logger folder: runs/lr0.0001/RUAD_topperc0.25_8\n",
      "\n",
      "  | Name        | Type      | Params\n",
      "------------------------------------------\n",
      "0 | model       | RUAD      | 11.7 K\n",
      "1 | loss_fn     | MSELoss   | 0     \n",
      "2 | all_targets | CatMetric | 0     \n",
      "3 | all_labels  | CatMetric | 0     \n",
      "4 | all_preds   | CatMetric | 0     \n",
      "------------------------------------------\n",
      "11.7 K    Trainable params\n",
      "0         Non-trainable params\n",
      "11.7 K    Total params\n",
      "0.047     Total estimated model params size (MB)\n"
     ]
    },
    {
     "name": "stdout",
     "output_type": "stream",
     "text": [
      "                                                                           \r"
     ]
    },
    {
     "name": "stderr",
     "output_type": "stream",
     "text": [
      "/home/prahtz/workspace/nlp-ad-m100/env/lib/python3.8/site-packages/torchmetrics/utilities/prints.py:43: UserWarning: No positive samples in targets, true positive value should be meaningless. Returning zero tensor in true positive score\n",
      "  warnings.warn(*args, **kwargs)  # noqa: B028\n"
     ]
    },
    {
     "name": "stdout",
     "output_type": "stream",
     "text": [
      "Epoch 9: 100%|██████████| 436/436 [00:19<00:00, 22.39it/s, v_num=0]"
     ]
    },
    {
     "name": "stderr",
     "output_type": "stream",
     "text": [
      "`Trainer.fit` stopped: `max_epochs=10` reached.\n"
     ]
    },
    {
     "name": "stdout",
     "output_type": "stream",
     "text": [
      "Epoch 9: 100%|██████████| 436/436 [00:19<00:00, 22.39it/s, v_num=0]\n"
     ]
    },
    {
     "name": "stderr",
     "output_type": "stream",
     "text": [
      "GPU available: False, used: False\n",
      "TPU available: False, using: 0 TPU cores\n",
      "IPU available: False, using: 0 IPUs\n",
      "HPU available: False, using: 0 HPUs\n",
      "Missing logger folder: runs/lr0.0001/RUAD_topperc0.25_9\n",
      "\n",
      "  | Name        | Type      | Params\n",
      "------------------------------------------\n",
      "0 | model       | RUAD      | 11.7 K\n",
      "1 | loss_fn     | MSELoss   | 0     \n",
      "2 | all_targets | CatMetric | 0     \n",
      "3 | all_labels  | CatMetric | 0     \n",
      "4 | all_preds   | CatMetric | 0     \n",
      "------------------------------------------\n",
      "11.7 K    Trainable params\n",
      "0         Non-trainable params\n",
      "11.7 K    Total params\n",
      "0.047     Total estimated model params size (MB)\n"
     ]
    },
    {
     "name": "stdout",
     "output_type": "stream",
     "text": [
      "                                                                           \r"
     ]
    },
    {
     "name": "stderr",
     "output_type": "stream",
     "text": [
      "/home/prahtz/workspace/nlp-ad-m100/env/lib/python3.8/site-packages/torchmetrics/utilities/prints.py:43: UserWarning: No positive samples in targets, true positive value should be meaningless. Returning zero tensor in true positive score\n",
      "  warnings.warn(*args, **kwargs)  # noqa: B028\n"
     ]
    },
    {
     "name": "stdout",
     "output_type": "stream",
     "text": [
      "Epoch 9: 100%|██████████| 441/441 [00:20<00:00, 21.33it/s, v_num=0]"
     ]
    },
    {
     "name": "stderr",
     "output_type": "stream",
     "text": [
      "`Trainer.fit` stopped: `max_epochs=10` reached.\n"
     ]
    },
    {
     "name": "stdout",
     "output_type": "stream",
     "text": [
      "Epoch 9: 100%|██████████| 441/441 [00:20<00:00, 21.32it/s, v_num=0]\n"
     ]
    },
    {
     "name": "stderr",
     "output_type": "stream",
     "text": [
      "GPU available: False, used: False\n",
      "TPU available: False, using: 0 TPU cores\n",
      "IPU available: False, using: 0 IPUs\n",
      "HPU available: False, using: 0 HPUs\n",
      "Missing logger folder: runs/lr0.0001/RUAD_topperc0.25_10\n",
      "\n",
      "  | Name        | Type      | Params\n",
      "------------------------------------------\n",
      "0 | model       | RUAD      | 11.7 K\n",
      "1 | loss_fn     | MSELoss   | 0     \n",
      "2 | all_targets | CatMetric | 0     \n",
      "3 | all_labels  | CatMetric | 0     \n",
      "4 | all_preds   | CatMetric | 0     \n",
      "------------------------------------------\n",
      "11.7 K    Trainable params\n",
      "0         Non-trainable params\n",
      "11.7 K    Total params\n",
      "0.047     Total estimated model params size (MB)\n"
     ]
    },
    {
     "name": "stdout",
     "output_type": "stream",
     "text": [
      "                                                                           \r"
     ]
    },
    {
     "name": "stderr",
     "output_type": "stream",
     "text": [
      "/home/prahtz/workspace/nlp-ad-m100/env/lib/python3.8/site-packages/torchmetrics/utilities/prints.py:43: UserWarning: No positive samples in targets, true positive value should be meaningless. Returning zero tensor in true positive score\n",
      "  warnings.warn(*args, **kwargs)  # noqa: B028\n"
     ]
    },
    {
     "name": "stdout",
     "output_type": "stream",
     "text": [
      "Epoch 9: 100%|██████████| 441/441 [00:21<00:00, 20.65it/s, v_num=0]"
     ]
    },
    {
     "name": "stderr",
     "output_type": "stream",
     "text": [
      "`Trainer.fit` stopped: `max_epochs=10` reached.\n"
     ]
    },
    {
     "name": "stdout",
     "output_type": "stream",
     "text": [
      "Epoch 9: 100%|██████████| 441/441 [00:21<00:00, 20.64it/s, v_num=0]\n"
     ]
    },
    {
     "name": "stderr",
     "output_type": "stream",
     "text": [
      "GPU available: False, used: False\n",
      "TPU available: False, using: 0 TPU cores\n",
      "IPU available: False, using: 0 IPUs\n",
      "HPU available: False, using: 0 HPUs\n",
      "Missing logger folder: runs/lr0.0001/RUAD_topperc0.25_11\n",
      "\n",
      "  | Name        | Type      | Params\n",
      "------------------------------------------\n",
      "0 | model       | RUAD      | 11.7 K\n",
      "1 | loss_fn     | MSELoss   | 0     \n",
      "2 | all_targets | CatMetric | 0     \n",
      "3 | all_labels  | CatMetric | 0     \n",
      "4 | all_preds   | CatMetric | 0     \n",
      "------------------------------------------\n",
      "11.7 K    Trainable params\n",
      "0         Non-trainable params\n",
      "11.7 K    Total params\n",
      "0.047     Total estimated model params size (MB)\n"
     ]
    },
    {
     "name": "stdout",
     "output_type": "stream",
     "text": [
      "                                                                           \r"
     ]
    },
    {
     "name": "stderr",
     "output_type": "stream",
     "text": [
      "/home/prahtz/workspace/nlp-ad-m100/env/lib/python3.8/site-packages/torchmetrics/utilities/prints.py:43: UserWarning: No positive samples in targets, true positive value should be meaningless. Returning zero tensor in true positive score\n",
      "  warnings.warn(*args, **kwargs)  # noqa: B028\n"
     ]
    },
    {
     "name": "stdout",
     "output_type": "stream",
     "text": [
      "Epoch 9: 100%|██████████| 441/441 [00:21<00:00, 20.75it/s, v_num=0]"
     ]
    },
    {
     "name": "stderr",
     "output_type": "stream",
     "text": [
      "`Trainer.fit` stopped: `max_epochs=10` reached.\n"
     ]
    },
    {
     "name": "stdout",
     "output_type": "stream",
     "text": [
      "Epoch 9: 100%|██████████| 441/441 [00:21<00:00, 20.74it/s, v_num=0]\n"
     ]
    },
    {
     "name": "stderr",
     "output_type": "stream",
     "text": [
      "GPU available: False, used: False\n",
      "TPU available: False, using: 0 TPU cores\n",
      "IPU available: False, using: 0 IPUs\n",
      "HPU available: False, using: 0 HPUs\n",
      "Missing logger folder: runs/lr0.0001/RUAD_topperc0.25_13\n",
      "\n",
      "  | Name        | Type      | Params\n",
      "------------------------------------------\n",
      "0 | model       | RUAD      | 11.7 K\n",
      "1 | loss_fn     | MSELoss   | 0     \n",
      "2 | all_targets | CatMetric | 0     \n",
      "3 | all_labels  | CatMetric | 0     \n",
      "4 | all_preds   | CatMetric | 0     \n",
      "------------------------------------------\n",
      "11.7 K    Trainable params\n",
      "0         Non-trainable params\n",
      "11.7 K    Total params\n",
      "0.047     Total estimated model params size (MB)\n"
     ]
    },
    {
     "name": "stdout",
     "output_type": "stream",
     "text": [
      "                                                                           \r"
     ]
    },
    {
     "name": "stderr",
     "output_type": "stream",
     "text": [
      "/home/prahtz/workspace/nlp-ad-m100/env/lib/python3.8/site-packages/torchmetrics/utilities/prints.py:43: UserWarning: No positive samples in targets, true positive value should be meaningless. Returning zero tensor in true positive score\n",
      "  warnings.warn(*args, **kwargs)  # noqa: B028\n"
     ]
    },
    {
     "name": "stdout",
     "output_type": "stream",
     "text": [
      "Epoch 9: 100%|██████████| 439/439 [00:20<00:00, 21.90it/s, v_num=0]"
     ]
    },
    {
     "name": "stderr",
     "output_type": "stream",
     "text": [
      "`Trainer.fit` stopped: `max_epochs=10` reached.\n"
     ]
    },
    {
     "name": "stdout",
     "output_type": "stream",
     "text": [
      "Epoch 9: 100%|██████████| 439/439 [00:20<00:00, 21.88it/s, v_num=0]\n"
     ]
    },
    {
     "name": "stderr",
     "output_type": "stream",
     "text": [
      "GPU available: False, used: False\n",
      "TPU available: False, using: 0 TPU cores\n",
      "IPU available: False, using: 0 IPUs\n",
      "HPU available: False, using: 0 HPUs\n",
      "Missing logger folder: runs/lr0.0001/RUAD_topperc0.25_14\n",
      "\n",
      "  | Name        | Type      | Params\n",
      "------------------------------------------\n",
      "0 | model       | RUAD      | 11.7 K\n",
      "1 | loss_fn     | MSELoss   | 0     \n",
      "2 | all_targets | CatMetric | 0     \n",
      "3 | all_labels  | CatMetric | 0     \n",
      "4 | all_preds   | CatMetric | 0     \n",
      "------------------------------------------\n",
      "11.7 K    Trainable params\n",
      "0         Non-trainable params\n",
      "11.7 K    Total params\n",
      "0.047     Total estimated model params size (MB)\n"
     ]
    },
    {
     "name": "stdout",
     "output_type": "stream",
     "text": [
      "                                                                           \r"
     ]
    },
    {
     "name": "stderr",
     "output_type": "stream",
     "text": [
      "/home/prahtz/workspace/nlp-ad-m100/env/lib/python3.8/site-packages/torchmetrics/utilities/prints.py:43: UserWarning: No positive samples in targets, true positive value should be meaningless. Returning zero tensor in true positive score\n",
      "  warnings.warn(*args, **kwargs)  # noqa: B028\n"
     ]
    },
    {
     "name": "stdout",
     "output_type": "stream",
     "text": [
      "Epoch 9: 100%|██████████| 437/437 [00:20<00:00, 21.53it/s, v_num=0]"
     ]
    },
    {
     "name": "stderr",
     "output_type": "stream",
     "text": [
      "`Trainer.fit` stopped: `max_epochs=10` reached.\n"
     ]
    },
    {
     "name": "stdout",
     "output_type": "stream",
     "text": [
      "Epoch 9: 100%|██████████| 437/437 [00:20<00:00, 21.50it/s, v_num=0]\n"
     ]
    },
    {
     "name": "stderr",
     "output_type": "stream",
     "text": [
      "GPU available: False, used: False\n",
      "TPU available: False, using: 0 TPU cores\n",
      "IPU available: False, using: 0 IPUs\n",
      "HPU available: False, using: 0 HPUs\n",
      "Missing logger folder: runs/lr0.0001/RUAD_topperc0.25_16\n",
      "\n",
      "  | Name        | Type      | Params\n",
      "------------------------------------------\n",
      "0 | model       | RUAD      | 11.7 K\n",
      "1 | loss_fn     | MSELoss   | 0     \n",
      "2 | all_targets | CatMetric | 0     \n",
      "3 | all_labels  | CatMetric | 0     \n",
      "4 | all_preds   | CatMetric | 0     \n",
      "------------------------------------------\n",
      "11.7 K    Trainable params\n",
      "0         Non-trainable params\n",
      "11.7 K    Total params\n",
      "0.047     Total estimated model params size (MB)\n"
     ]
    },
    {
     "name": "stdout",
     "output_type": "stream",
     "text": [
      "                                                                           \r"
     ]
    },
    {
     "name": "stderr",
     "output_type": "stream",
     "text": [
      "/home/prahtz/workspace/nlp-ad-m100/env/lib/python3.8/site-packages/torchmetrics/utilities/prints.py:43: UserWarning: No positive samples in targets, true positive value should be meaningless. Returning zero tensor in true positive score\n",
      "  warnings.warn(*args, **kwargs)  # noqa: B028\n"
     ]
    },
    {
     "name": "stdout",
     "output_type": "stream",
     "text": [
      "Epoch 9: 100%|██████████| 429/429 [00:20<00:00, 21.11it/s, v_num=0]"
     ]
    },
    {
     "name": "stderr",
     "output_type": "stream",
     "text": [
      "`Trainer.fit` stopped: `max_epochs=10` reached.\n"
     ]
    },
    {
     "name": "stdout",
     "output_type": "stream",
     "text": [
      "Epoch 9: 100%|██████████| 429/429 [00:20<00:00, 21.10it/s, v_num=0]\n"
     ]
    },
    {
     "name": "stderr",
     "output_type": "stream",
     "text": [
      "GPU available: False, used: False\n",
      "TPU available: False, using: 0 TPU cores\n",
      "IPU available: False, using: 0 IPUs\n",
      "HPU available: False, using: 0 HPUs\n",
      "Missing logger folder: runs/lr0.0001/RUAD_topperc0.25_17\n",
      "\n",
      "  | Name        | Type      | Params\n",
      "------------------------------------------\n",
      "0 | model       | RUAD      | 11.7 K\n",
      "1 | loss_fn     | MSELoss   | 0     \n",
      "2 | all_targets | CatMetric | 0     \n",
      "3 | all_labels  | CatMetric | 0     \n",
      "4 | all_preds   | CatMetric | 0     \n",
      "------------------------------------------\n",
      "11.7 K    Trainable params\n",
      "0         Non-trainable params\n",
      "11.7 K    Total params\n",
      "0.047     Total estimated model params size (MB)\n"
     ]
    },
    {
     "name": "stdout",
     "output_type": "stream",
     "text": [
      "                                                                           \r"
     ]
    },
    {
     "name": "stderr",
     "output_type": "stream",
     "text": [
      "/home/prahtz/workspace/nlp-ad-m100/env/lib/python3.8/site-packages/torchmetrics/utilities/prints.py:43: UserWarning: No positive samples in targets, true positive value should be meaningless. Returning zero tensor in true positive score\n",
      "  warnings.warn(*args, **kwargs)  # noqa: B028\n"
     ]
    },
    {
     "name": "stdout",
     "output_type": "stream",
     "text": [
      "Epoch 9: 100%|██████████| 437/437 [00:20<00:00, 21.53it/s, v_num=0]"
     ]
    },
    {
     "name": "stderr",
     "output_type": "stream",
     "text": [
      "`Trainer.fit` stopped: `max_epochs=10` reached.\n"
     ]
    },
    {
     "name": "stdout",
     "output_type": "stream",
     "text": [
      "Epoch 9: 100%|██████████| 437/437 [00:20<00:00, 21.52it/s, v_num=0]\n"
     ]
    },
    {
     "name": "stderr",
     "output_type": "stream",
     "text": [
      "GPU available: False, used: False\n",
      "TPU available: False, using: 0 TPU cores\n",
      "IPU available: False, using: 0 IPUs\n",
      "HPU available: False, using: 0 HPUs\n",
      "Missing logger folder: runs/lr0.0001/RUAD_topperc0.25_18\n",
      "\n",
      "  | Name        | Type      | Params\n",
      "------------------------------------------\n",
      "0 | model       | RUAD      | 11.7 K\n",
      "1 | loss_fn     | MSELoss   | 0     \n",
      "2 | all_targets | CatMetric | 0     \n",
      "3 | all_labels  | CatMetric | 0     \n",
      "4 | all_preds   | CatMetric | 0     \n",
      "------------------------------------------\n",
      "11.7 K    Trainable params\n",
      "0         Non-trainable params\n",
      "11.7 K    Total params\n",
      "0.047     Total estimated model params size (MB)\n"
     ]
    },
    {
     "name": "stdout",
     "output_type": "stream",
     "text": [
      "                                                                           \r"
     ]
    },
    {
     "name": "stderr",
     "output_type": "stream",
     "text": [
      "/home/prahtz/workspace/nlp-ad-m100/env/lib/python3.8/site-packages/torchmetrics/utilities/prints.py:43: UserWarning: No positive samples in targets, true positive value should be meaningless. Returning zero tensor in true positive score\n",
      "  warnings.warn(*args, **kwargs)  # noqa: B028\n"
     ]
    },
    {
     "name": "stdout",
     "output_type": "stream",
     "text": [
      "Epoch 9: 100%|██████████| 393/393 [00:19<00:00, 19.98it/s, v_num=0]"
     ]
    },
    {
     "name": "stderr",
     "output_type": "stream",
     "text": [
      "`Trainer.fit` stopped: `max_epochs=10` reached.\n"
     ]
    },
    {
     "name": "stdout",
     "output_type": "stream",
     "text": [
      "Epoch 9: 100%|██████████| 393/393 [00:19<00:00, 19.97it/s, v_num=0]\n"
     ]
    },
    {
     "name": "stderr",
     "output_type": "stream",
     "text": [
      "GPU available: False, used: False\n",
      "TPU available: False, using: 0 TPU cores\n",
      "IPU available: False, using: 0 IPUs\n",
      "HPU available: False, using: 0 HPUs\n",
      "Missing logger folder: runs/lr0.0001/RUAD_topperc0.25_19\n",
      "\n",
      "  | Name        | Type      | Params\n",
      "------------------------------------------\n",
      "0 | model       | RUAD      | 11.7 K\n",
      "1 | loss_fn     | MSELoss   | 0     \n",
      "2 | all_targets | CatMetric | 0     \n",
      "3 | all_labels  | CatMetric | 0     \n",
      "4 | all_preds   | CatMetric | 0     \n",
      "------------------------------------------\n",
      "11.7 K    Trainable params\n",
      "0         Non-trainable params\n",
      "11.7 K    Total params\n",
      "0.047     Total estimated model params size (MB)\n"
     ]
    },
    {
     "name": "stdout",
     "output_type": "stream",
     "text": [
      "                                                                           \r"
     ]
    },
    {
     "name": "stderr",
     "output_type": "stream",
     "text": [
      "/home/prahtz/workspace/nlp-ad-m100/env/lib/python3.8/site-packages/torchmetrics/utilities/prints.py:43: UserWarning: No positive samples in targets, true positive value should be meaningless. Returning zero tensor in true positive score\n",
      "  warnings.warn(*args, **kwargs)  # noqa: B028\n"
     ]
    },
    {
     "name": "stdout",
     "output_type": "stream",
     "text": [
      "Epoch 9: 100%|██████████| 380/380 [00:19<00:00, 19.09it/s, v_num=0]"
     ]
    },
    {
     "name": "stderr",
     "output_type": "stream",
     "text": [
      "`Trainer.fit` stopped: `max_epochs=10` reached.\n"
     ]
    },
    {
     "name": "stdout",
     "output_type": "stream",
     "text": [
      "Epoch 9: 100%|██████████| 380/380 [00:19<00:00, 19.07it/s, v_num=0]\n"
     ]
    }
   ],
   "source": [
    "tot_top_features = {}\n",
    "for node in rack_0:\n",
    "    # Computing top features from softmax soft-weights\n",
    "    model = RUADWithGating(sentence_embeddings, gating=\"softmax\")\n",
    "    model_softmax = RUADModule.load_from_checkpoint(\n",
    "        f\"runs/lr0.0001/RUAD_softmax_{node}/version_0/checkpoints/best.ckpt\", model=model, lr=lr\n",
    "    )\n",
    "    with torch.no_grad():\n",
    "        soft_weights = F.softmax(model_softmax.model.mask_fc(model_softmax.model.description_embeddings).squeeze(-1), dim=-1)\n",
    "\n",
    "    top_percent = 0.25\n",
    "    top_features = get_top_percent_features(soft_weights, top_percent)\n",
    "    tot_top_features[node] = len(top_features)\n",
    "\n",
    "    set_seed(seed)\n",
    "    file_path = root_path / f\"{node}.parquet\"\n",
    "\n",
    "    batch_collator_fn = partial(batch_collator, features_idx=top_features)\n",
    "    train_dataset = TimeAggregatedNode(root_path=file_path, descriptions_path=\"descriptions.csv\", split=\"train\", window_size=window_size)\n",
    "    test_dataset = TimeAggregatedNode(root_path=file_path, descriptions_path=\"descriptions.csv\", split=\"test\", window_size=window_size)\n",
    "    train_loader = DataLoader(\n",
    "        dataset=train_dataset,\n",
    "        batch_size=batch_size,\n",
    "        num_workers=num_workers,\n",
    "        collate_fn=batch_collator_fn,\n",
    "        shuffle=True,\n",
    "    )\n",
    "    test_loader = DataLoader(\n",
    "        dataset=test_dataset,\n",
    "        batch_size=batch_size,\n",
    "        num_workers=num_workers,\n",
    "        collate_fn=batch_collator_fn,\n",
    "    )\n",
    "    model = RUADModule(RUAD(len(top_features)), lr=lr, optimizer=\"adam\")\n",
    "    train(model, train_loader, test_loader, name=f\"lr{lr}/RUAD_topperc{top_percent}_{node}\", num_epochs=10)"
   ]
  },
  {
   "cell_type": "markdown",
   "metadata": {},
   "source": [
    "# Bottom 25% features test"
   ]
  },
  {
   "cell_type": "code",
   "execution_count": 15,
   "metadata": {},
   "outputs": [
    {
     "name": "stderr",
     "output_type": "stream",
     "text": [
      "GPU available: False, used: False\n",
      "TPU available: False, using: 0 TPU cores\n",
      "IPU available: False, using: 0 IPUs\n",
      "HPU available: False, using: 0 HPUs\n",
      "Missing logger folder: runs/lr0.0001/RUAD_botperc0.25_2\n",
      "\n",
      "  | Name        | Type      | Params\n",
      "------------------------------------------\n",
      "0 | model       | RUAD      | 11.7 K\n",
      "1 | loss_fn     | MSELoss   | 0     \n",
      "2 | all_targets | CatMetric | 0     \n",
      "3 | all_labels  | CatMetric | 0     \n",
      "4 | all_preds   | CatMetric | 0     \n",
      "------------------------------------------\n",
      "11.7 K    Trainable params\n",
      "0         Non-trainable params\n",
      "11.7 K    Total params\n",
      "0.047     Total estimated model params size (MB)\n"
     ]
    },
    {
     "name": "stdout",
     "output_type": "stream",
     "text": [
      "                                                                           \r"
     ]
    },
    {
     "name": "stderr",
     "output_type": "stream",
     "text": [
      "/home/prahtz/workspace/nlp-ad-m100/env/lib/python3.8/site-packages/torchmetrics/utilities/prints.py:43: UserWarning: No positive samples in targets, true positive value should be meaningless. Returning zero tensor in true positive score\n",
      "  warnings.warn(*args, **kwargs)  # noqa: B028\n"
     ]
    },
    {
     "name": "stdout",
     "output_type": "stream",
     "text": [
      "Epoch 9: 100%|██████████| 376/376 [00:21<00:00, 17.62it/s, v_num=0]"
     ]
    },
    {
     "name": "stderr",
     "output_type": "stream",
     "text": [
      "`Trainer.fit` stopped: `max_epochs=10` reached.\n"
     ]
    },
    {
     "name": "stdout",
     "output_type": "stream",
     "text": [
      "Epoch 9: 100%|██████████| 376/376 [00:21<00:00, 17.60it/s, v_num=0]\n"
     ]
    },
    {
     "name": "stderr",
     "output_type": "stream",
     "text": [
      "GPU available: False, used: False\n",
      "TPU available: False, using: 0 TPU cores\n",
      "IPU available: False, using: 0 IPUs\n",
      "HPU available: False, using: 0 HPUs\n",
      "Missing logger folder: runs/lr0.0001/RUAD_botperc0.25_3\n",
      "\n",
      "  | Name        | Type      | Params\n",
      "------------------------------------------\n",
      "0 | model       | RUAD      | 11.7 K\n",
      "1 | loss_fn     | MSELoss   | 0     \n",
      "2 | all_targets | CatMetric | 0     \n",
      "3 | all_labels  | CatMetric | 0     \n",
      "4 | all_preds   | CatMetric | 0     \n",
      "------------------------------------------\n",
      "11.7 K    Trainable params\n",
      "0         Non-trainable params\n",
      "11.7 K    Total params\n",
      "0.047     Total estimated model params size (MB)\n"
     ]
    },
    {
     "name": "stdout",
     "output_type": "stream",
     "text": [
      "                                                                           \r"
     ]
    },
    {
     "name": "stderr",
     "output_type": "stream",
     "text": [
      "/home/prahtz/workspace/nlp-ad-m100/env/lib/python3.8/site-packages/torchmetrics/utilities/prints.py:43: UserWarning: No negative samples in targets, false positive value should be meaningless. Returning zero tensor in false positive score\n",
      "  warnings.warn(*args, **kwargs)  # noqa: B028\n"
     ]
    },
    {
     "name": "stdout",
     "output_type": "stream",
     "text": [
      "Epoch 9: 100%|██████████| 98/98 [00:08<00:00, 11.74it/s, v_num=0]"
     ]
    },
    {
     "name": "stderr",
     "output_type": "stream",
     "text": [
      "`Trainer.fit` stopped: `max_epochs=10` reached.\n"
     ]
    },
    {
     "name": "stdout",
     "output_type": "stream",
     "text": [
      "Epoch 9: 100%|██████████| 98/98 [00:08<00:00, 11.72it/s, v_num=0]\n"
     ]
    },
    {
     "name": "stderr",
     "output_type": "stream",
     "text": [
      "GPU available: False, used: False\n",
      "TPU available: False, using: 0 TPU cores\n",
      "IPU available: False, using: 0 IPUs\n",
      "HPU available: False, using: 0 HPUs\n",
      "Missing logger folder: runs/lr0.0001/RUAD_botperc0.25_4\n",
      "\n",
      "  | Name        | Type      | Params\n",
      "------------------------------------------\n",
      "0 | model       | RUAD      | 11.7 K\n",
      "1 | loss_fn     | MSELoss   | 0     \n",
      "2 | all_targets | CatMetric | 0     \n",
      "3 | all_labels  | CatMetric | 0     \n",
      "4 | all_preds   | CatMetric | 0     \n",
      "------------------------------------------\n",
      "11.7 K    Trainable params\n",
      "0         Non-trainable params\n",
      "11.7 K    Total params\n",
      "0.047     Total estimated model params size (MB)\n"
     ]
    },
    {
     "name": "stdout",
     "output_type": "stream",
     "text": [
      "                                                                           \r"
     ]
    },
    {
     "name": "stderr",
     "output_type": "stream",
     "text": [
      "/home/prahtz/workspace/nlp-ad-m100/env/lib/python3.8/site-packages/torchmetrics/utilities/prints.py:43: UserWarning: No positive samples in targets, true positive value should be meaningless. Returning zero tensor in true positive score\n",
      "  warnings.warn(*args, **kwargs)  # noqa: B028\n"
     ]
    },
    {
     "name": "stdout",
     "output_type": "stream",
     "text": [
      "Epoch 9: 100%|██████████| 153/153 [00:10<00:00, 14.81it/s, v_num=0]"
     ]
    },
    {
     "name": "stderr",
     "output_type": "stream",
     "text": [
      "`Trainer.fit` stopped: `max_epochs=10` reached.\n"
     ]
    },
    {
     "name": "stdout",
     "output_type": "stream",
     "text": [
      "Epoch 9: 100%|██████████| 153/153 [00:10<00:00, 14.80it/s, v_num=0]\n"
     ]
    },
    {
     "name": "stderr",
     "output_type": "stream",
     "text": [
      "GPU available: False, used: False\n",
      "TPU available: False, using: 0 TPU cores\n",
      "IPU available: False, using: 0 IPUs\n",
      "HPU available: False, using: 0 HPUs\n",
      "Missing logger folder: runs/lr0.0001/RUAD_botperc0.25_5\n",
      "\n",
      "  | Name        | Type      | Params\n",
      "------------------------------------------\n",
      "0 | model       | RUAD      | 11.7 K\n",
      "1 | loss_fn     | MSELoss   | 0     \n",
      "2 | all_targets | CatMetric | 0     \n",
      "3 | all_labels  | CatMetric | 0     \n",
      "4 | all_preds   | CatMetric | 0     \n",
      "------------------------------------------\n",
      "11.7 K    Trainable params\n",
      "0         Non-trainable params\n",
      "11.7 K    Total params\n",
      "0.047     Total estimated model params size (MB)\n"
     ]
    },
    {
     "name": "stdout",
     "output_type": "stream",
     "text": [
      "                                                                           \r"
     ]
    },
    {
     "name": "stderr",
     "output_type": "stream",
     "text": [
      "/home/prahtz/workspace/nlp-ad-m100/env/lib/python3.8/site-packages/torchmetrics/utilities/prints.py:43: UserWarning: No positive samples in targets, true positive value should be meaningless. Returning zero tensor in true positive score\n",
      "  warnings.warn(*args, **kwargs)  # noqa: B028\n"
     ]
    },
    {
     "name": "stdout",
     "output_type": "stream",
     "text": [
      "Epoch 9: 100%|██████████| 154/154 [00:10<00:00, 14.67it/s, v_num=0]"
     ]
    },
    {
     "name": "stderr",
     "output_type": "stream",
     "text": [
      "`Trainer.fit` stopped: `max_epochs=10` reached.\n"
     ]
    },
    {
     "name": "stdout",
     "output_type": "stream",
     "text": [
      "Epoch 9: 100%|██████████| 154/154 [00:10<00:00, 14.65it/s, v_num=0]\n"
     ]
    },
    {
     "name": "stderr",
     "output_type": "stream",
     "text": [
      "GPU available: False, used: False\n",
      "TPU available: False, using: 0 TPU cores\n",
      "IPU available: False, using: 0 IPUs\n",
      "HPU available: False, using: 0 HPUs\n",
      "Missing logger folder: runs/lr0.0001/RUAD_botperc0.25_6\n",
      "\n",
      "  | Name        | Type      | Params\n",
      "------------------------------------------\n",
      "0 | model       | RUAD      | 11.7 K\n",
      "1 | loss_fn     | MSELoss   | 0     \n",
      "2 | all_targets | CatMetric | 0     \n",
      "3 | all_labels  | CatMetric | 0     \n",
      "4 | all_preds   | CatMetric | 0     \n",
      "------------------------------------------\n",
      "11.7 K    Trainable params\n",
      "0         Non-trainable params\n",
      "11.7 K    Total params\n",
      "0.047     Total estimated model params size (MB)\n"
     ]
    },
    {
     "name": "stdout",
     "output_type": "stream",
     "text": [
      "                                                                           \r"
     ]
    },
    {
     "name": "stderr",
     "output_type": "stream",
     "text": [
      "/home/prahtz/workspace/nlp-ad-m100/env/lib/python3.8/site-packages/torchmetrics/utilities/prints.py:43: UserWarning: No positive samples in targets, true positive value should be meaningless. Returning zero tensor in true positive score\n",
      "  warnings.warn(*args, **kwargs)  # noqa: B028\n"
     ]
    },
    {
     "name": "stdout",
     "output_type": "stream",
     "text": [
      "Epoch 9: 100%|██████████| 160/160 [00:10<00:00, 14.84it/s, v_num=0]"
     ]
    },
    {
     "name": "stderr",
     "output_type": "stream",
     "text": [
      "`Trainer.fit` stopped: `max_epochs=10` reached.\n"
     ]
    },
    {
     "name": "stdout",
     "output_type": "stream",
     "text": [
      "Epoch 9: 100%|██████████| 160/160 [00:10<00:00, 14.83it/s, v_num=0]\n"
     ]
    },
    {
     "name": "stderr",
     "output_type": "stream",
     "text": [
      "GPU available: False, used: False\n",
      "TPU available: False, using: 0 TPU cores\n",
      "IPU available: False, using: 0 IPUs\n",
      "HPU available: False, using: 0 HPUs\n",
      "Missing logger folder: runs/lr0.0001/RUAD_botperc0.25_7\n",
      "\n",
      "  | Name        | Type      | Params\n",
      "------------------------------------------\n",
      "0 | model       | RUAD      | 11.7 K\n",
      "1 | loss_fn     | MSELoss   | 0     \n",
      "2 | all_targets | CatMetric | 0     \n",
      "3 | all_labels  | CatMetric | 0     \n",
      "4 | all_preds   | CatMetric | 0     \n",
      "------------------------------------------\n",
      "11.7 K    Trainable params\n",
      "0         Non-trainable params\n",
      "11.7 K    Total params\n",
      "0.047     Total estimated model params size (MB)\n"
     ]
    },
    {
     "name": "stdout",
     "output_type": "stream",
     "text": [
      "                                                                           \r"
     ]
    },
    {
     "name": "stderr",
     "output_type": "stream",
     "text": [
      "/home/prahtz/workspace/nlp-ad-m100/env/lib/python3.8/site-packages/torchmetrics/utilities/prints.py:43: UserWarning: No positive samples in targets, true positive value should be meaningless. Returning zero tensor in true positive score\n",
      "  warnings.warn(*args, **kwargs)  # noqa: B028\n"
     ]
    },
    {
     "name": "stdout",
     "output_type": "stream",
     "text": [
      "Epoch 9: 100%|██████████| 436/436 [00:17<00:00, 24.47it/s, v_num=0]"
     ]
    },
    {
     "name": "stderr",
     "output_type": "stream",
     "text": [
      "`Trainer.fit` stopped: `max_epochs=10` reached.\n"
     ]
    },
    {
     "name": "stdout",
     "output_type": "stream",
     "text": [
      "Epoch 9: 100%|██████████| 436/436 [00:17<00:00, 24.46it/s, v_num=0]\n"
     ]
    },
    {
     "name": "stderr",
     "output_type": "stream",
     "text": [
      "GPU available: False, used: False\n",
      "TPU available: False, using: 0 TPU cores\n",
      "IPU available: False, using: 0 IPUs\n",
      "HPU available: False, using: 0 HPUs\n",
      "Missing logger folder: runs/lr0.0001/RUAD_botperc0.25_8\n",
      "\n",
      "  | Name        | Type      | Params\n",
      "------------------------------------------\n",
      "0 | model       | RUAD      | 11.7 K\n",
      "1 | loss_fn     | MSELoss   | 0     \n",
      "2 | all_targets | CatMetric | 0     \n",
      "3 | all_labels  | CatMetric | 0     \n",
      "4 | all_preds   | CatMetric | 0     \n",
      "------------------------------------------\n",
      "11.7 K    Trainable params\n",
      "0         Non-trainable params\n",
      "11.7 K    Total params\n",
      "0.047     Total estimated model params size (MB)\n"
     ]
    },
    {
     "name": "stdout",
     "output_type": "stream",
     "text": [
      "                                                                           \r"
     ]
    },
    {
     "name": "stderr",
     "output_type": "stream",
     "text": [
      "/home/prahtz/workspace/nlp-ad-m100/env/lib/python3.8/site-packages/torchmetrics/utilities/prints.py:43: UserWarning: No positive samples in targets, true positive value should be meaningless. Returning zero tensor in true positive score\n",
      "  warnings.warn(*args, **kwargs)  # noqa: B028\n"
     ]
    },
    {
     "name": "stdout",
     "output_type": "stream",
     "text": [
      "Epoch 9: 100%|██████████| 436/436 [00:22<00:00, 19.74it/s, v_num=0]"
     ]
    },
    {
     "name": "stderr",
     "output_type": "stream",
     "text": [
      "`Trainer.fit` stopped: `max_epochs=10` reached.\n"
     ]
    },
    {
     "name": "stdout",
     "output_type": "stream",
     "text": [
      "Epoch 9: 100%|██████████| 436/436 [00:22<00:00, 19.74it/s, v_num=0]\n"
     ]
    },
    {
     "name": "stderr",
     "output_type": "stream",
     "text": [
      "GPU available: False, used: False\n",
      "TPU available: False, using: 0 TPU cores\n",
      "IPU available: False, using: 0 IPUs\n",
      "HPU available: False, using: 0 HPUs\n",
      "Missing logger folder: runs/lr0.0001/RUAD_botperc0.25_9\n",
      "\n",
      "  | Name        | Type      | Params\n",
      "------------------------------------------\n",
      "0 | model       | RUAD      | 11.7 K\n",
      "1 | loss_fn     | MSELoss   | 0     \n",
      "2 | all_targets | CatMetric | 0     \n",
      "3 | all_labels  | CatMetric | 0     \n",
      "4 | all_preds   | CatMetric | 0     \n",
      "------------------------------------------\n",
      "11.7 K    Trainable params\n",
      "0         Non-trainable params\n",
      "11.7 K    Total params\n",
      "0.047     Total estimated model params size (MB)\n"
     ]
    },
    {
     "name": "stdout",
     "output_type": "stream",
     "text": [
      "                                                                           \r"
     ]
    },
    {
     "name": "stderr",
     "output_type": "stream",
     "text": [
      "/home/prahtz/workspace/nlp-ad-m100/env/lib/python3.8/site-packages/torchmetrics/utilities/prints.py:43: UserWarning: No positive samples in targets, true positive value should be meaningless. Returning zero tensor in true positive score\n",
      "  warnings.warn(*args, **kwargs)  # noqa: B028\n"
     ]
    },
    {
     "name": "stdout",
     "output_type": "stream",
     "text": [
      "Epoch 9: 100%|██████████| 441/441 [00:19<00:00, 22.58it/s, v_num=0]"
     ]
    },
    {
     "name": "stderr",
     "output_type": "stream",
     "text": [
      "`Trainer.fit` stopped: `max_epochs=10` reached.\n"
     ]
    },
    {
     "name": "stdout",
     "output_type": "stream",
     "text": [
      "Epoch 9: 100%|██████████| 441/441 [00:19<00:00, 22.57it/s, v_num=0]\n"
     ]
    },
    {
     "name": "stderr",
     "output_type": "stream",
     "text": [
      "GPU available: False, used: False\n",
      "TPU available: False, using: 0 TPU cores\n",
      "IPU available: False, using: 0 IPUs\n",
      "HPU available: False, using: 0 HPUs\n",
      "Missing logger folder: runs/lr0.0001/RUAD_botperc0.25_10\n",
      "\n",
      "  | Name        | Type      | Params\n",
      "------------------------------------------\n",
      "0 | model       | RUAD      | 11.7 K\n",
      "1 | loss_fn     | MSELoss   | 0     \n",
      "2 | all_targets | CatMetric | 0     \n",
      "3 | all_labels  | CatMetric | 0     \n",
      "4 | all_preds   | CatMetric | 0     \n",
      "------------------------------------------\n",
      "11.7 K    Trainable params\n",
      "0         Non-trainable params\n",
      "11.7 K    Total params\n",
      "0.047     Total estimated model params size (MB)\n"
     ]
    },
    {
     "name": "stdout",
     "output_type": "stream",
     "text": [
      "                                                                           \r"
     ]
    },
    {
     "name": "stderr",
     "output_type": "stream",
     "text": [
      "/home/prahtz/workspace/nlp-ad-m100/env/lib/python3.8/site-packages/torchmetrics/utilities/prints.py:43: UserWarning: No positive samples in targets, true positive value should be meaningless. Returning zero tensor in true positive score\n",
      "  warnings.warn(*args, **kwargs)  # noqa: B028\n"
     ]
    },
    {
     "name": "stdout",
     "output_type": "stream",
     "text": [
      "Epoch 9: 100%|██████████| 441/441 [00:27<00:00, 15.99it/s, v_num=0]"
     ]
    },
    {
     "name": "stderr",
     "output_type": "stream",
     "text": [
      "`Trainer.fit` stopped: `max_epochs=10` reached.\n"
     ]
    },
    {
     "name": "stdout",
     "output_type": "stream",
     "text": [
      "Epoch 9: 100%|██████████| 441/441 [00:27<00:00, 15.98it/s, v_num=0]\n"
     ]
    },
    {
     "name": "stderr",
     "output_type": "stream",
     "text": [
      "GPU available: False, used: False\n",
      "TPU available: False, using: 0 TPU cores\n",
      "IPU available: False, using: 0 IPUs\n",
      "HPU available: False, using: 0 HPUs\n",
      "Missing logger folder: runs/lr0.0001/RUAD_botperc0.25_11\n",
      "\n",
      "  | Name        | Type      | Params\n",
      "------------------------------------------\n",
      "0 | model       | RUAD      | 11.7 K\n",
      "1 | loss_fn     | MSELoss   | 0     \n",
      "2 | all_targets | CatMetric | 0     \n",
      "3 | all_labels  | CatMetric | 0     \n",
      "4 | all_preds   | CatMetric | 0     \n",
      "------------------------------------------\n",
      "11.7 K    Trainable params\n",
      "0         Non-trainable params\n",
      "11.7 K    Total params\n",
      "0.047     Total estimated model params size (MB)\n"
     ]
    },
    {
     "name": "stdout",
     "output_type": "stream",
     "text": [
      "                                                                           \r"
     ]
    },
    {
     "name": "stderr",
     "output_type": "stream",
     "text": [
      "/home/prahtz/workspace/nlp-ad-m100/env/lib/python3.8/site-packages/torchmetrics/utilities/prints.py:43: UserWarning: No positive samples in targets, true positive value should be meaningless. Returning zero tensor in true positive score\n",
      "  warnings.warn(*args, **kwargs)  # noqa: B028\n"
     ]
    },
    {
     "name": "stdout",
     "output_type": "stream",
     "text": [
      "Epoch 9: 100%|██████████| 441/441 [00:23<00:00, 18.79it/s, v_num=0]"
     ]
    },
    {
     "name": "stderr",
     "output_type": "stream",
     "text": [
      "`Trainer.fit` stopped: `max_epochs=10` reached.\n"
     ]
    },
    {
     "name": "stdout",
     "output_type": "stream",
     "text": [
      "Epoch 9: 100%|██████████| 441/441 [00:23<00:00, 18.79it/s, v_num=0]\n"
     ]
    },
    {
     "name": "stderr",
     "output_type": "stream",
     "text": [
      "GPU available: False, used: False\n",
      "TPU available: False, using: 0 TPU cores\n",
      "IPU available: False, using: 0 IPUs\n",
      "HPU available: False, using: 0 HPUs\n",
      "Missing logger folder: runs/lr0.0001/RUAD_botperc0.25_13\n",
      "\n",
      "  | Name        | Type      | Params\n",
      "------------------------------------------\n",
      "0 | model       | RUAD      | 11.7 K\n",
      "1 | loss_fn     | MSELoss   | 0     \n",
      "2 | all_targets | CatMetric | 0     \n",
      "3 | all_labels  | CatMetric | 0     \n",
      "4 | all_preds   | CatMetric | 0     \n",
      "------------------------------------------\n",
      "11.7 K    Trainable params\n",
      "0         Non-trainable params\n",
      "11.7 K    Total params\n",
      "0.047     Total estimated model params size (MB)\n"
     ]
    },
    {
     "name": "stdout",
     "output_type": "stream",
     "text": [
      "                                                                           \r"
     ]
    },
    {
     "name": "stderr",
     "output_type": "stream",
     "text": [
      "/home/prahtz/workspace/nlp-ad-m100/env/lib/python3.8/site-packages/torchmetrics/utilities/prints.py:43: UserWarning: No positive samples in targets, true positive value should be meaningless. Returning zero tensor in true positive score\n",
      "  warnings.warn(*args, **kwargs)  # noqa: B028\n"
     ]
    },
    {
     "name": "stdout",
     "output_type": "stream",
     "text": [
      "Epoch 9: 100%|██████████| 439/439 [00:19<00:00, 22.07it/s, v_num=0]"
     ]
    },
    {
     "name": "stderr",
     "output_type": "stream",
     "text": [
      "`Trainer.fit` stopped: `max_epochs=10` reached.\n"
     ]
    },
    {
     "name": "stdout",
     "output_type": "stream",
     "text": [
      "Epoch 9: 100%|██████████| 439/439 [00:19<00:00, 22.05it/s, v_num=0]\n"
     ]
    },
    {
     "name": "stderr",
     "output_type": "stream",
     "text": [
      "GPU available: False, used: False\n",
      "TPU available: False, using: 0 TPU cores\n",
      "IPU available: False, using: 0 IPUs\n",
      "HPU available: False, using: 0 HPUs\n",
      "Missing logger folder: runs/lr0.0001/RUAD_botperc0.25_14\n",
      "\n",
      "  | Name        | Type      | Params\n",
      "------------------------------------------\n",
      "0 | model       | RUAD      | 11.7 K\n",
      "1 | loss_fn     | MSELoss   | 0     \n",
      "2 | all_targets | CatMetric | 0     \n",
      "3 | all_labels  | CatMetric | 0     \n",
      "4 | all_preds   | CatMetric | 0     \n",
      "------------------------------------------\n",
      "11.7 K    Trainable params\n",
      "0         Non-trainable params\n",
      "11.7 K    Total params\n",
      "0.047     Total estimated model params size (MB)\n"
     ]
    },
    {
     "name": "stdout",
     "output_type": "stream",
     "text": [
      "                                                                           \r"
     ]
    },
    {
     "name": "stderr",
     "output_type": "stream",
     "text": [
      "/home/prahtz/workspace/nlp-ad-m100/env/lib/python3.8/site-packages/torchmetrics/utilities/prints.py:43: UserWarning: No positive samples in targets, true positive value should be meaningless. Returning zero tensor in true positive score\n",
      "  warnings.warn(*args, **kwargs)  # noqa: B028\n"
     ]
    },
    {
     "name": "stdout",
     "output_type": "stream",
     "text": [
      "Epoch 9: 100%|██████████| 437/437 [00:22<00:00, 19.43it/s, v_num=0]"
     ]
    },
    {
     "name": "stderr",
     "output_type": "stream",
     "text": [
      "`Trainer.fit` stopped: `max_epochs=10` reached.\n"
     ]
    },
    {
     "name": "stdout",
     "output_type": "stream",
     "text": [
      "Epoch 9: 100%|██████████| 437/437 [00:22<00:00, 19.42it/s, v_num=0]\n"
     ]
    },
    {
     "name": "stderr",
     "output_type": "stream",
     "text": [
      "GPU available: False, used: False\n",
      "TPU available: False, using: 0 TPU cores\n",
      "IPU available: False, using: 0 IPUs\n",
      "HPU available: False, using: 0 HPUs\n",
      "Missing logger folder: runs/lr0.0001/RUAD_botperc0.25_16\n",
      "\n",
      "  | Name        | Type      | Params\n",
      "------------------------------------------\n",
      "0 | model       | RUAD      | 11.7 K\n",
      "1 | loss_fn     | MSELoss   | 0     \n",
      "2 | all_targets | CatMetric | 0     \n",
      "3 | all_labels  | CatMetric | 0     \n",
      "4 | all_preds   | CatMetric | 0     \n",
      "------------------------------------------\n",
      "11.7 K    Trainable params\n",
      "0         Non-trainable params\n",
      "11.7 K    Total params\n",
      "0.047     Total estimated model params size (MB)\n"
     ]
    },
    {
     "name": "stdout",
     "output_type": "stream",
     "text": [
      "                                                                           \r"
     ]
    },
    {
     "name": "stderr",
     "output_type": "stream",
     "text": [
      "/home/prahtz/workspace/nlp-ad-m100/env/lib/python3.8/site-packages/torchmetrics/utilities/prints.py:43: UserWarning: No positive samples in targets, true positive value should be meaningless. Returning zero tensor in true positive score\n",
      "  warnings.warn(*args, **kwargs)  # noqa: B028\n"
     ]
    },
    {
     "name": "stdout",
     "output_type": "stream",
     "text": [
      "Epoch 9: 100%|██████████| 429/429 [00:24<00:00, 17.18it/s, v_num=0]"
     ]
    },
    {
     "name": "stderr",
     "output_type": "stream",
     "text": [
      "`Trainer.fit` stopped: `max_epochs=10` reached.\n"
     ]
    },
    {
     "name": "stdout",
     "output_type": "stream",
     "text": [
      "Epoch 9: 100%|██████████| 429/429 [00:24<00:00, 17.18it/s, v_num=0]\n"
     ]
    },
    {
     "name": "stderr",
     "output_type": "stream",
     "text": [
      "GPU available: False, used: False\n",
      "TPU available: False, using: 0 TPU cores\n",
      "IPU available: False, using: 0 IPUs\n",
      "HPU available: False, using: 0 HPUs\n",
      "Missing logger folder: runs/lr0.0001/RUAD_botperc0.25_17\n",
      "\n",
      "  | Name        | Type      | Params\n",
      "------------------------------------------\n",
      "0 | model       | RUAD      | 11.7 K\n",
      "1 | loss_fn     | MSELoss   | 0     \n",
      "2 | all_targets | CatMetric | 0     \n",
      "3 | all_labels  | CatMetric | 0     \n",
      "4 | all_preds   | CatMetric | 0     \n",
      "------------------------------------------\n",
      "11.7 K    Trainable params\n",
      "0         Non-trainable params\n",
      "11.7 K    Total params\n",
      "0.047     Total estimated model params size (MB)\n"
     ]
    },
    {
     "name": "stdout",
     "output_type": "stream",
     "text": [
      "                                                                           \r"
     ]
    },
    {
     "name": "stderr",
     "output_type": "stream",
     "text": [
      "/home/prahtz/workspace/nlp-ad-m100/env/lib/python3.8/site-packages/torchmetrics/utilities/prints.py:43: UserWarning: No positive samples in targets, true positive value should be meaningless. Returning zero tensor in true positive score\n",
      "  warnings.warn(*args, **kwargs)  # noqa: B028\n"
     ]
    },
    {
     "name": "stdout",
     "output_type": "stream",
     "text": [
      "Epoch 9: 100%|██████████| 437/437 [00:24<00:00, 18.18it/s, v_num=0]"
     ]
    },
    {
     "name": "stderr",
     "output_type": "stream",
     "text": [
      "`Trainer.fit` stopped: `max_epochs=10` reached.\n"
     ]
    },
    {
     "name": "stdout",
     "output_type": "stream",
     "text": [
      "Epoch 9: 100%|██████████| 437/437 [00:24<00:00, 18.18it/s, v_num=0]\n"
     ]
    },
    {
     "name": "stderr",
     "output_type": "stream",
     "text": [
      "GPU available: False, used: False\n",
      "TPU available: False, using: 0 TPU cores\n",
      "IPU available: False, using: 0 IPUs\n",
      "HPU available: False, using: 0 HPUs\n",
      "Missing logger folder: runs/lr0.0001/RUAD_botperc0.25_18\n",
      "\n",
      "  | Name        | Type      | Params\n",
      "------------------------------------------\n",
      "0 | model       | RUAD      | 11.7 K\n",
      "1 | loss_fn     | MSELoss   | 0     \n",
      "2 | all_targets | CatMetric | 0     \n",
      "3 | all_labels  | CatMetric | 0     \n",
      "4 | all_preds   | CatMetric | 0     \n",
      "------------------------------------------\n",
      "11.7 K    Trainable params\n",
      "0         Non-trainable params\n",
      "11.7 K    Total params\n",
      "0.047     Total estimated model params size (MB)\n"
     ]
    },
    {
     "name": "stdout",
     "output_type": "stream",
     "text": [
      "                                                                           \r"
     ]
    },
    {
     "name": "stderr",
     "output_type": "stream",
     "text": [
      "/home/prahtz/workspace/nlp-ad-m100/env/lib/python3.8/site-packages/torchmetrics/utilities/prints.py:43: UserWarning: No positive samples in targets, true positive value should be meaningless. Returning zero tensor in true positive score\n",
      "  warnings.warn(*args, **kwargs)  # noqa: B028\n"
     ]
    },
    {
     "name": "stdout",
     "output_type": "stream",
     "text": [
      "Epoch 9: 100%|██████████| 393/393 [00:19<00:00, 20.03it/s, v_num=0]"
     ]
    },
    {
     "name": "stderr",
     "output_type": "stream",
     "text": [
      "`Trainer.fit` stopped: `max_epochs=10` reached.\n"
     ]
    },
    {
     "name": "stdout",
     "output_type": "stream",
     "text": [
      "Epoch 9: 100%|██████████| 393/393 [00:19<00:00, 20.03it/s, v_num=0]\n"
     ]
    },
    {
     "name": "stderr",
     "output_type": "stream",
     "text": [
      "GPU available: False, used: False\n",
      "TPU available: False, using: 0 TPU cores\n",
      "IPU available: False, using: 0 IPUs\n",
      "HPU available: False, using: 0 HPUs\n",
      "Missing logger folder: runs/lr0.0001/RUAD_botperc0.25_19\n",
      "\n",
      "  | Name        | Type      | Params\n",
      "------------------------------------------\n",
      "0 | model       | RUAD      | 11.7 K\n",
      "1 | loss_fn     | MSELoss   | 0     \n",
      "2 | all_targets | CatMetric | 0     \n",
      "3 | all_labels  | CatMetric | 0     \n",
      "4 | all_preds   | CatMetric | 0     \n",
      "------------------------------------------\n",
      "11.7 K    Trainable params\n",
      "0         Non-trainable params\n",
      "11.7 K    Total params\n",
      "0.047     Total estimated model params size (MB)\n"
     ]
    },
    {
     "name": "stdout",
     "output_type": "stream",
     "text": [
      "                                                                           \r"
     ]
    },
    {
     "name": "stderr",
     "output_type": "stream",
     "text": [
      "/home/prahtz/workspace/nlp-ad-m100/env/lib/python3.8/site-packages/torchmetrics/utilities/prints.py:43: UserWarning: No positive samples in targets, true positive value should be meaningless. Returning zero tensor in true positive score\n",
      "  warnings.warn(*args, **kwargs)  # noqa: B028\n"
     ]
    },
    {
     "name": "stdout",
     "output_type": "stream",
     "text": [
      "Epoch 9: 100%|██████████| 380/380 [00:18<00:00, 20.14it/s, v_num=0]"
     ]
    },
    {
     "name": "stderr",
     "output_type": "stream",
     "text": [
      "`Trainer.fit` stopped: `max_epochs=10` reached.\n"
     ]
    },
    {
     "name": "stdout",
     "output_type": "stream",
     "text": [
      "Epoch 9: 100%|██████████| 380/380 [00:18<00:00, 20.11it/s, v_num=0]\n"
     ]
    }
   ],
   "source": [
    "tot_bot_features = {}\n",
    "for node in rack_0:\n",
    "    # Computing top features from softmax soft-weights\n",
    "    model = RUADWithGating(sentence_embeddings, gating=\"softmax\")\n",
    "    model_nlp = RUADModule.load_from_checkpoint(f\"runs/lr0.0001/RUAD_softmax_{node}/version_0/checkpoints/best.ckpt\", model=model, lr=lr)\n",
    "    with torch.no_grad():\n",
    "        soft_weights = F.softmax(model_nlp.model.mask_fc(model_nlp.model.description_embeddings).squeeze(-1), dim=-1)\n",
    "\n",
    "    bottom_percent = 0.25\n",
    "    bot_features = get_bottom_percent_features(soft_weights, bottom_percent)\n",
    "    tot_bot_features[node] = len(bot_features)\n",
    "\n",
    "    set_seed(seed)\n",
    "    file_path = root_path / f\"{node}.parquet\"\n",
    "    batch_collator_fn = partial(batch_collator, features_idx=top_features)\n",
    "    train_dataset = TimeAggregatedNode(root_path=file_path, descriptions_path=\"descriptions.csv\", split=\"train\", window_size=window_size)\n",
    "    test_dataset = TimeAggregatedNode(root_path=file_path, descriptions_path=\"descriptions.csv\", split=\"test\", window_size=window_size)\n",
    "    train_loader = DataLoader(\n",
    "        dataset=train_dataset,\n",
    "        batch_size=batch_size,\n",
    "        num_workers=num_workers,\n",
    "        collate_fn=batch_collator_fn,\n",
    "        shuffle=True,\n",
    "    )\n",
    "    test_loader = DataLoader(\n",
    "        dataset=test_dataset,\n",
    "        batch_size=batch_size,\n",
    "        num_workers=num_workers,\n",
    "        collate_fn=batch_collator_fn,\n",
    "    )\n",
    "    model = RUADModule(RUAD(len(bot_features)), lr=lr, optimizer=\"adam\")\n",
    "    train(model, train_loader, test_loader, name=f\"lr{lr}/RUAD_botperc{bottom_percent}_{node}\", num_epochs=10)"
   ]
  },
  {
   "cell_type": "markdown",
   "metadata": {},
   "source": [
    "# Eval 25% "
   ]
  },
  {
   "cell_type": "code",
   "execution_count": 20,
   "metadata": {},
   "outputs": [
    {
     "name": "stderr",
     "output_type": "stream",
     "text": [
      "GPU available: False, used: False\n",
      "TPU available: False, using: 0 TPU cores\n",
      "IPU available: False, using: 0 IPUs\n",
      "HPU available: False, using: 0 HPUs\n"
     ]
    },
    {
     "name": "stdout",
     "output_type": "stream",
     "text": [
      "Testing DataLoader 0: 100%|██████████| 111/111 [00:03<00:00, 33.21it/s]\n",
      "Testing DataLoader 0: 100%|██████████| 111/111 [00:02<00:00, 37.42it/s]\n",
      "Testing DataLoader 0: 100%|██████████| 111/111 [00:03<00:00, 35.06it/s]\n",
      "Testing DataLoader 0: 100%|██████████| 111/111 [00:03<00:00, 32.23it/s]\n",
      "Testing DataLoader 0: 100%|██████████| 111/111 [00:02<00:00, 39.37it/s]\n",
      "Testing DataLoader 0: 100%|██████████| 111/111 [00:02<00:00, 38.07it/s]\n",
      "Testing DataLoader 0: 100%|██████████| 111/111 [00:02<00:00, 37.94it/s]\n",
      "Testing DataLoader 0: 100%|██████████| 111/111 [00:02<00:00, 37.32it/s]\n",
      "Testing DataLoader 0: 100%|██████████| 111/111 [00:02<00:00, 37.10it/s]\n",
      "Testing DataLoader 0: 100%|██████████| 111/111 [00:02<00:00, 40.22it/s]\n",
      "Testing DataLoader 0: 100%|██████████| 111/111 [00:02<00:00, 37.19it/s]\n",
      "Testing DataLoader 0: 100%|██████████| 111/111 [00:03<00:00, 34.05it/s]\n",
      "Testing DataLoader 0: 100%|██████████| 111/111 [00:03<00:00, 34.76it/s]\n",
      "Testing DataLoader 0: 100%|██████████| 111/111 [00:03<00:00, 31.26it/s]\n",
      "Testing DataLoader 0: 100%|██████████| 111/111 [00:02<00:00, 37.65it/s]\n",
      "Testing DataLoader 0: 100%|██████████| 111/111 [00:02<00:00, 42.20it/s]\n",
      "Testing DataLoader 0: 100%|██████████| 111/111 [00:03<00:00, 35.46it/s]\n",
      "Testing DataLoader 0: 100%|██████████| 111/111 [00:02<00:00, 37.60it/s]\n",
      "Testing DataLoader 0: 100%|██████████| 111/111 [00:03<00:00, 29.82it/s]\n",
      "Testing DataLoader 0: 100%|██████████| 111/111 [00:03<00:00, 27.96it/s]\n",
      "Testing DataLoader 0: 100%|██████████| 111/111 [00:03<00:00, 30.20it/s]\n",
      "Testing DataLoader 0: 100%|██████████| 111/111 [00:03<00:00, 33.69it/s]\n",
      "Testing DataLoader 0: 100%|██████████| 111/111 [00:03<00:00, 32.82it/s]\n",
      "Testing DataLoader 0: 100%|██████████| 111/111 [00:03<00:00, 32.10it/s]\n",
      "Testing DataLoader 0: 100%|██████████| 111/111 [00:03<00:00, 34.43it/s]\n",
      "Testing DataLoader 0: 100%|██████████| 111/111 [00:02<00:00, 39.57it/s]\n",
      "Testing DataLoader 0: 100%|██████████| 111/111 [00:03<00:00, 34.48it/s]\n",
      "Testing DataLoader 0: 100%|██████████| 111/111 [00:03<00:00, 30.20it/s]\n",
      "Testing DataLoader 0: 100%|██████████| 111/111 [00:03<00:00, 30.55it/s]\n",
      "Testing DataLoader 0: 100%|██████████| 111/111 [00:03<00:00, 33.15it/s]\n",
      "Testing DataLoader 0: 100%|██████████| 111/111 [00:03<00:00, 35.88it/s]\n",
      "Testing DataLoader 0: 100%|██████████| 111/111 [00:03<00:00, 32.25it/s]\n"
     ]
    }
   ],
   "source": [
    "trainer = L.Trainer()\n",
    "results_top, results_bot = {}, {}\n",
    "for node in rack_0:\n",
    "    file_path = root_path / f\"{node}.parquet\"\n",
    "\n",
    "    model = RUADWithGating(sentence_embeddings, gating=\"softmax\")\n",
    "    model_softmax = RUADModule.load_from_checkpoint(\n",
    "        f\"runs/lr0.0001/RUAD_softmax_{node}/version_0/checkpoints/best.ckpt\", model=model, lr=lr\n",
    "    )\n",
    "    with torch.no_grad():\n",
    "        soft_weights = F.softmax(model_softmax.model.mask_fc(model_softmax.model.description_embeddings).squeeze(-1), dim=-1)\n",
    "\n",
    "    percent = 0.25\n",
    "    top_features = get_top_percent_features(soft_weights, percent)\n",
    "    bottom_features = get_bottom_percent_features(soft_weights, percent)\n",
    "\n",
    "    batch_collator_fn = partial(batch_collator, features_idx=top_features)\n",
    "    test_loader = DataLoader(dataset=test_dataset, batch_size=batch_size, num_workers=num_workers, collate_fn=batch_collator_fn)\n",
    "    model = RUAD(len(top_features))\n",
    "    model_top = RUADModule.load_from_checkpoint(\n",
    "        f\"runs/lr{lr}/RUAD_topperc0.25_{node}/version_0/checkpoints/best.ckpt\", map_location=\"cpu\", model=model, lr=lr\n",
    "    )\n",
    "    results_top[node] = trainer.test(model_top, test_loader, verbose=False)[0][\"roc_auc\"]\n",
    "\n",
    "    batch_collator_fn = partial(batch_collator, features_idx=bottom_features)\n",
    "    test_loader = DataLoader(dataset=test_dataset, batch_size=batch_size, num_workers=num_workers, collate_fn=batch_collator_fn)\n",
    "    model = RUAD(len(bot_features))\n",
    "    model_bot = RUADModule.load_from_checkpoint(\n",
    "        f\"runs/lr{lr}/RUAD_botperc0.25_{node}/version_0/checkpoints/best.ckpt\", map_location=\"cpu\", model=model, lr=lr\n",
    "    )\n",
    "    results_bot[node] = trainer.test(model_bot, test_loader, verbose=False)[0][\"roc_auc\"]"
   ]
  },
  {
   "cell_type": "code",
   "execution_count": 24,
   "metadata": {},
   "outputs": [
    {
     "name": "stdout",
     "output_type": "stream",
     "text": [
      "Average ROC-AUC improvement using top 25% softmax features: -0.14745914563536644\n",
      "Average ROC-AUC improvement using bottom 25% softmax features: -0.13663622178137302\n"
     ]
    }
   ],
   "source": [
    "avg_top_roc_improvement, avg_bot_roc_improvement = 0.0, 0.0\n",
    "for node in rack_0:\n",
    "    avg_top_roc_improvement += results_top[node] - results_baseline[node]\n",
    "    avg_bot_roc_improvement += results_bot[node] - results_baseline[node]\n",
    "avg_top_roc_improvement /= len(rack_0)\n",
    "avg_bot_roc_improvement /= len(rack_0)\n",
    "\n",
    "print(\"Average ROC-AUC improvement using top 25% softmax features:\", avg_top_roc_improvement)\n",
    "print(\"Average ROC-AUC improvement using bottom 25% softmax features:\", avg_bot_roc_improvement)"
   ]
  },
  {
   "cell_type": "code",
   "execution_count": 42,
   "metadata": {},
   "outputs": [
    {
     "data": {
      "image/png": "[encoded data removed]",
      "text/plain": [
       "<Figure size 640x480 with 1 Axes>"
      ]
     },
     "metadata": {},
     "output_type": "display_data"
    }
   ],
   "source": [
    "plt.title(\"ROC-AUC scores of models trained on different feature sets\")\n",
    "plt.plot(rack_0, [results_baseline[node] for node in rack_0], marker=\"o\", label=\"Baseline\")\n",
    "plt.plot(rack_0, [results_top[node] for node in rack_0], marker=\"o\", label=\"Top 25%\")\n",
    "plt.plot(rack_0, [results_bot[node] for node in rack_0], marker=\"o\", label=\"Bottom 25%\")\n",
    "plt.xticks(rack_0)\n",
    "plt.ylabel(\"ROC-AUC (test set)\")\n",
    "plt.xlabel(\"Node ID\")\n",
    "plt.legend()\n",
    "plt.show()"
   ]
  },
  {
   "cell_type": "markdown",
   "metadata": {},
   "source": [
    "# Random features test"
   ]
  },
  {
   "cell_type": "code",
   "execution_count": 44,
   "metadata": {},
   "outputs": [
    {
     "name": "stderr",
     "output_type": "stream",
     "text": [
      "GPU available: False, used: False\n",
      "TPU available: False, using: 0 TPU cores\n",
      "IPU available: False, using: 0 IPUs\n",
      "HPU available: False, using: 0 HPUs\n",
      "Missing logger folder: runs/lr0.0001/RUAD_randfeatures0.25_2\n",
      "\n",
      "  | Name        | Type      | Params\n",
      "------------------------------------------\n",
      "0 | model       | RUAD      | 11.7 K\n",
      "1 | loss_fn     | MSELoss   | 0     \n",
      "2 | all_targets | CatMetric | 0     \n",
      "3 | all_labels  | CatMetric | 0     \n",
      "4 | all_preds   | CatMetric | 0     \n",
      "------------------------------------------\n",
      "11.7 K    Trainable params\n",
      "0         Non-trainable params\n",
      "11.7 K    Total params\n",
      "0.047     Total estimated model params size (MB)\n"
     ]
    },
    {
     "name": "stdout",
     "output_type": "stream",
     "text": [
      "                                                                           \r"
     ]
    },
    {
     "name": "stderr",
     "output_type": "stream",
     "text": [
      "/home/prahtz/workspace/nlp-ad-m100/env/lib/python3.8/site-packages/torchmetrics/utilities/prints.py:43: UserWarning: No positive samples in targets, true positive value should be meaningless. Returning zero tensor in true positive score\n",
      "  warnings.warn(*args, **kwargs)  # noqa: B028\n"
     ]
    },
    {
     "name": "stdout",
     "output_type": "stream",
     "text": [
      "Epoch 9: 100%|██████████| 376/376 [00:17<00:00, 21.83it/s, v_num=0]"
     ]
    },
    {
     "name": "stderr",
     "output_type": "stream",
     "text": [
      "`Trainer.fit` stopped: `max_epochs=10` reached.\n"
     ]
    },
    {
     "name": "stdout",
     "output_type": "stream",
     "text": [
      "Epoch 9: 100%|██████████| 376/376 [00:17<00:00, 21.82it/s, v_num=0]\n"
     ]
    },
    {
     "name": "stderr",
     "output_type": "stream",
     "text": [
      "GPU available: False, used: False\n",
      "TPU available: False, using: 0 TPU cores\n",
      "IPU available: False, using: 0 IPUs\n",
      "HPU available: False, using: 0 HPUs\n",
      "Missing logger folder: runs/lr0.0001/RUAD_randfeatures0.25_3\n",
      "\n",
      "  | Name        | Type      | Params\n",
      "------------------------------------------\n",
      "0 | model       | RUAD      | 11.7 K\n",
      "1 | loss_fn     | MSELoss   | 0     \n",
      "2 | all_targets | CatMetric | 0     \n",
      "3 | all_labels  | CatMetric | 0     \n",
      "4 | all_preds   | CatMetric | 0     \n",
      "------------------------------------------\n",
      "11.7 K    Trainable params\n",
      "0         Non-trainable params\n",
      "11.7 K    Total params\n",
      "0.047     Total estimated model params size (MB)\n"
     ]
    },
    {
     "name": "stdout",
     "output_type": "stream",
     "text": [
      "                                                                           \r"
     ]
    },
    {
     "name": "stderr",
     "output_type": "stream",
     "text": [
      "/home/prahtz/workspace/nlp-ad-m100/env/lib/python3.8/site-packages/torchmetrics/utilities/prints.py:43: UserWarning: No negative samples in targets, false positive value should be meaningless. Returning zero tensor in false positive score\n",
      "  warnings.warn(*args, **kwargs)  # noqa: B028\n"
     ]
    },
    {
     "name": "stdout",
     "output_type": "stream",
     "text": [
      "Epoch 9: 100%|██████████| 98/98 [00:06<00:00, 14.65it/s, v_num=0]"
     ]
    },
    {
     "name": "stderr",
     "output_type": "stream",
     "text": [
      "`Trainer.fit` stopped: `max_epochs=10` reached.\n"
     ]
    },
    {
     "name": "stdout",
     "output_type": "stream",
     "text": [
      "Epoch 9: 100%|██████████| 98/98 [00:06<00:00, 14.63it/s, v_num=0]\n"
     ]
    },
    {
     "name": "stderr",
     "output_type": "stream",
     "text": [
      "GPU available: False, used: False\n",
      "TPU available: False, using: 0 TPU cores\n",
      "IPU available: False, using: 0 IPUs\n",
      "HPU available: False, using: 0 HPUs\n",
      "Missing logger folder: runs/lr0.0001/RUAD_randfeatures0.25_4\n",
      "\n",
      "  | Name        | Type      | Params\n",
      "------------------------------------------\n",
      "0 | model       | RUAD      | 11.7 K\n",
      "1 | loss_fn     | MSELoss   | 0     \n",
      "2 | all_targets | CatMetric | 0     \n",
      "3 | all_labels  | CatMetric | 0     \n",
      "4 | all_preds   | CatMetric | 0     \n",
      "------------------------------------------\n",
      "11.7 K    Trainable params\n",
      "0         Non-trainable params\n",
      "11.7 K    Total params\n",
      "0.047     Total estimated model params size (MB)\n"
     ]
    },
    {
     "name": "stdout",
     "output_type": "stream",
     "text": [
      "                                                                           \r"
     ]
    },
    {
     "name": "stderr",
     "output_type": "stream",
     "text": [
      "/home/prahtz/workspace/nlp-ad-m100/env/lib/python3.8/site-packages/torchmetrics/utilities/prints.py:43: UserWarning: No positive samples in targets, true positive value should be meaningless. Returning zero tensor in true positive score\n",
      "  warnings.warn(*args, **kwargs)  # noqa: B028\n"
     ]
    },
    {
     "name": "stdout",
     "output_type": "stream",
     "text": [
      "Epoch 9: 100%|██████████| 153/153 [00:08<00:00, 18.77it/s, v_num=0]"
     ]
    },
    {
     "name": "stderr",
     "output_type": "stream",
     "text": [
      "`Trainer.fit` stopped: `max_epochs=10` reached.\n"
     ]
    },
    {
     "name": "stdout",
     "output_type": "stream",
     "text": [
      "Epoch 9: 100%|██████████| 153/153 [00:08<00:00, 18.76it/s, v_num=0]\n"
     ]
    },
    {
     "name": "stderr",
     "output_type": "stream",
     "text": [
      "GPU available: False, used: False\n",
      "TPU available: False, using: 0 TPU cores\n",
      "IPU available: False, using: 0 IPUs\n",
      "HPU available: False, using: 0 HPUs\n",
      "Missing logger folder: runs/lr0.0001/RUAD_randfeatures0.25_5\n",
      "\n",
      "  | Name        | Type      | Params\n",
      "------------------------------------------\n",
      "0 | model       | RUAD      | 11.7 K\n",
      "1 | loss_fn     | MSELoss   | 0     \n",
      "2 | all_targets | CatMetric | 0     \n",
      "3 | all_labels  | CatMetric | 0     \n",
      "4 | all_preds   | CatMetric | 0     \n",
      "------------------------------------------\n",
      "11.7 K    Trainable params\n",
      "0         Non-trainable params\n",
      "11.7 K    Total params\n",
      "0.047     Total estimated model params size (MB)\n"
     ]
    },
    {
     "name": "stdout",
     "output_type": "stream",
     "text": [
      "                                                                           \r"
     ]
    },
    {
     "name": "stderr",
     "output_type": "stream",
     "text": [
      "/home/prahtz/workspace/nlp-ad-m100/env/lib/python3.8/site-packages/torchmetrics/utilities/prints.py:43: UserWarning: No positive samples in targets, true positive value should be meaningless. Returning zero tensor in true positive score\n",
      "  warnings.warn(*args, **kwargs)  # noqa: B028\n"
     ]
    },
    {
     "name": "stdout",
     "output_type": "stream",
     "text": [
      "Epoch 9: 100%|██████████| 154/154 [00:08<00:00, 18.57it/s, v_num=0]"
     ]
    },
    {
     "name": "stderr",
     "output_type": "stream",
     "text": [
      "`Trainer.fit` stopped: `max_epochs=10` reached.\n"
     ]
    },
    {
     "name": "stdout",
     "output_type": "stream",
     "text": [
      "Epoch 9: 100%|██████████| 154/154 [00:08<00:00, 18.56it/s, v_num=0]\n"
     ]
    },
    {
     "name": "stderr",
     "output_type": "stream",
     "text": [
      "GPU available: False, used: False\n",
      "TPU available: False, using: 0 TPU cores\n",
      "IPU available: False, using: 0 IPUs\n",
      "HPU available: False, using: 0 HPUs\n",
      "Missing logger folder: runs/lr0.0001/RUAD_randfeatures0.25_6\n",
      "\n",
      "  | Name        | Type      | Params\n",
      "------------------------------------------\n",
      "0 | model       | RUAD      | 11.7 K\n",
      "1 | loss_fn     | MSELoss   | 0     \n",
      "2 | all_targets | CatMetric | 0     \n",
      "3 | all_labels  | CatMetric | 0     \n",
      "4 | all_preds   | CatMetric | 0     \n",
      "------------------------------------------\n",
      "11.7 K    Trainable params\n",
      "0         Non-trainable params\n",
      "11.7 K    Total params\n",
      "0.047     Total estimated model params size (MB)\n"
     ]
    },
    {
     "name": "stdout",
     "output_type": "stream",
     "text": [
      "                                                                           \r"
     ]
    },
    {
     "name": "stderr",
     "output_type": "stream",
     "text": [
      "/home/prahtz/workspace/nlp-ad-m100/env/lib/python3.8/site-packages/torchmetrics/utilities/prints.py:43: UserWarning: No positive samples in targets, true positive value should be meaningless. Returning zero tensor in true positive score\n",
      "  warnings.warn(*args, **kwargs)  # noqa: B028\n"
     ]
    },
    {
     "name": "stdout",
     "output_type": "stream",
     "text": [
      "Epoch 9: 100%|██████████| 160/160 [00:08<00:00, 18.79it/s, v_num=0]"
     ]
    },
    {
     "name": "stderr",
     "output_type": "stream",
     "text": [
      "`Trainer.fit` stopped: `max_epochs=10` reached.\n"
     ]
    },
    {
     "name": "stdout",
     "output_type": "stream",
     "text": [
      "Epoch 9: 100%|██████████| 160/160 [00:08<00:00, 18.77it/s, v_num=0]\n"
     ]
    },
    {
     "name": "stderr",
     "output_type": "stream",
     "text": [
      "GPU available: False, used: False\n",
      "TPU available: False, using: 0 TPU cores\n",
      "IPU available: False, using: 0 IPUs\n",
      "HPU available: False, using: 0 HPUs\n",
      "Missing logger folder: runs/lr0.0001/RUAD_randfeatures0.25_7\n",
      "\n",
      "  | Name        | Type      | Params\n",
      "------------------------------------------\n",
      "0 | model       | RUAD      | 11.7 K\n",
      "1 | loss_fn     | MSELoss   | 0     \n",
      "2 | all_targets | CatMetric | 0     \n",
      "3 | all_labels  | CatMetric | 0     \n",
      "4 | all_preds   | CatMetric | 0     \n",
      "------------------------------------------\n",
      "11.7 K    Trainable params\n",
      "0         Non-trainable params\n",
      "11.7 K    Total params\n",
      "0.047     Total estimated model params size (MB)\n"
     ]
    },
    {
     "name": "stdout",
     "output_type": "stream",
     "text": [
      "                                                                           \r"
     ]
    },
    {
     "name": "stderr",
     "output_type": "stream",
     "text": [
      "/home/prahtz/workspace/nlp-ad-m100/env/lib/python3.8/site-packages/torchmetrics/utilities/prints.py:43: UserWarning: No positive samples in targets, true positive value should be meaningless. Returning zero tensor in true positive score\n",
      "  warnings.warn(*args, **kwargs)  # noqa: B028\n"
     ]
    },
    {
     "name": "stdout",
     "output_type": "stream",
     "text": [
      "Epoch 9: 100%|██████████| 436/436 [00:17<00:00, 25.36it/s, v_num=0]"
     ]
    },
    {
     "name": "stderr",
     "output_type": "stream",
     "text": [
      "`Trainer.fit` stopped: `max_epochs=10` reached.\n"
     ]
    },
    {
     "name": "stdout",
     "output_type": "stream",
     "text": [
      "Epoch 9: 100%|██████████| 436/436 [00:17<00:00, 25.35it/s, v_num=0]\n"
     ]
    },
    {
     "name": "stderr",
     "output_type": "stream",
     "text": [
      "GPU available: False, used: False\n",
      "TPU available: False, using: 0 TPU cores\n",
      "IPU available: False, using: 0 IPUs\n",
      "HPU available: False, using: 0 HPUs\n",
      "Missing logger folder: runs/lr0.0001/RUAD_randfeatures0.25_8\n",
      "\n",
      "  | Name        | Type      | Params\n",
      "------------------------------------------\n",
      "0 | model       | RUAD      | 11.7 K\n",
      "1 | loss_fn     | MSELoss   | 0     \n",
      "2 | all_targets | CatMetric | 0     \n",
      "3 | all_labels  | CatMetric | 0     \n",
      "4 | all_preds   | CatMetric | 0     \n",
      "------------------------------------------\n",
      "11.7 K    Trainable params\n",
      "0         Non-trainable params\n",
      "11.7 K    Total params\n",
      "0.047     Total estimated model params size (MB)\n"
     ]
    },
    {
     "name": "stdout",
     "output_type": "stream",
     "text": [
      "                                                                           \r"
     ]
    },
    {
     "name": "stderr",
     "output_type": "stream",
     "text": [
      "/home/prahtz/workspace/nlp-ad-m100/env/lib/python3.8/site-packages/torchmetrics/utilities/prints.py:43: UserWarning: No positive samples in targets, true positive value should be meaningless. Returning zero tensor in true positive score\n",
      "  warnings.warn(*args, **kwargs)  # noqa: B028\n"
     ]
    },
    {
     "name": "stdout",
     "output_type": "stream",
     "text": [
      "Epoch 9: 100%|██████████| 436/436 [00:18<00:00, 23.91it/s, v_num=0]"
     ]
    },
    {
     "name": "stderr",
     "output_type": "stream",
     "text": [
      "`Trainer.fit` stopped: `max_epochs=10` reached.\n"
     ]
    },
    {
     "name": "stdout",
     "output_type": "stream",
     "text": [
      "Epoch 9: 100%|██████████| 436/436 [00:18<00:00, 23.89it/s, v_num=0]\n"
     ]
    },
    {
     "name": "stderr",
     "output_type": "stream",
     "text": [
      "GPU available: False, used: False\n",
      "TPU available: False, using: 0 TPU cores\n",
      "IPU available: False, using: 0 IPUs\n",
      "HPU available: False, using: 0 HPUs\n",
      "Missing logger folder: runs/lr0.0001/RUAD_randfeatures0.25_9\n",
      "\n",
      "  | Name        | Type      | Params\n",
      "------------------------------------------\n",
      "0 | model       | RUAD      | 11.7 K\n",
      "1 | loss_fn     | MSELoss   | 0     \n",
      "2 | all_targets | CatMetric | 0     \n",
      "3 | all_labels  | CatMetric | 0     \n",
      "4 | all_preds   | CatMetric | 0     \n",
      "------------------------------------------\n",
      "11.7 K    Trainable params\n",
      "0         Non-trainable params\n",
      "11.7 K    Total params\n",
      "0.047     Total estimated model params size (MB)\n"
     ]
    },
    {
     "name": "stdout",
     "output_type": "stream",
     "text": [
      "                                                                           \r"
     ]
    },
    {
     "name": "stderr",
     "output_type": "stream",
     "text": [
      "/home/prahtz/workspace/nlp-ad-m100/env/lib/python3.8/site-packages/torchmetrics/utilities/prints.py:43: UserWarning: No positive samples in targets, true positive value should be meaningless. Returning zero tensor in true positive score\n",
      "  warnings.warn(*args, **kwargs)  # noqa: B028\n"
     ]
    },
    {
     "name": "stdout",
     "output_type": "stream",
     "text": [
      "Epoch 9: 100%|██████████| 441/441 [00:21<00:00, 20.41it/s, v_num=0]"
     ]
    },
    {
     "name": "stderr",
     "output_type": "stream",
     "text": [
      "`Trainer.fit` stopped: `max_epochs=10` reached.\n"
     ]
    },
    {
     "name": "stdout",
     "output_type": "stream",
     "text": [
      "Epoch 9: 100%|██████████| 441/441 [00:21<00:00, 20.40it/s, v_num=0]\n"
     ]
    },
    {
     "name": "stderr",
     "output_type": "stream",
     "text": [
      "GPU available: False, used: False\n",
      "TPU available: False, using: 0 TPU cores\n",
      "IPU available: False, using: 0 IPUs\n",
      "HPU available: False, using: 0 HPUs\n",
      "Missing logger folder: runs/lr0.0001/RUAD_randfeatures0.25_10\n",
      "\n",
      "  | Name        | Type      | Params\n",
      "------------------------------------------\n",
      "0 | model       | RUAD      | 11.7 K\n",
      "1 | loss_fn     | MSELoss   | 0     \n",
      "2 | all_targets | CatMetric | 0     \n",
      "3 | all_labels  | CatMetric | 0     \n",
      "4 | all_preds   | CatMetric | 0     \n",
      "------------------------------------------\n",
      "11.7 K    Trainable params\n",
      "0         Non-trainable params\n",
      "11.7 K    Total params\n",
      "0.047     Total estimated model params size (MB)\n"
     ]
    },
    {
     "name": "stdout",
     "output_type": "stream",
     "text": [
      "                                                                           \r"
     ]
    },
    {
     "name": "stderr",
     "output_type": "stream",
     "text": [
      "/home/prahtz/workspace/nlp-ad-m100/env/lib/python3.8/site-packages/torchmetrics/utilities/prints.py:43: UserWarning: No positive samples in targets, true positive value should be meaningless. Returning zero tensor in true positive score\n",
      "  warnings.warn(*args, **kwargs)  # noqa: B028\n"
     ]
    },
    {
     "name": "stdout",
     "output_type": "stream",
     "text": [
      "Epoch 9: 100%|██████████| 441/441 [00:20<00:00, 22.00it/s, v_num=0]"
     ]
    },
    {
     "name": "stderr",
     "output_type": "stream",
     "text": [
      "`Trainer.fit` stopped: `max_epochs=10` reached.\n"
     ]
    },
    {
     "name": "stdout",
     "output_type": "stream",
     "text": [
      "Epoch 9: 100%|██████████| 441/441 [00:20<00:00, 21.99it/s, v_num=0]\n"
     ]
    },
    {
     "name": "stderr",
     "output_type": "stream",
     "text": [
      "GPU available: False, used: False\n",
      "TPU available: False, using: 0 TPU cores\n",
      "IPU available: False, using: 0 IPUs\n",
      "HPU available: False, using: 0 HPUs\n",
      "Missing logger folder: runs/lr0.0001/RUAD_randfeatures0.25_11\n",
      "\n",
      "  | Name        | Type      | Params\n",
      "------------------------------------------\n",
      "0 | model       | RUAD      | 11.7 K\n",
      "1 | loss_fn     | MSELoss   | 0     \n",
      "2 | all_targets | CatMetric | 0     \n",
      "3 | all_labels  | CatMetric | 0     \n",
      "4 | all_preds   | CatMetric | 0     \n",
      "------------------------------------------\n",
      "11.7 K    Trainable params\n",
      "0         Non-trainable params\n",
      "11.7 K    Total params\n",
      "0.047     Total estimated model params size (MB)\n"
     ]
    },
    {
     "name": "stdout",
     "output_type": "stream",
     "text": [
      "                                                                           \r"
     ]
    },
    {
     "name": "stderr",
     "output_type": "stream",
     "text": [
      "/home/prahtz/workspace/nlp-ad-m100/env/lib/python3.8/site-packages/torchmetrics/utilities/prints.py:43: UserWarning: No positive samples in targets, true positive value should be meaningless. Returning zero tensor in true positive score\n",
      "  warnings.warn(*args, **kwargs)  # noqa: B028\n"
     ]
    },
    {
     "name": "stdout",
     "output_type": "stream",
     "text": [
      "Epoch 9: 100%|██████████| 441/441 [00:19<00:00, 22.12it/s, v_num=0]"
     ]
    },
    {
     "name": "stderr",
     "output_type": "stream",
     "text": [
      "`Trainer.fit` stopped: `max_epochs=10` reached.\n"
     ]
    },
    {
     "name": "stdout",
     "output_type": "stream",
     "text": [
      "Epoch 9: 100%|██████████| 441/441 [00:19<00:00, 22.11it/s, v_num=0]\n"
     ]
    },
    {
     "name": "stderr",
     "output_type": "stream",
     "text": [
      "GPU available: False, used: False\n",
      "TPU available: False, using: 0 TPU cores\n",
      "IPU available: False, using: 0 IPUs\n",
      "HPU available: False, using: 0 HPUs\n",
      "Missing logger folder: runs/lr0.0001/RUAD_randfeatures0.25_13\n",
      "\n",
      "  | Name        | Type      | Params\n",
      "------------------------------------------\n",
      "0 | model       | RUAD      | 11.7 K\n",
      "1 | loss_fn     | MSELoss   | 0     \n",
      "2 | all_targets | CatMetric | 0     \n",
      "3 | all_labels  | CatMetric | 0     \n",
      "4 | all_preds   | CatMetric | 0     \n",
      "------------------------------------------\n",
      "11.7 K    Trainable params\n",
      "0         Non-trainable params\n",
      "11.7 K    Total params\n",
      "0.047     Total estimated model params size (MB)\n"
     ]
    },
    {
     "name": "stdout",
     "output_type": "stream",
     "text": [
      "                                                                           \r"
     ]
    },
    {
     "name": "stderr",
     "output_type": "stream",
     "text": [
      "/home/prahtz/workspace/nlp-ad-m100/env/lib/python3.8/site-packages/torchmetrics/utilities/prints.py:43: UserWarning: No positive samples in targets, true positive value should be meaningless. Returning zero tensor in true positive score\n",
      "  warnings.warn(*args, **kwargs)  # noqa: B028\n"
     ]
    },
    {
     "name": "stdout",
     "output_type": "stream",
     "text": [
      "Epoch 9: 100%|██████████| 439/439 [00:18<00:00, 24.03it/s, v_num=0]"
     ]
    },
    {
     "name": "stderr",
     "output_type": "stream",
     "text": [
      "`Trainer.fit` stopped: `max_epochs=10` reached.\n"
     ]
    },
    {
     "name": "stdout",
     "output_type": "stream",
     "text": [
      "Epoch 9: 100%|██████████| 439/439 [00:18<00:00, 24.02it/s, v_num=0]\n"
     ]
    },
    {
     "name": "stderr",
     "output_type": "stream",
     "text": [
      "GPU available: False, used: False\n",
      "TPU available: False, using: 0 TPU cores\n",
      "IPU available: False, using: 0 IPUs\n",
      "HPU available: False, using: 0 HPUs\n",
      "Missing logger folder: runs/lr0.0001/RUAD_randfeatures0.25_14\n",
      "\n",
      "  | Name        | Type      | Params\n",
      "------------------------------------------\n",
      "0 | model       | RUAD      | 11.7 K\n",
      "1 | loss_fn     | MSELoss   | 0     \n",
      "2 | all_targets | CatMetric | 0     \n",
      "3 | all_labels  | CatMetric | 0     \n",
      "4 | all_preds   | CatMetric | 0     \n",
      "------------------------------------------\n",
      "11.7 K    Trainable params\n",
      "0         Non-trainable params\n",
      "11.7 K    Total params\n",
      "0.047     Total estimated model params size (MB)\n"
     ]
    },
    {
     "name": "stdout",
     "output_type": "stream",
     "text": [
      "                                                                           \r"
     ]
    },
    {
     "name": "stderr",
     "output_type": "stream",
     "text": [
      "/home/prahtz/workspace/nlp-ad-m100/env/lib/python3.8/site-packages/torchmetrics/utilities/prints.py:43: UserWarning: No positive samples in targets, true positive value should be meaningless. Returning zero tensor in true positive score\n",
      "  warnings.warn(*args, **kwargs)  # noqa: B028\n"
     ]
    },
    {
     "name": "stdout",
     "output_type": "stream",
     "text": [
      "Epoch 9: 100%|██████████| 437/437 [00:21<00:00, 20.01it/s, v_num=0]"
     ]
    },
    {
     "name": "stderr",
     "output_type": "stream",
     "text": [
      "`Trainer.fit` stopped: `max_epochs=10` reached.\n"
     ]
    },
    {
     "name": "stdout",
     "output_type": "stream",
     "text": [
      "Epoch 9: 100%|██████████| 437/437 [00:21<00:00, 19.99it/s, v_num=0]\n"
     ]
    },
    {
     "name": "stderr",
     "output_type": "stream",
     "text": [
      "GPU available: False, used: False\n",
      "TPU available: False, using: 0 TPU cores\n",
      "IPU available: False, using: 0 IPUs\n",
      "HPU available: False, using: 0 HPUs\n",
      "Missing logger folder: runs/lr0.0001/RUAD_randfeatures0.25_16\n",
      "\n",
      "  | Name        | Type      | Params\n",
      "------------------------------------------\n",
      "0 | model       | RUAD      | 11.7 K\n",
      "1 | loss_fn     | MSELoss   | 0     \n",
      "2 | all_targets | CatMetric | 0     \n",
      "3 | all_labels  | CatMetric | 0     \n",
      "4 | all_preds   | CatMetric | 0     \n",
      "------------------------------------------\n",
      "11.7 K    Trainable params\n",
      "0         Non-trainable params\n",
      "11.7 K    Total params\n",
      "0.047     Total estimated model params size (MB)\n"
     ]
    },
    {
     "name": "stdout",
     "output_type": "stream",
     "text": [
      "                                                                           \r"
     ]
    },
    {
     "name": "stderr",
     "output_type": "stream",
     "text": [
      "/home/prahtz/workspace/nlp-ad-m100/env/lib/python3.8/site-packages/torchmetrics/utilities/prints.py:43: UserWarning: No positive samples in targets, true positive value should be meaningless. Returning zero tensor in true positive score\n",
      "  warnings.warn(*args, **kwargs)  # noqa: B028\n"
     ]
    },
    {
     "name": "stdout",
     "output_type": "stream",
     "text": [
      "Epoch 9: 100%|██████████| 429/429 [00:18<00:00, 22.67it/s, v_num=0]"
     ]
    },
    {
     "name": "stderr",
     "output_type": "stream",
     "text": [
      "`Trainer.fit` stopped: `max_epochs=10` reached.\n"
     ]
    },
    {
     "name": "stdout",
     "output_type": "stream",
     "text": [
      "Epoch 9: 100%|██████████| 429/429 [00:18<00:00, 22.64it/s, v_num=0]\n"
     ]
    },
    {
     "name": "stderr",
     "output_type": "stream",
     "text": [
      "GPU available: False, used: False\n",
      "TPU available: False, using: 0 TPU cores\n",
      "IPU available: False, using: 0 IPUs\n",
      "HPU available: False, using: 0 HPUs\n",
      "Missing logger folder: runs/lr0.0001/RUAD_randfeatures0.25_17\n",
      "\n",
      "  | Name        | Type      | Params\n",
      "------------------------------------------\n",
      "0 | model       | RUAD      | 11.7 K\n",
      "1 | loss_fn     | MSELoss   | 0     \n",
      "2 | all_targets | CatMetric | 0     \n",
      "3 | all_labels  | CatMetric | 0     \n",
      "4 | all_preds   | CatMetric | 0     \n",
      "------------------------------------------\n",
      "11.7 K    Trainable params\n",
      "0         Non-trainable params\n",
      "11.7 K    Total params\n",
      "0.047     Total estimated model params size (MB)\n"
     ]
    },
    {
     "name": "stdout",
     "output_type": "stream",
     "text": [
      "                                                                           \r"
     ]
    },
    {
     "name": "stderr",
     "output_type": "stream",
     "text": [
      "/home/prahtz/workspace/nlp-ad-m100/env/lib/python3.8/site-packages/torchmetrics/utilities/prints.py:43: UserWarning: No positive samples in targets, true positive value should be meaningless. Returning zero tensor in true positive score\n",
      "  warnings.warn(*args, **kwargs)  # noqa: B028\n"
     ]
    },
    {
     "name": "stdout",
     "output_type": "stream",
     "text": [
      "Epoch 9: 100%|██████████| 437/437 [00:21<00:00, 20.28it/s, v_num=0]"
     ]
    },
    {
     "name": "stderr",
     "output_type": "stream",
     "text": [
      "`Trainer.fit` stopped: `max_epochs=10` reached.\n"
     ]
    },
    {
     "name": "stdout",
     "output_type": "stream",
     "text": [
      "Epoch 9: 100%|██████████| 437/437 [00:21<00:00, 20.25it/s, v_num=0]\n"
     ]
    },
    {
     "name": "stderr",
     "output_type": "stream",
     "text": [
      "GPU available: False, used: False\n",
      "TPU available: False, using: 0 TPU cores\n",
      "IPU available: False, using: 0 IPUs\n",
      "HPU available: False, using: 0 HPUs\n",
      "Missing logger folder: runs/lr0.0001/RUAD_randfeatures0.25_18\n",
      "\n",
      "  | Name        | Type      | Params\n",
      "------------------------------------------\n",
      "0 | model       | RUAD      | 11.7 K\n",
      "1 | loss_fn     | MSELoss   | 0     \n",
      "2 | all_targets | CatMetric | 0     \n",
      "3 | all_labels  | CatMetric | 0     \n",
      "4 | all_preds   | CatMetric | 0     \n",
      "------------------------------------------\n",
      "11.7 K    Trainable params\n",
      "0         Non-trainable params\n",
      "11.7 K    Total params\n",
      "0.047     Total estimated model params size (MB)\n"
     ]
    },
    {
     "name": "stdout",
     "output_type": "stream",
     "text": [
      "                                                                           \r"
     ]
    },
    {
     "name": "stderr",
     "output_type": "stream",
     "text": [
      "/home/prahtz/workspace/nlp-ad-m100/env/lib/python3.8/site-packages/torchmetrics/utilities/prints.py:43: UserWarning: No positive samples in targets, true positive value should be meaningless. Returning zero tensor in true positive score\n",
      "  warnings.warn(*args, **kwargs)  # noqa: B028\n"
     ]
    },
    {
     "name": "stdout",
     "output_type": "stream",
     "text": [
      "Epoch 9: 100%|██████████| 393/393 [00:19<00:00, 20.30it/s, v_num=0]"
     ]
    },
    {
     "name": "stderr",
     "output_type": "stream",
     "text": [
      "`Trainer.fit` stopped: `max_epochs=10` reached.\n"
     ]
    },
    {
     "name": "stdout",
     "output_type": "stream",
     "text": [
      "Epoch 9: 100%|██████████| 393/393 [00:19<00:00, 20.29it/s, v_num=0]\n"
     ]
    },
    {
     "name": "stderr",
     "output_type": "stream",
     "text": [
      "GPU available: False, used: False\n",
      "TPU available: False, using: 0 TPU cores\n",
      "IPU available: False, using: 0 IPUs\n",
      "HPU available: False, using: 0 HPUs\n",
      "Missing logger folder: runs/lr0.0001/RUAD_randfeatures0.25_19\n",
      "\n",
      "  | Name        | Type      | Params\n",
      "------------------------------------------\n",
      "0 | model       | RUAD      | 11.7 K\n",
      "1 | loss_fn     | MSELoss   | 0     \n",
      "2 | all_targets | CatMetric | 0     \n",
      "3 | all_labels  | CatMetric | 0     \n",
      "4 | all_preds   | CatMetric | 0     \n",
      "------------------------------------------\n",
      "11.7 K    Trainable params\n",
      "0         Non-trainable params\n",
      "11.7 K    Total params\n",
      "0.047     Total estimated model params size (MB)\n"
     ]
    },
    {
     "name": "stdout",
     "output_type": "stream",
     "text": [
      "                                                                           \r"
     ]
    },
    {
     "name": "stderr",
     "output_type": "stream",
     "text": [
      "/home/prahtz/workspace/nlp-ad-m100/env/lib/python3.8/site-packages/torchmetrics/utilities/prints.py:43: UserWarning: No positive samples in targets, true positive value should be meaningless. Returning zero tensor in true positive score\n",
      "  warnings.warn(*args, **kwargs)  # noqa: B028\n"
     ]
    },
    {
     "name": "stdout",
     "output_type": "stream",
     "text": [
      "Epoch 9: 100%|██████████| 380/380 [00:15<00:00, 24.17it/s, v_num=0]"
     ]
    },
    {
     "name": "stderr",
     "output_type": "stream",
     "text": [
      "`Trainer.fit` stopped: `max_epochs=10` reached.\n"
     ]
    },
    {
     "name": "stdout",
     "output_type": "stream",
     "text": [
      "Epoch 9: 100%|██████████| 380/380 [00:15<00:00, 24.16it/s, v_num=0]\n"
     ]
    }
   ],
   "source": [
    "percent = 0.25\n",
    "\n",
    "rand_features = np.random.choice([i for i in range(num_features)], int(num_features * percent)).tolist()\n",
    "for node in rack_0:\n",
    "    set_seed(seed)\n",
    "    file_path = root_path / f\"{node}.parquet\"\n",
    "\n",
    "    batch_collator_fn = partial(batch_collator, features_idx=rand_features)\n",
    "    train_dataset = TimeAggregatedNode(root_path=file_path, descriptions_path=\"descriptions.csv\", split=\"train\", window_size=window_size)\n",
    "    test_dataset = TimeAggregatedNode(root_path=file_path, descriptions_path=\"descriptions.csv\", split=\"test\", window_size=window_size)\n",
    "    train_loader = DataLoader(\n",
    "        dataset=train_dataset,\n",
    "        batch_size=batch_size,\n",
    "        num_workers=num_workers,\n",
    "        collate_fn=batch_collator_fn,\n",
    "        shuffle=True,\n",
    "    )\n",
    "    test_loader = DataLoader(\n",
    "        dataset=test_dataset,\n",
    "        batch_size=batch_size,\n",
    "        num_workers=num_workers,\n",
    "        collate_fn=batch_collator_fn,\n",
    "    )\n",
    "    model = RUADModule(RUAD(len(rand_features)), lr=lr, optimizer=\"adam\")\n",
    "    train(model, train_loader, test_loader, name=f\"lr{lr}/RUAD_randfeatures0.25_{node}\", num_epochs=10)"
   ]
  }
 ],
 "metadata": {
  "kernelspec": {
   "display_name": "Python 3 (ipykernel)",
   "language": "python",
   "name": "python3"
  },
  "language_info": {
   "codemirror_mode": {
    "name": "ipython",
    "version": 3
   },
   "file_extension": ".py",
   "mimetype": "text/x-python",
   "name": "python",
   "nbconvert_exporter": "python",
   "pygments_lexer": "ipython3",
   "version": "3.8.16"
  }
 },
 "nbformat": 4,
 "nbformat_minor": 4
}
